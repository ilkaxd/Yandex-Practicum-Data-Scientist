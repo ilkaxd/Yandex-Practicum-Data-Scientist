{
 "cells": [
  {
   "cell_type": "markdown",
   "metadata": {},
   "source": [
    "# <a name=\"0.0\"></a>Содержание:\n",
    "* [Описание проекта](#0.)\n",
    "    - [Описание данных](#0.1.)\n",
    "* [Шаг 1. Загружаем и подготавливаем данные](#1.)\n",
    "    - [Вывод](#1.1.)\n",
    "* [Шаг 2. Обучаем разные модели](#2.)\n",
    "* [Шаг 3. Анализируем скорость и качество моделей](#3.)\n",
    "    - [Линейная регрессия](#3.1.)\n",
    "    - [Решающее дерево](#3.2.)\n",
    "    - [Случайный лес](#3.3.)\n",
    "    - [Градиентный бустинг](#3.4.)\n",
    "    - [Оценка значимости признаков](#3.5.)\n",
    "    - [Вывод](#3.6.)"
   ]
  },
  {
   "cell_type": "markdown",
   "metadata": {},
   "source": [
    "<a name=\"0.\"></a>\n",
    "# Описание проекта\n",
    "\n",
    "Для сервиса по продаже автомобилей разрабатывается система по прогнозированию рыночной цены автомобиля. В нашем распоряжении исторические данные: технические характеристики, комплектации и цены автомобилей. Необходимо построить модель для определения стоимости\n",
    "\n",
    "Заказчику важны:\n",
    "\n",
    "- качество предсказания;\n",
    "- скорость предсказания;\n",
    "- время обучения.\n",
    "\n",
    "Для оценки качества моделей используем метрику RMSE\n",
    "\n",
    "<br>\n",
    "\n",
    "<font size=\"2\">([к содержанию](#0.0))</font>"
   ]
  },
  {
   "cell_type": "markdown",
   "metadata": {},
   "source": [
    "<a name=\"0.1.\"></a>\n",
    "## Описание данных:\n",
    "\n",
    "Входные данные:\n",
    "- DateCrawled — дата скачивания анкеты из базы\n",
    "- VehicleType — тип автомобильного кузова\n",
    "- RegistrationYear — год регистрации автомобиля\n",
    "- Gearbox — тип коробки передач\n",
    "- Power — мощность (л. с.)\n",
    "- Model — модель автомобиля\n",
    "- Kilometer — пробег (км)\n",
    "- RegistrationMonth — месяц регистрации автомобиля\n",
    "- FuelType — тип топлива\n",
    "- Brand — марка автомобиля\n",
    "- NotRepaired — была машина в ремонте или нет\n",
    "- DateCreated — дата создания анкеты\n",
    "- NumberOfPictures — количество фотографий автомобиля\n",
    "- PostalCode — почтовый индекс владельца анкеты (пользователя)\n",
    "- LastSeen — дата последней активности пользователя\n",
    "\n",
    "Целевой признак:\n",
    "- Price — цена (евро)\n",
    "<br>\n",
    "\n",
    "<font size=\"2\">([к содержанию](#0.0))</font>"
   ]
  },
  {
   "cell_type": "markdown",
   "metadata": {},
   "source": [
    "<a name=\"1.\"></a>\n",
    "# Шаг 1. Загружаем и подготавливаем данные\n",
    "\n",
    "\n",
    "<font size=\"2\">([к содержанию](#0.0))</font>"
   ]
  },
  {
   "cell_type": "code",
   "execution_count": 1,
   "metadata": {},
   "outputs": [],
   "source": [
    "import pandas as pd\n",
    "\n",
    "from sklearn.metrics import mean_squared_error\n",
    "\n",
    "from sklearn.ensemble import RandomForestRegressor\n",
    "from sklearn.tree import DecisionTreeRegressor\n",
    "from sklearn.linear_model import LinearRegression\n",
    "from lightgbm import LGBMRegressor\n",
    "\n",
    "from sklearn.model_selection import train_test_split\n",
    "from sklearn.model_selection import GridSearchCV\n",
    "\n",
    "from sklearn.preprocessing import OrdinalEncoder\n",
    "from sklearn.preprocessing import StandardScaler\n",
    "\n",
    "import matplotlib.pyplot as plt \n",
    "import seaborn as sns\n",
    "\n",
    "from sklearn.model_selection import cross_val_score\n",
    "import random"
   ]
  },
  {
   "cell_type": "code",
   "execution_count": 2,
   "metadata": {},
   "outputs": [
    {
     "data": {
      "text/html": [
       "<div>\n",
       "<style scoped>\n",
       "    .dataframe tbody tr th:only-of-type {\n",
       "        vertical-align: middle;\n",
       "    }\n",
       "\n",
       "    .dataframe tbody tr th {\n",
       "        vertical-align: top;\n",
       "    }\n",
       "\n",
       "    .dataframe thead th {\n",
       "        text-align: right;\n",
       "    }\n",
       "</style>\n",
       "<table border=\"1\" class=\"dataframe\">\n",
       "  <thead>\n",
       "    <tr style=\"text-align: right;\">\n",
       "      <th></th>\n",
       "      <th>DateCrawled</th>\n",
       "      <th>Price</th>\n",
       "      <th>VehicleType</th>\n",
       "      <th>RegistrationYear</th>\n",
       "      <th>Gearbox</th>\n",
       "      <th>Power</th>\n",
       "      <th>Model</th>\n",
       "      <th>Kilometer</th>\n",
       "      <th>RegistrationMonth</th>\n",
       "      <th>FuelType</th>\n",
       "      <th>Brand</th>\n",
       "      <th>NotRepaired</th>\n",
       "      <th>DateCreated</th>\n",
       "      <th>NumberOfPictures</th>\n",
       "      <th>PostalCode</th>\n",
       "      <th>LastSeen</th>\n",
       "    </tr>\n",
       "  </thead>\n",
       "  <tbody>\n",
       "    <tr>\n",
       "      <th>0</th>\n",
       "      <td>2016-03-24 11:52:17</td>\n",
       "      <td>480</td>\n",
       "      <td>NaN</td>\n",
       "      <td>1993</td>\n",
       "      <td>manual</td>\n",
       "      <td>0</td>\n",
       "      <td>golf</td>\n",
       "      <td>150000</td>\n",
       "      <td>0</td>\n",
       "      <td>petrol</td>\n",
       "      <td>volkswagen</td>\n",
       "      <td>NaN</td>\n",
       "      <td>2016-03-24 00:00:00</td>\n",
       "      <td>0</td>\n",
       "      <td>70435</td>\n",
       "      <td>2016-04-07 03:16:57</td>\n",
       "    </tr>\n",
       "    <tr>\n",
       "      <th>1</th>\n",
       "      <td>2016-03-24 10:58:45</td>\n",
       "      <td>18300</td>\n",
       "      <td>coupe</td>\n",
       "      <td>2011</td>\n",
       "      <td>manual</td>\n",
       "      <td>190</td>\n",
       "      <td>NaN</td>\n",
       "      <td>125000</td>\n",
       "      <td>5</td>\n",
       "      <td>gasoline</td>\n",
       "      <td>audi</td>\n",
       "      <td>yes</td>\n",
       "      <td>2016-03-24 00:00:00</td>\n",
       "      <td>0</td>\n",
       "      <td>66954</td>\n",
       "      <td>2016-04-07 01:46:50</td>\n",
       "    </tr>\n",
       "    <tr>\n",
       "      <th>2</th>\n",
       "      <td>2016-03-14 12:52:21</td>\n",
       "      <td>9800</td>\n",
       "      <td>suv</td>\n",
       "      <td>2004</td>\n",
       "      <td>auto</td>\n",
       "      <td>163</td>\n",
       "      <td>grand</td>\n",
       "      <td>125000</td>\n",
       "      <td>8</td>\n",
       "      <td>gasoline</td>\n",
       "      <td>jeep</td>\n",
       "      <td>NaN</td>\n",
       "      <td>2016-03-14 00:00:00</td>\n",
       "      <td>0</td>\n",
       "      <td>90480</td>\n",
       "      <td>2016-04-05 12:47:46</td>\n",
       "    </tr>\n",
       "    <tr>\n",
       "      <th>3</th>\n",
       "      <td>2016-03-17 16:54:04</td>\n",
       "      <td>1500</td>\n",
       "      <td>small</td>\n",
       "      <td>2001</td>\n",
       "      <td>manual</td>\n",
       "      <td>75</td>\n",
       "      <td>golf</td>\n",
       "      <td>150000</td>\n",
       "      <td>6</td>\n",
       "      <td>petrol</td>\n",
       "      <td>volkswagen</td>\n",
       "      <td>no</td>\n",
       "      <td>2016-03-17 00:00:00</td>\n",
       "      <td>0</td>\n",
       "      <td>91074</td>\n",
       "      <td>2016-03-17 17:40:17</td>\n",
       "    </tr>\n",
       "    <tr>\n",
       "      <th>4</th>\n",
       "      <td>2016-03-31 17:25:20</td>\n",
       "      <td>3600</td>\n",
       "      <td>small</td>\n",
       "      <td>2008</td>\n",
       "      <td>manual</td>\n",
       "      <td>69</td>\n",
       "      <td>fabia</td>\n",
       "      <td>90000</td>\n",
       "      <td>7</td>\n",
       "      <td>gasoline</td>\n",
       "      <td>skoda</td>\n",
       "      <td>no</td>\n",
       "      <td>2016-03-31 00:00:00</td>\n",
       "      <td>0</td>\n",
       "      <td>60437</td>\n",
       "      <td>2016-04-06 10:17:21</td>\n",
       "    </tr>\n",
       "  </tbody>\n",
       "</table>\n",
       "</div>"
      ],
      "text/plain": [
       "           DateCrawled  Price VehicleType  RegistrationYear Gearbox  Power  \\\n",
       "0  2016-03-24 11:52:17    480         NaN              1993  manual      0   \n",
       "1  2016-03-24 10:58:45  18300       coupe              2011  manual    190   \n",
       "2  2016-03-14 12:52:21   9800         suv              2004    auto    163   \n",
       "3  2016-03-17 16:54:04   1500       small              2001  manual     75   \n",
       "4  2016-03-31 17:25:20   3600       small              2008  manual     69   \n",
       "\n",
       "   Model  Kilometer  RegistrationMonth  FuelType       Brand NotRepaired  \\\n",
       "0   golf     150000                  0    petrol  volkswagen         NaN   \n",
       "1    NaN     125000                  5  gasoline        audi         yes   \n",
       "2  grand     125000                  8  gasoline        jeep         NaN   \n",
       "3   golf     150000                  6    petrol  volkswagen          no   \n",
       "4  fabia      90000                  7  gasoline       skoda          no   \n",
       "\n",
       "           DateCreated  NumberOfPictures  PostalCode             LastSeen  \n",
       "0  2016-03-24 00:00:00                 0       70435  2016-04-07 03:16:57  \n",
       "1  2016-03-24 00:00:00                 0       66954  2016-04-07 01:46:50  \n",
       "2  2016-03-14 00:00:00                 0       90480  2016-04-05 12:47:46  \n",
       "3  2016-03-17 00:00:00                 0       91074  2016-03-17 17:40:17  \n",
       "4  2016-03-31 00:00:00                 0       60437  2016-04-06 10:17:21  "
      ]
     },
     "execution_count": 2,
     "metadata": {},
     "output_type": "execute_result"
    }
   ],
   "source": [
    "data = pd.read_csv('datasets/autos.csv')\n",
    "data.head()"
   ]
  },
  {
   "cell_type": "code",
   "execution_count": 3,
   "metadata": {},
   "outputs": [
    {
     "name": "stdout",
     "output_type": "stream",
     "text": [
      "<class 'pandas.core.frame.DataFrame'>\n",
      "RangeIndex: 354369 entries, 0 to 354368\n",
      "Data columns (total 16 columns):\n",
      " #   Column             Non-Null Count   Dtype \n",
      "---  ------             --------------   ----- \n",
      " 0   DateCrawled        354369 non-null  object\n",
      " 1   Price              354369 non-null  int64 \n",
      " 2   VehicleType        316879 non-null  object\n",
      " 3   RegistrationYear   354369 non-null  int64 \n",
      " 4   Gearbox            334536 non-null  object\n",
      " 5   Power              354369 non-null  int64 \n",
      " 6   Model              334664 non-null  object\n",
      " 7   Kilometer          354369 non-null  int64 \n",
      " 8   RegistrationMonth  354369 non-null  int64 \n",
      " 9   FuelType           321474 non-null  object\n",
      " 10  Brand              354369 non-null  object\n",
      " 11  NotRepaired        283215 non-null  object\n",
      " 12  DateCreated        354369 non-null  object\n",
      " 13  NumberOfPictures   354369 non-null  int64 \n",
      " 14  PostalCode         354369 non-null  int64 \n",
      " 15  LastSeen           354369 non-null  object\n",
      "dtypes: int64(7), object(9)\n",
      "memory usage: 43.3+ MB\n"
     ]
    }
   ],
   "source": [
    "data.info()"
   ]
  },
  {
   "cell_type": "code",
   "execution_count": 4,
   "metadata": {},
   "outputs": [
    {
     "data": {
      "text/html": [
       "<div>\n",
       "<style scoped>\n",
       "    .dataframe tbody tr th:only-of-type {\n",
       "        vertical-align: middle;\n",
       "    }\n",
       "\n",
       "    .dataframe tbody tr th {\n",
       "        vertical-align: top;\n",
       "    }\n",
       "\n",
       "    .dataframe thead th {\n",
       "        text-align: right;\n",
       "    }\n",
       "</style>\n",
       "<table border=\"1\" class=\"dataframe\">\n",
       "  <thead>\n",
       "    <tr style=\"text-align: right;\">\n",
       "      <th></th>\n",
       "      <th>Price</th>\n",
       "      <th>RegistrationYear</th>\n",
       "      <th>Power</th>\n",
       "      <th>Kilometer</th>\n",
       "      <th>RegistrationMonth</th>\n",
       "      <th>NumberOfPictures</th>\n",
       "      <th>PostalCode</th>\n",
       "    </tr>\n",
       "  </thead>\n",
       "  <tbody>\n",
       "    <tr>\n",
       "      <th>count</th>\n",
       "      <td>354369.000000</td>\n",
       "      <td>354369.000000</td>\n",
       "      <td>354369.000000</td>\n",
       "      <td>354369.000000</td>\n",
       "      <td>354369.000000</td>\n",
       "      <td>354369.0</td>\n",
       "      <td>354369.000000</td>\n",
       "    </tr>\n",
       "    <tr>\n",
       "      <th>mean</th>\n",
       "      <td>4416.656776</td>\n",
       "      <td>2004.234448</td>\n",
       "      <td>110.094337</td>\n",
       "      <td>128211.172535</td>\n",
       "      <td>5.714645</td>\n",
       "      <td>0.0</td>\n",
       "      <td>50508.689087</td>\n",
       "    </tr>\n",
       "    <tr>\n",
       "      <th>std</th>\n",
       "      <td>4514.158514</td>\n",
       "      <td>90.227958</td>\n",
       "      <td>189.850405</td>\n",
       "      <td>37905.341530</td>\n",
       "      <td>3.726421</td>\n",
       "      <td>0.0</td>\n",
       "      <td>25783.096248</td>\n",
       "    </tr>\n",
       "    <tr>\n",
       "      <th>min</th>\n",
       "      <td>0.000000</td>\n",
       "      <td>1000.000000</td>\n",
       "      <td>0.000000</td>\n",
       "      <td>5000.000000</td>\n",
       "      <td>0.000000</td>\n",
       "      <td>0.0</td>\n",
       "      <td>1067.000000</td>\n",
       "    </tr>\n",
       "    <tr>\n",
       "      <th>25%</th>\n",
       "      <td>1050.000000</td>\n",
       "      <td>1999.000000</td>\n",
       "      <td>69.000000</td>\n",
       "      <td>125000.000000</td>\n",
       "      <td>3.000000</td>\n",
       "      <td>0.0</td>\n",
       "      <td>30165.000000</td>\n",
       "    </tr>\n",
       "    <tr>\n",
       "      <th>50%</th>\n",
       "      <td>2700.000000</td>\n",
       "      <td>2003.000000</td>\n",
       "      <td>105.000000</td>\n",
       "      <td>150000.000000</td>\n",
       "      <td>6.000000</td>\n",
       "      <td>0.0</td>\n",
       "      <td>49413.000000</td>\n",
       "    </tr>\n",
       "    <tr>\n",
       "      <th>75%</th>\n",
       "      <td>6400.000000</td>\n",
       "      <td>2008.000000</td>\n",
       "      <td>143.000000</td>\n",
       "      <td>150000.000000</td>\n",
       "      <td>9.000000</td>\n",
       "      <td>0.0</td>\n",
       "      <td>71083.000000</td>\n",
       "    </tr>\n",
       "    <tr>\n",
       "      <th>max</th>\n",
       "      <td>20000.000000</td>\n",
       "      <td>9999.000000</td>\n",
       "      <td>20000.000000</td>\n",
       "      <td>150000.000000</td>\n",
       "      <td>12.000000</td>\n",
       "      <td>0.0</td>\n",
       "      <td>99998.000000</td>\n",
       "    </tr>\n",
       "  </tbody>\n",
       "</table>\n",
       "</div>"
      ],
      "text/plain": [
       "               Price  RegistrationYear          Power      Kilometer  \\\n",
       "count  354369.000000     354369.000000  354369.000000  354369.000000   \n",
       "mean     4416.656776       2004.234448     110.094337  128211.172535   \n",
       "std      4514.158514         90.227958     189.850405   37905.341530   \n",
       "min         0.000000       1000.000000       0.000000    5000.000000   \n",
       "25%      1050.000000       1999.000000      69.000000  125000.000000   \n",
       "50%      2700.000000       2003.000000     105.000000  150000.000000   \n",
       "75%      6400.000000       2008.000000     143.000000  150000.000000   \n",
       "max     20000.000000       9999.000000   20000.000000  150000.000000   \n",
       "\n",
       "       RegistrationMonth  NumberOfPictures     PostalCode  \n",
       "count      354369.000000          354369.0  354369.000000  \n",
       "mean            5.714645               0.0   50508.689087  \n",
       "std             3.726421               0.0   25783.096248  \n",
       "min             0.000000               0.0    1067.000000  \n",
       "25%             3.000000               0.0   30165.000000  \n",
       "50%             6.000000               0.0   49413.000000  \n",
       "75%             9.000000               0.0   71083.000000  \n",
       "max            12.000000               0.0   99998.000000  "
      ]
     },
     "execution_count": 4,
     "metadata": {},
     "output_type": "execute_result"
    }
   ],
   "source": [
    "data.describe()"
   ]
  },
  {
   "cell_type": "code",
   "execution_count": 5,
   "metadata": {},
   "outputs": [],
   "source": [
    "# Отбросим лишние столбцы с датами\n",
    "data.drop(['DateCrawled', 'DateCreated', 'LastSeen'],\n",
    "          axis=1, inplace=True)"
   ]
  },
  {
   "cell_type": "code",
   "execution_count": 6,
   "metadata": {},
   "outputs": [
    {
     "data": {
      "text/plain": [
       "sedan          91457\n",
       "small          79831\n",
       "wagon          65166\n",
       "bus            28775\n",
       "convertible    20203\n",
       "coupe          16163\n",
       "suv            11996\n",
       "other           3288\n",
       "Name: VehicleType, dtype: int64"
      ]
     },
     "execution_count": 6,
     "metadata": {},
     "output_type": "execute_result"
    }
   ],
   "source": [
    "data['VehicleType'].value_counts()"
   ]
  },
  {
   "cell_type": "code",
   "execution_count": 7,
   "metadata": {},
   "outputs": [
    {
     "data": {
      "text/plain": [
       "RegistrationYear\n",
       "1000                 37\n",
       "1001                  1\n",
       "1039                  1\n",
       "1111                  3\n",
       "1200                  1\n",
       "1234                  4\n",
       "1253                  1\n",
       "1255                  1\n",
       "1300                  2\n",
       "1400                  1\n",
       "1500                  5\n",
       "1600                  2\n",
       "1602                  1\n",
       "1688                  1\n",
       "1800                  5\n",
       "1910                101\n",
       "1915                  1\n",
       "1919                  1\n",
       "1920                  1\n",
       "1923                  2\n",
       "dtype: int64"
      ]
     },
     "execution_count": 7,
     "metadata": {},
     "output_type": "execute_result"
    }
   ],
   "source": [
    "data[['RegistrationYear']].value_counts().sort_index().head(20)"
   ]
  },
  {
   "cell_type": "code",
   "execution_count": 8,
   "metadata": {},
   "outputs": [
    {
     "data": {
      "image/png": "[encoded data removed]",
      "text/plain": [
       "<Figure size 1440x360 with 1 Axes>"
      ]
     },
     "metadata": {
      "needs_background": "light"
     },
     "output_type": "display_data"
    }
   ],
   "source": [
    "plt.figure(figsize=(20, 5))\n",
    "data['RegistrationYear'].hist(bins=100)\n",
    "plt.show()"
   ]
  },
  {
   "cell_type": "code",
   "execution_count": 9,
   "metadata": {},
   "outputs": [
    {
     "name": "stdout",
     "output_type": "stream",
     "text": [
      "Пустых значений не обнаружено\n"
     ]
    }
   ],
   "source": [
    "empty_values_RegistrationYear = data['RegistrationYear'].isna().sum()\n",
    "if empty_values_RegistrationYear == 0:\n",
    "    print('Пустых значений не обнаружено')\n",
    "else:\n",
    "    print(f'Найдено {empty_values_RegistrationYear} значений')"
   ]
  },
  {
   "cell_type": "code",
   "execution_count": 10,
   "metadata": {},
   "outputs": [],
   "source": [
    "# Оставим только валидные даты\n",
    "data = data.query('1970 <= RegistrationYear < 2021')"
   ]
  },
  {
   "cell_type": "code",
   "execution_count": 11,
   "metadata": {},
   "outputs": [
    {
     "data": {
      "text/plain": [
       "<seaborn.axisgrid.FacetGrid at 0x21f9a18dcd0>"
      ]
     },
     "execution_count": 11,
     "metadata": {},
     "output_type": "execute_result"
    },
    {
     "data": {
      "image/png": "[encoded data removed]",
      "text/plain": [
       "<Figure size 1080x360 with 1 Axes>"
      ]
     },
     "metadata": {
      "needs_background": "light"
     },
     "output_type": "display_data"
    }
   ],
   "source": [
    "sns.displot(data['RegistrationYear'], bins=50, kde=True, aspect=3)"
   ]
  },
  {
   "cell_type": "code",
   "execution_count": 12,
   "metadata": {},
   "outputs": [
    {
     "data": {
      "text/plain": [
       "manual    267478\n",
       "auto       66101\n",
       "Name: Gearbox, dtype: int64"
      ]
     },
     "execution_count": 12,
     "metadata": {},
     "output_type": "execute_result"
    }
   ],
   "source": [
    "data.Gearbox.value_counts()"
   ]
  },
  {
   "cell_type": "code",
   "execution_count": 13,
   "metadata": {},
   "outputs": [
    {
     "data": {
      "text/html": [
       "<div>\n",
       "<style scoped>\n",
       "    .dataframe tbody tr th:only-of-type {\n",
       "        vertical-align: middle;\n",
       "    }\n",
       "\n",
       "    .dataframe tbody tr th {\n",
       "        vertical-align: top;\n",
       "    }\n",
       "\n",
       "    .dataframe thead th {\n",
       "        text-align: right;\n",
       "    }\n",
       "</style>\n",
       "<table border=\"1\" class=\"dataframe\">\n",
       "  <thead>\n",
       "    <tr style=\"text-align: right;\">\n",
       "      <th></th>\n",
       "      <th>index</th>\n",
       "      <th>Power</th>\n",
       "    </tr>\n",
       "  </thead>\n",
       "  <tbody>\n",
       "    <tr>\n",
       "      <th>0</th>\n",
       "      <td>0</td>\n",
       "      <td>39579</td>\n",
       "    </tr>\n",
       "    <tr>\n",
       "      <th>229</th>\n",
       "      <td>1</td>\n",
       "      <td>33</td>\n",
       "    </tr>\n",
       "    <tr>\n",
       "      <th>304</th>\n",
       "      <td>2</td>\n",
       "      <td>10</td>\n",
       "    </tr>\n",
       "    <tr>\n",
       "      <th>315</th>\n",
       "      <td>3</td>\n",
       "      <td>8</td>\n",
       "    </tr>\n",
       "    <tr>\n",
       "      <th>239</th>\n",
       "      <td>4</td>\n",
       "      <td>30</td>\n",
       "    </tr>\n",
       "    <tr>\n",
       "      <th>...</th>\n",
       "      <td>...</td>\n",
       "      <td>...</td>\n",
       "    </tr>\n",
       "    <tr>\n",
       "      <th>473</th>\n",
       "      <td>17932</td>\n",
       "      <td>1</td>\n",
       "    </tr>\n",
       "    <tr>\n",
       "      <th>484</th>\n",
       "      <td>19208</td>\n",
       "      <td>1</td>\n",
       "    </tr>\n",
       "    <tr>\n",
       "      <th>487</th>\n",
       "      <td>19211</td>\n",
       "      <td>1</td>\n",
       "    </tr>\n",
       "    <tr>\n",
       "      <th>606</th>\n",
       "      <td>19312</td>\n",
       "      <td>1</td>\n",
       "    </tr>\n",
       "    <tr>\n",
       "      <th>533</th>\n",
       "      <td>20000</td>\n",
       "      <td>1</td>\n",
       "    </tr>\n",
       "  </tbody>\n",
       "</table>\n",
       "<p>707 rows × 2 columns</p>\n",
       "</div>"
      ],
      "text/plain": [
       "     index  Power\n",
       "0        0  39579\n",
       "229      1     33\n",
       "304      2     10\n",
       "315      3      8\n",
       "239      4     30\n",
       "..     ...    ...\n",
       "473  17932      1\n",
       "484  19208      1\n",
       "487  19211      1\n",
       "606  19312      1\n",
       "533  20000      1\n",
       "\n",
       "[707 rows x 2 columns]"
      ]
     },
     "execution_count": 13,
     "metadata": {},
     "output_type": "execute_result"
    }
   ],
   "source": [
    "# Devel Sixteen (5000 л. с.) самый мощный двигатель, но у нас же не спорт кары\n",
    "data.Power.value_counts().reset_index().sort_values(by='index')"
   ]
  },
  {
   "cell_type": "code",
   "execution_count": 14,
   "metadata": {},
   "outputs": [],
   "source": [
    "data = data.query('Power < 600')"
   ]
  },
  {
   "cell_type": "code",
   "execution_count": 15,
   "metadata": {},
   "outputs": [
    {
     "data": {
      "text/plain": [
       "<seaborn.axisgrid.FacetGrid at 0x21f993fa310>"
      ]
     },
     "execution_count": 15,
     "metadata": {},
     "output_type": "execute_result"
    },
    {
     "data": {
      "image/png": "[encoded data removed]",
      "text/plain": [
       "<Figure size 1080x360 with 1 Axes>"
      ]
     },
     "metadata": {
      "needs_background": "light"
     },
     "output_type": "display_data"
    }
   ],
   "source": [
    "sns.displot(data['Power'], bins=50, kde=True, aspect=3)"
   ]
  },
  {
   "cell_type": "markdown",
   "metadata": {},
   "source": [
    "Строки с мощностью равной 0 обрабатывать не будем, так как заполнение медианным значением может привести к ошибке второго рода."
   ]
  },
  {
   "cell_type": "code",
   "execution_count": 16,
   "metadata": {},
   "outputs": [
    {
     "data": {
      "text/plain": [
       "golf                  29192\n",
       "other                 23850\n",
       "3er                   19738\n",
       "polo                  13044\n",
       "corsa                 12545\n",
       "                      ...  \n",
       "serie_2                   5\n",
       "rangerover                4\n",
       "serie_3                   4\n",
       "serie_1                   2\n",
       "range_rover_evoque        2\n",
       "Name: Model, Length: 250, dtype: int64"
      ]
     },
     "execution_count": 16,
     "metadata": {},
     "output_type": "execute_result"
    }
   ],
   "source": [
    "data.Model.value_counts()"
   ]
  },
  {
   "cell_type": "code",
   "execution_count": 17,
   "metadata": {},
   "outputs": [
    {
     "data": {
      "text/plain": [
       "150000    237666\n",
       "125000     36350\n",
       "100000     14711\n",
       "90000      11485\n",
       "80000       9986\n",
       "70000       8519\n",
       "60000       7371\n",
       "50000       6159\n",
       "5000        6002\n",
       "40000       4864\n",
       "30000       4379\n",
       "20000       3925\n",
       "10000       1132\n",
       "Name: Kilometer, dtype: int64"
      ]
     },
     "execution_count": 17,
     "metadata": {},
     "output_type": "execute_result"
    }
   ],
   "source": [
    "data.Kilometer.value_counts()"
   ]
  },
  {
   "cell_type": "code",
   "execution_count": 18,
   "metadata": {},
   "outputs": [
    {
     "data": {
      "text/html": [
       "<div>\n",
       "<style scoped>\n",
       "    .dataframe tbody tr th:only-of-type {\n",
       "        vertical-align: middle;\n",
       "    }\n",
       "\n",
       "    .dataframe tbody tr th {\n",
       "        vertical-align: top;\n",
       "    }\n",
       "\n",
       "    .dataframe thead th {\n",
       "        text-align: right;\n",
       "    }\n",
       "</style>\n",
       "<table border=\"1\" class=\"dataframe\">\n",
       "  <thead>\n",
       "    <tr style=\"text-align: right;\">\n",
       "      <th></th>\n",
       "      <th>index</th>\n",
       "      <th>RegistrationMonth</th>\n",
       "    </tr>\n",
       "  </thead>\n",
       "  <tbody>\n",
       "    <tr>\n",
       "      <th>0</th>\n",
       "      <td>0</td>\n",
       "      <td>36862</td>\n",
       "    </tr>\n",
       "    <tr>\n",
       "      <th>10</th>\n",
       "      <td>1</td>\n",
       "      <td>23022</td>\n",
       "    </tr>\n",
       "    <tr>\n",
       "      <th>12</th>\n",
       "      <td>2</td>\n",
       "      <td>21183</td>\n",
       "    </tr>\n",
       "    <tr>\n",
       "      <th>1</th>\n",
       "      <td>3</td>\n",
       "      <td>34236</td>\n",
       "    </tr>\n",
       "    <tr>\n",
       "      <th>3</th>\n",
       "      <td>4</td>\n",
       "      <td>29170</td>\n",
       "    </tr>\n",
       "    <tr>\n",
       "      <th>4</th>\n",
       "      <td>5</td>\n",
       "      <td>29047</td>\n",
       "    </tr>\n",
       "    <tr>\n",
       "      <th>2</th>\n",
       "      <td>6</td>\n",
       "      <td>31354</td>\n",
       "    </tr>\n",
       "    <tr>\n",
       "      <th>5</th>\n",
       "      <td>7</td>\n",
       "      <td>26996</td>\n",
       "    </tr>\n",
       "    <tr>\n",
       "      <th>11</th>\n",
       "      <td>8</td>\n",
       "      <td>22552</td>\n",
       "    </tr>\n",
       "    <tr>\n",
       "      <th>9</th>\n",
       "      <td>9</td>\n",
       "      <td>23737</td>\n",
       "    </tr>\n",
       "    <tr>\n",
       "      <th>6</th>\n",
       "      <td>10</td>\n",
       "      <td>26038</td>\n",
       "    </tr>\n",
       "    <tr>\n",
       "      <th>8</th>\n",
       "      <td>11</td>\n",
       "      <td>24135</td>\n",
       "    </tr>\n",
       "    <tr>\n",
       "      <th>7</th>\n",
       "      <td>12</td>\n",
       "      <td>24217</td>\n",
       "    </tr>\n",
       "  </tbody>\n",
       "</table>\n",
       "</div>"
      ],
      "text/plain": [
       "    index  RegistrationMonth\n",
       "0       0              36862\n",
       "10      1              23022\n",
       "12      2              21183\n",
       "1       3              34236\n",
       "3       4              29170\n",
       "4       5              29047\n",
       "2       6              31354\n",
       "5       7              26996\n",
       "11      8              22552\n",
       "9       9              23737\n",
       "6      10              26038\n",
       "8      11              24135\n",
       "7      12              24217"
      ]
     },
     "execution_count": 18,
     "metadata": {},
     "output_type": "execute_result"
    }
   ],
   "source": [
    "data.RegistrationMonth.value_counts().reset_index().sort_values(by='index')"
   ]
  },
  {
   "cell_type": "code",
   "execution_count": 19,
   "metadata": {},
   "outputs": [
    {
     "data": {
      "text/plain": [
       "petrol      215216\n",
       "gasoline     98591\n",
       "lpg           5302\n",
       "cng            562\n",
       "hybrid         231\n",
       "other          187\n",
       "electric        88\n",
       "Name: FuelType, dtype: int64"
      ]
     },
     "execution_count": 19,
     "metadata": {},
     "output_type": "execute_result"
    }
   ],
   "source": [
    "data.FuelType.value_counts()"
   ]
  },
  {
   "cell_type": "code",
   "execution_count": 20,
   "metadata": {},
   "outputs": [
    {
     "data": {
      "text/plain": [
       "volkswagen        76764\n",
       "opel              39751\n",
       "bmw               36835\n",
       "mercedes_benz     31890\n",
       "audi              29405\n",
       "ford              25013\n",
       "renault           17881\n",
       "peugeot           10974\n",
       "fiat               9559\n",
       "seat               6895\n",
       "mazda              5606\n",
       "skoda              5489\n",
       "smart              5240\n",
       "citroen            5112\n",
       "nissan             4935\n",
       "toyota             4600\n",
       "hyundai            3583\n",
       "mini               3195\n",
       "volvo              3168\n",
       "mitsubishi         3014\n",
       "sonstige_autos     2973\n",
       "honda              2812\n",
       "kia                2462\n",
       "suzuki             2321\n",
       "alfa_romeo         2298\n",
       "chevrolet          1704\n",
       "chrysler           1422\n",
       "dacia               899\n",
       "daihatsu            806\n",
       "subaru              757\n",
       "porsche             736\n",
       "jeep                657\n",
       "daewoo              541\n",
       "land_rover          539\n",
       "saab                525\n",
       "trabant             518\n",
       "jaguar              497\n",
       "rover               484\n",
       "lancia              464\n",
       "lada                225\n",
       "Name: Brand, dtype: int64"
      ]
     },
     "execution_count": 20,
     "metadata": {},
     "output_type": "execute_result"
    }
   ],
   "source": [
    "data.Brand.value_counts()"
   ]
  },
  {
   "cell_type": "code",
   "execution_count": 21,
   "metadata": {},
   "outputs": [
    {
     "data": {
      "text/plain": [
       "no     246295\n",
       "yes     35867\n",
       "Name: NotRepaired, dtype: int64"
      ]
     },
     "execution_count": 21,
     "metadata": {},
     "output_type": "execute_result"
    }
   ],
   "source": [
    "data.NotRepaired.value_counts()"
   ]
  },
  {
   "cell_type": "code",
   "execution_count": 22,
   "metadata": {},
   "outputs": [
    {
     "data": {
      "text/plain": [
       "0    352549\n",
       "Name: NumberOfPictures, dtype: int64"
      ]
     },
     "execution_count": 22,
     "metadata": {},
     "output_type": "execute_result"
    }
   ],
   "source": [
    "data.NumberOfPictures.value_counts()"
   ]
  },
  {
   "cell_type": "code",
   "execution_count": 23,
   "metadata": {},
   "outputs": [],
   "source": [
    "# Данный столбец равен нулю для всех instances, поэтому удалим его\n",
    "data.drop(['NumberOfPictures'],\n",
    "          axis=1,\n",
    "          inplace=True)"
   ]
  },
  {
   "cell_type": "code",
   "execution_count": 24,
   "metadata": {},
   "outputs": [
    {
     "data": {
      "text/plain": [
       "10115    818\n",
       "65428    613\n",
       "66333    342\n",
       "32257    317\n",
       "44145    315\n",
       "        ... \n",
       "96367      1\n",
       "25599      1\n",
       "55499      1\n",
       "55432      1\n",
       "63874      1\n",
       "Name: PostalCode, Length: 8142, dtype: int64"
      ]
     },
     "execution_count": 24,
     "metadata": {},
     "output_type": "execute_result"
    }
   ],
   "source": [
    "data.PostalCode.value_counts()"
   ]
  },
  {
   "cell_type": "code",
   "execution_count": 25,
   "metadata": {},
   "outputs": [],
   "source": [
    "# Этот столбец не несёт много полезной информации\n",
    "data.drop('PostalCode', axis=1, inplace=True)"
   ]
  },
  {
   "cell_type": "code",
   "execution_count": 26,
   "metadata": {},
   "outputs": [
    {
     "data": {
      "text/html": [
       "<div>\n",
       "<style scoped>\n",
       "    .dataframe tbody tr th:only-of-type {\n",
       "        vertical-align: middle;\n",
       "    }\n",
       "\n",
       "    .dataframe tbody tr th {\n",
       "        vertical-align: top;\n",
       "    }\n",
       "\n",
       "    .dataframe thead th {\n",
       "        text-align: right;\n",
       "    }\n",
       "</style>\n",
       "<table border=\"1\" class=\"dataframe\">\n",
       "  <thead>\n",
       "    <tr style=\"text-align: right;\">\n",
       "      <th></th>\n",
       "      <th>Price</th>\n",
       "      <th>VehicleType</th>\n",
       "      <th>RegistrationYear</th>\n",
       "      <th>Gearbox</th>\n",
       "      <th>Power</th>\n",
       "      <th>Model</th>\n",
       "      <th>Kilometer</th>\n",
       "      <th>RegistrationMonth</th>\n",
       "      <th>FuelType</th>\n",
       "      <th>Brand</th>\n",
       "      <th>NotRepaired</th>\n",
       "    </tr>\n",
       "  </thead>\n",
       "  <tbody>\n",
       "    <tr>\n",
       "      <th>0</th>\n",
       "      <td>480</td>\n",
       "      <td>NaN</td>\n",
       "      <td>1993</td>\n",
       "      <td>manual</td>\n",
       "      <td>0</td>\n",
       "      <td>golf</td>\n",
       "      <td>150000</td>\n",
       "      <td>0</td>\n",
       "      <td>petrol</td>\n",
       "      <td>volkswagen</td>\n",
       "      <td>NaN</td>\n",
       "    </tr>\n",
       "    <tr>\n",
       "      <th>1</th>\n",
       "      <td>18300</td>\n",
       "      <td>coupe</td>\n",
       "      <td>2011</td>\n",
       "      <td>manual</td>\n",
       "      <td>190</td>\n",
       "      <td>NaN</td>\n",
       "      <td>125000</td>\n",
       "      <td>5</td>\n",
       "      <td>gasoline</td>\n",
       "      <td>audi</td>\n",
       "      <td>yes</td>\n",
       "    </tr>\n",
       "    <tr>\n",
       "      <th>2</th>\n",
       "      <td>9800</td>\n",
       "      <td>suv</td>\n",
       "      <td>2004</td>\n",
       "      <td>auto</td>\n",
       "      <td>163</td>\n",
       "      <td>grand</td>\n",
       "      <td>125000</td>\n",
       "      <td>8</td>\n",
       "      <td>gasoline</td>\n",
       "      <td>jeep</td>\n",
       "      <td>NaN</td>\n",
       "    </tr>\n",
       "    <tr>\n",
       "      <th>3</th>\n",
       "      <td>1500</td>\n",
       "      <td>small</td>\n",
       "      <td>2001</td>\n",
       "      <td>manual</td>\n",
       "      <td>75</td>\n",
       "      <td>golf</td>\n",
       "      <td>150000</td>\n",
       "      <td>6</td>\n",
       "      <td>petrol</td>\n",
       "      <td>volkswagen</td>\n",
       "      <td>no</td>\n",
       "    </tr>\n",
       "    <tr>\n",
       "      <th>4</th>\n",
       "      <td>3600</td>\n",
       "      <td>small</td>\n",
       "      <td>2008</td>\n",
       "      <td>manual</td>\n",
       "      <td>69</td>\n",
       "      <td>fabia</td>\n",
       "      <td>90000</td>\n",
       "      <td>7</td>\n",
       "      <td>gasoline</td>\n",
       "      <td>skoda</td>\n",
       "      <td>no</td>\n",
       "    </tr>\n",
       "  </tbody>\n",
       "</table>\n",
       "</div>"
      ],
      "text/plain": [
       "   Price VehicleType  RegistrationYear Gearbox  Power  Model  Kilometer  \\\n",
       "0    480         NaN              1993  manual      0   golf     150000   \n",
       "1  18300       coupe              2011  manual    190    NaN     125000   \n",
       "2   9800         suv              2004    auto    163  grand     125000   \n",
       "3   1500       small              2001  manual     75   golf     150000   \n",
       "4   3600       small              2008  manual     69  fabia      90000   \n",
       "\n",
       "   RegistrationMonth  FuelType       Brand NotRepaired  \n",
       "0                  0    petrol  volkswagen         NaN  \n",
       "1                  5  gasoline        audi         yes  \n",
       "2                  8  gasoline        jeep         NaN  \n",
       "3                  6    petrol  volkswagen          no  \n",
       "4                  7  gasoline       skoda          no  "
      ]
     },
     "execution_count": 26,
     "metadata": {},
     "output_type": "execute_result"
    }
   ],
   "source": [
    "data.head()"
   ]
  },
  {
   "cell_type": "code",
   "execution_count": 27,
   "metadata": {},
   "outputs": [
    {
     "data": {
      "text/plain": [
       "Price                    0\n",
       "VehicleType          37068\n",
       "RegistrationYear         0\n",
       "Gearbox              19328\n",
       "Power                    0\n",
       "Model                19131\n",
       "Kilometer                0\n",
       "RegistrationMonth        0\n",
       "FuelType             32372\n",
       "Brand                    0\n",
       "NotRepaired          70387\n",
       "dtype: int64"
      ]
     },
     "execution_count": 27,
     "metadata": {},
     "output_type": "execute_result"
    }
   ],
   "source": [
    "#В данных столбцах есть пропуски \n",
    "data.isna().sum()"
   ]
  },
  {
   "cell_type": "markdown",
   "metadata": {},
   "source": [
    "Пустые значения в столбце NotRepaired заполним новым значением unknown, который соответствует ситуации продажи автомобиля со вторых рук"
   ]
  },
  {
   "cell_type": "code",
   "execution_count": 28,
   "metadata": {},
   "outputs": [],
   "source": [
    "data['NotRepaired'].fillna('unknown', inplace=True)"
   ]
  },
  {
   "cell_type": "code",
   "execution_count": 29,
   "metadata": {},
   "outputs": [
    {
     "data": {
      "text/plain": [
       "Price                    0\n",
       "VehicleType          37068\n",
       "RegistrationYear         0\n",
       "Gearbox              19328\n",
       "Power                    0\n",
       "Model                19131\n",
       "Kilometer                0\n",
       "RegistrationMonth        0\n",
       "FuelType             32372\n",
       "Brand                    0\n",
       "NotRepaired              0\n",
       "dtype: int64"
      ]
     },
     "execution_count": 29,
     "metadata": {},
     "output_type": "execute_result"
    }
   ],
   "source": [
    "data.isna().sum()"
   ]
  },
  {
   "cell_type": "markdown",
   "metadata": {},
   "source": [
    "Заполнять пропуски в столбце VehicleType нельзя, так как у нас нет информации о его связях с другими признаками, поэтому просто дропнем"
   ]
  },
  {
   "cell_type": "code",
   "execution_count": 30,
   "metadata": {},
   "outputs": [
    {
     "data": {
      "text/plain": [
       "sedan          90927\n",
       "small          79644\n",
       "wagon          65057\n",
       "bus            28716\n",
       "convertible    20072\n",
       "coupe          15970\n",
       "suv            11905\n",
       "other           3190\n",
       "Name: VehicleType, dtype: int64"
      ]
     },
     "execution_count": 30,
     "metadata": {},
     "output_type": "execute_result"
    }
   ],
   "source": [
    "data['VehicleType'].value_counts()"
   ]
  },
  {
   "cell_type": "code",
   "execution_count": 31,
   "metadata": {},
   "outputs": [],
   "source": [
    "data = data[~data['VehicleType'].isna()]"
   ]
  },
  {
   "cell_type": "code",
   "execution_count": 32,
   "metadata": {},
   "outputs": [],
   "source": [
    "data = data[~data.VehicleType.isna()]"
   ]
  },
  {
   "cell_type": "code",
   "execution_count": 33,
   "metadata": {},
   "outputs": [
    {
     "data": {
      "text/plain": [
       "Price                    0\n",
       "VehicleType              0\n",
       "RegistrationYear         0\n",
       "Gearbox               9668\n",
       "Power                    0\n",
       "Model                12500\n",
       "Kilometer                0\n",
       "RegistrationMonth        0\n",
       "FuelType             15398\n",
       "Brand                    0\n",
       "NotRepaired              0\n",
       "dtype: int64"
      ]
     },
     "execution_count": 33,
     "metadata": {},
     "output_type": "execute_result"
    }
   ],
   "source": [
    "data.isna().sum()"
   ]
  },
  {
   "cell_type": "code",
   "execution_count": 34,
   "metadata": {},
   "outputs": [
    {
     "data": {
      "text/plain": [
       "manual    243764\n",
       "auto       62049\n",
       "Name: Gearbox, dtype: int64"
      ]
     },
     "execution_count": 34,
     "metadata": {},
     "output_type": "execute_result"
    }
   ],
   "source": [
    "gearbox_unique = data['Gearbox'].value_counts()\n",
    "gearbox_unique"
   ]
  },
  {
   "cell_type": "code",
   "execution_count": 35,
   "metadata": {},
   "outputs": [
    {
     "data": {
      "text/plain": [
       "0.7971014966662634"
      ]
     },
     "execution_count": 35,
     "metadata": {},
     "output_type": "execute_result"
    }
   ],
   "source": [
    "probability = gearbox_unique[0] / (gearbox_unique[0] + gearbox_unique[1])\n",
    "probability"
   ]
  },
  {
   "cell_type": "code",
   "execution_count": 36,
   "metadata": {},
   "outputs": [],
   "source": [
    "def bernoulli_trail(p):\n",
    "    return 'manual' if random.random()<p else 'auto'\n",
    "\n",
    "def fillGearbox(row):\n",
    "    if pd.isnull(row['Gearbox']):\n",
    "        return bernoulli_trail(probability)\n",
    "    else:\n",
    "        return row['Gearbox']"
   ]
  },
  {
   "cell_type": "code",
   "execution_count": 37,
   "metadata": {},
   "outputs": [],
   "source": [
    "# Пропуски в коробках передач заполним случайными величинами, полученными по распределению бернулли\n",
    "data['Gearbox'] = data.apply(fillGearbox, axis=1)   "
   ]
  },
  {
   "cell_type": "code",
   "execution_count": 38,
   "metadata": {},
   "outputs": [
    {
     "data": {
      "text/plain": [
       "Price                    0\n",
       "VehicleType              0\n",
       "RegistrationYear         0\n",
       "Gearbox                  0\n",
       "Power                    0\n",
       "Model                12500\n",
       "Kilometer                0\n",
       "RegistrationMonth        0\n",
       "FuelType             15398\n",
       "Brand                    0\n",
       "NotRepaired              0\n",
       "dtype: int64"
      ]
     },
     "execution_count": 38,
     "metadata": {},
     "output_type": "execute_result"
    }
   ],
   "source": [
    "#В данных столбцах есть пропуски \n",
    "data.isna().sum()"
   ]
  },
  {
   "cell_type": "code",
   "execution_count": 39,
   "metadata": {},
   "outputs": [],
   "source": [
    "# Остальных пропусков мало, поэтому дропнем их\n",
    "data.dropna(inplace=True)"
   ]
  },
  {
   "cell_type": "code",
   "execution_count": 40,
   "metadata": {},
   "outputs": [
    {
     "data": {
      "text/html": [
       "<div>\n",
       "<style scoped>\n",
       "    .dataframe tbody tr th:only-of-type {\n",
       "        vertical-align: middle;\n",
       "    }\n",
       "\n",
       "    .dataframe tbody tr th {\n",
       "        vertical-align: top;\n",
       "    }\n",
       "\n",
       "    .dataframe thead th {\n",
       "        text-align: right;\n",
       "    }\n",
       "</style>\n",
       "<table border=\"1\" class=\"dataframe\">\n",
       "  <thead>\n",
       "    <tr style=\"text-align: right;\">\n",
       "      <th></th>\n",
       "      <th>index</th>\n",
       "      <th>Price</th>\n",
       "    </tr>\n",
       "  </thead>\n",
       "  <tbody>\n",
       "    <tr>\n",
       "      <th>0</th>\n",
       "      <td>0</td>\n",
       "      <td>5252</td>\n",
       "    </tr>\n",
       "    <tr>\n",
       "      <th>155</th>\n",
       "      <td>1</td>\n",
       "      <td>519</td>\n",
       "    </tr>\n",
       "    <tr>\n",
       "      <th>1165</th>\n",
       "      <td>2</td>\n",
       "      <td>6</td>\n",
       "    </tr>\n",
       "    <tr>\n",
       "      <th>1562</th>\n",
       "      <td>3</td>\n",
       "      <td>3</td>\n",
       "    </tr>\n",
       "    <tr>\n",
       "      <th>1090</th>\n",
       "      <td>5</td>\n",
       "      <td>8</td>\n",
       "    </tr>\n",
       "    <tr>\n",
       "      <th>...</th>\n",
       "      <td>...</td>\n",
       "      <td>...</td>\n",
       "    </tr>\n",
       "    <tr>\n",
       "      <th>3078</th>\n",
       "      <td>202</td>\n",
       "      <td>1</td>\n",
       "    </tr>\n",
       "    <tr>\n",
       "      <th>3038</th>\n",
       "      <td>205</td>\n",
       "      <td>1</td>\n",
       "    </tr>\n",
       "    <tr>\n",
       "      <th>1996</th>\n",
       "      <td>209</td>\n",
       "      <td>2</td>\n",
       "    </tr>\n",
       "    <tr>\n",
       "      <th>1145</th>\n",
       "      <td>210</td>\n",
       "      <td>6</td>\n",
       "    </tr>\n",
       "    <tr>\n",
       "      <th>2886</th>\n",
       "      <td>211</td>\n",
       "      <td>1</td>\n",
       "    </tr>\n",
       "  </tbody>\n",
       "</table>\n",
       "<p>100 rows × 2 columns</p>\n",
       "</div>"
      ],
      "text/plain": [
       "      index  Price\n",
       "0         0   5252\n",
       "155       1    519\n",
       "1165      2      6\n",
       "1562      3      3\n",
       "1090      5      8\n",
       "...     ...    ...\n",
       "3078    202      1\n",
       "3038    205      1\n",
       "1996    209      2\n",
       "1145    210      6\n",
       "2886    211      1\n",
       "\n",
       "[100 rows x 2 columns]"
      ]
     },
     "execution_count": 40,
     "metadata": {},
     "output_type": "execute_result"
    }
   ],
   "source": [
    "# Стоимость до 100 евро следует отбросить\n",
    "data['Price'].value_counts().reset_index().sort_values(by='index').head(100)"
   ]
  },
  {
   "cell_type": "code",
   "execution_count": 41,
   "metadata": {},
   "outputs": [],
   "source": [
    "data = data.query('Price > 100')"
   ]
  },
  {
   "cell_type": "code",
   "execution_count": 42,
   "metadata": {},
   "outputs": [
    {
     "data": {
      "text/html": [
       "<div>\n",
       "<style scoped>\n",
       "    .dataframe tbody tr th:only-of-type {\n",
       "        vertical-align: middle;\n",
       "    }\n",
       "\n",
       "    .dataframe tbody tr th {\n",
       "        vertical-align: top;\n",
       "    }\n",
       "\n",
       "    .dataframe thead th {\n",
       "        text-align: right;\n",
       "    }\n",
       "</style>\n",
       "<table border=\"1\" class=\"dataframe\">\n",
       "  <thead>\n",
       "    <tr style=\"text-align: right;\">\n",
       "      <th></th>\n",
       "      <th>Price</th>\n",
       "      <th>VehicleType</th>\n",
       "      <th>RegistrationYear</th>\n",
       "      <th>Gearbox</th>\n",
       "      <th>Power</th>\n",
       "      <th>Model</th>\n",
       "      <th>Kilometer</th>\n",
       "      <th>RegistrationMonth</th>\n",
       "      <th>FuelType</th>\n",
       "      <th>Brand</th>\n",
       "      <th>NotRepaired</th>\n",
       "    </tr>\n",
       "  </thead>\n",
       "  <tbody>\n",
       "    <tr>\n",
       "      <th>2</th>\n",
       "      <td>9800</td>\n",
       "      <td>suv</td>\n",
       "      <td>2004</td>\n",
       "      <td>auto</td>\n",
       "      <td>163</td>\n",
       "      <td>grand</td>\n",
       "      <td>125000</td>\n",
       "      <td>8</td>\n",
       "      <td>gasoline</td>\n",
       "      <td>jeep</td>\n",
       "      <td>unknown</td>\n",
       "    </tr>\n",
       "    <tr>\n",
       "      <th>3</th>\n",
       "      <td>1500</td>\n",
       "      <td>small</td>\n",
       "      <td>2001</td>\n",
       "      <td>manual</td>\n",
       "      <td>75</td>\n",
       "      <td>golf</td>\n",
       "      <td>150000</td>\n",
       "      <td>6</td>\n",
       "      <td>petrol</td>\n",
       "      <td>volkswagen</td>\n",
       "      <td>no</td>\n",
       "    </tr>\n",
       "    <tr>\n",
       "      <th>4</th>\n",
       "      <td>3600</td>\n",
       "      <td>small</td>\n",
       "      <td>2008</td>\n",
       "      <td>manual</td>\n",
       "      <td>69</td>\n",
       "      <td>fabia</td>\n",
       "      <td>90000</td>\n",
       "      <td>7</td>\n",
       "      <td>gasoline</td>\n",
       "      <td>skoda</td>\n",
       "      <td>no</td>\n",
       "    </tr>\n",
       "    <tr>\n",
       "      <th>5</th>\n",
       "      <td>650</td>\n",
       "      <td>sedan</td>\n",
       "      <td>1995</td>\n",
       "      <td>manual</td>\n",
       "      <td>102</td>\n",
       "      <td>3er</td>\n",
       "      <td>150000</td>\n",
       "      <td>10</td>\n",
       "      <td>petrol</td>\n",
       "      <td>bmw</td>\n",
       "      <td>yes</td>\n",
       "    </tr>\n",
       "    <tr>\n",
       "      <th>6</th>\n",
       "      <td>2200</td>\n",
       "      <td>convertible</td>\n",
       "      <td>2004</td>\n",
       "      <td>manual</td>\n",
       "      <td>109</td>\n",
       "      <td>2_reihe</td>\n",
       "      <td>150000</td>\n",
       "      <td>8</td>\n",
       "      <td>petrol</td>\n",
       "      <td>peugeot</td>\n",
       "      <td>no</td>\n",
       "    </tr>\n",
       "  </tbody>\n",
       "</table>\n",
       "</div>"
      ],
      "text/plain": [
       "   Price  VehicleType  RegistrationYear Gearbox  Power    Model  Kilometer  \\\n",
       "2   9800          suv              2004    auto    163    grand     125000   \n",
       "3   1500        small              2001  manual     75     golf     150000   \n",
       "4   3600        small              2008  manual     69    fabia      90000   \n",
       "5    650        sedan              1995  manual    102      3er     150000   \n",
       "6   2200  convertible              2004  manual    109  2_reihe     150000   \n",
       "\n",
       "   RegistrationMonth  FuelType       Brand NotRepaired  \n",
       "2                  8  gasoline        jeep     unknown  \n",
       "3                  6    petrol  volkswagen          no  \n",
       "4                  7  gasoline       skoda          no  \n",
       "5                 10    petrol         bmw         yes  \n",
       "6                  8    petrol     peugeot          no  "
      ]
     },
     "execution_count": 42,
     "metadata": {},
     "output_type": "execute_result"
    }
   ],
   "source": [
    "data.head()"
   ]
  },
  {
   "cell_type": "code",
   "execution_count": 43,
   "metadata": {},
   "outputs": [],
   "source": [
    "data.reset_index(drop=True, inplace=True)"
   ]
  },
  {
   "cell_type": "code",
   "execution_count": 44,
   "metadata": {},
   "outputs": [],
   "source": [
    "# Выделим столбцы с категориальными признаками\n",
    "cat_features=['VehicleType', 'Gearbox',\n",
    "              'Model', 'FuelType',\n",
    "              'Brand', 'NotRepaired']\n",
    "data_cat_features = data[cat_features]\n",
    "data_not_cat_features = data.drop(cat_features, axis=1)"
   ]
  },
  {
   "cell_type": "code",
   "execution_count": 45,
   "metadata": {},
   "outputs": [],
   "source": [
    "# Специально для линейной регрессии\n",
    "data_for_linear = data.copy()"
   ]
  },
  {
   "cell_type": "code",
   "execution_count": 46,
   "metadata": {},
   "outputs": [],
   "source": [
    "# Кодируем категориальные признаки\n",
    "encoder = OrdinalEncoder()\n",
    "data_cat_features = pd.DataFrame(encoder.fit_transform(data_cat_features),\n",
    "                                 columns=data_cat_features.columns)\n",
    "# Объединим DataFrames\n",
    "data = pd.merge(data_not_cat_features, data_cat_features,\n",
    "                left_index=True, right_index=True)"
   ]
  },
  {
   "cell_type": "code",
   "execution_count": 47,
   "metadata": {},
   "outputs": [],
   "source": [
    "data_for_linear = pd.get_dummies(data_for_linear[cat_features], drop_first=True)\n",
    "data_for_linear = pd.merge(data_not_cat_features, data_for_linear,\n",
    "                           left_index=True, right_index=True)"
   ]
  },
  {
   "cell_type": "code",
   "execution_count": 48,
   "metadata": {
    "scrolled": true
   },
   "outputs": [
    {
     "name": "stdout",
     "output_type": "stream",
     "text": [
      "<class 'pandas.core.frame.DataFrame'>\n",
      "RangeIndex: 283580 entries, 0 to 283579\n",
      "Data columns (total 11 columns):\n",
      " #   Column             Non-Null Count   Dtype  \n",
      "---  ------             --------------   -----  \n",
      " 0   Price              283580 non-null  int64  \n",
      " 1   RegistrationYear   283580 non-null  int64  \n",
      " 2   Power              283580 non-null  int64  \n",
      " 3   Kilometer          283580 non-null  int64  \n",
      " 4   RegistrationMonth  283580 non-null  int64  \n",
      " 5   VehicleType        283580 non-null  float64\n",
      " 6   Gearbox            283580 non-null  float64\n",
      " 7   Model              283580 non-null  float64\n",
      " 8   FuelType           283580 non-null  float64\n",
      " 9   Brand              283580 non-null  float64\n",
      " 10  NotRepaired        283580 non-null  float64\n",
      "dtypes: float64(6), int64(5)\n",
      "memory usage: 23.8 MB\n"
     ]
    }
   ],
   "source": [
    "data.info()"
   ]
  },
  {
   "cell_type": "code",
   "execution_count": 49,
   "metadata": {},
   "outputs": [
    {
     "data": {
      "text/plain": [
       "count    283580.000000\n",
       "mean       4909.589333\n",
       "std        4603.586838\n",
       "min         101.000000\n",
       "25%        1400.000000\n",
       "50%        3250.000000\n",
       "75%        6999.000000\n",
       "max       20000.000000\n",
       "Name: Price, dtype: float64"
      ]
     },
     "execution_count": 49,
     "metadata": {},
     "output_type": "execute_result"
    }
   ],
   "source": [
    "data['Price'].describe()"
   ]
  },
  {
   "cell_type": "markdown",
   "metadata": {},
   "source": [
    "<a name=\"1.1.\"></a>\n",
    "## Вывод:\n",
    "\n",
    "Исходный набор данных представляет собой таблицу размера 354369 x 13, в которой присутствует большое количество пропусков и малозначимых признаков. Первоначально из таблицы были удалены столбцы, которые характеризовали:\n",
    "-\tDateCrawled – дату скачивания БД\n",
    "-\tDateCreated – дату создания анкеты\n",
    "-\tLastSeen – активность пользователя\n",
    "\n",
    "При исследовании месяца регистрации автомобиля было обнаружено, что в данных имеется большое количество некорректных значений, так имеются автомобили, зарегистрированные на 1000 год и на 9999 год. Очевидно, что это ошибка возникает при формировании или выгрузке БД. Для формирования рабочей БД мы ограничили диапазон с 1970 по 2021. В результате функция распределения записей по году регистрации получилась похожей на нормальное распределение со смещением вправо.\n",
    "\n",
    "При анализе записей по мощности двигателей были также обнаружены аномалии, так в записях присутствуют машины с мощностью двигателя равной 0 или более 5000 л.с. В качестве ограничения оставим только записи с мощностью меньше 600. График распределения получился похожим на нормальное со смещением влево. Отбрасывать или заполнять медианными значениями записи, в которых мощность равняется 0 нельзя, так как это может привести к тому, что модель обнаружит зависимости, которых нет, т.е. усилится ошибка второго рода.\n",
    "Значения в столбце с количеством прикреплённых фотографий к анкете равны 0 для всех записей. Поэтому мы его отбросили.\n",
    "\n",
    "Столбец с почтовым индексом владельца вероятнее всего ничего не говорит о цене автомобиля, поэтому мы его отбросили.\n",
    "\n",
    "В столбце, отвечающем за признак наличия ремонта автомобиля пустые значения заполнили параметром unknown, чтобы не приводить к смещению данных.\n",
    "\n",
    "Для заполнения пропусков в столбце о типе коробки передач мы используем распределение Бернулли. Вероятность того, что автомобиль в анкете имеет коробку автомат равна ~ 20%.\n",
    "\n",
    "Строки с пропусками в столбцах о типе автомобильного кузова, модели и типе топлива отбросим, так как их немного (4.1%, 3.5%, 4.3% от общего числа)\n",
    "\n",
    "Анкеты, в которых цена автомобиля меньше 100 евро также отбросим как невалидные.\n",
    "\n",
    "Признаки:\n",
    "- VehicleType – тип кузова\n",
    "- Gearbox – тип коробки передач\n",
    "-  Model – модель автомобиля\n",
    "- FuelType – тип топлива\n",
    "- Brand – марка автомобиля\n",
    "- NotRepaired – признак наличия ремонта\n",
    "\n",
    "определяем как категориальные и используем OrdinalEncoder для кодирования признаков с помощью списка целых чисел\n",
    "\n",
    "\n",
    "<font size=\"2\">([к содержанию](#0.0))</font>"
   ]
  },
  {
   "cell_type": "markdown",
   "metadata": {},
   "source": [
    "<a name=\"2.\"></a>\n",
    "# Шаг 2. Обучаем разные модели\n",
    "\n",
    "\n",
    "<font size=\"2\">([к содержанию](#0.0))</font>"
   ]
  },
  {
   "cell_type": "code",
   "execution_count": 50,
   "metadata": {},
   "outputs": [],
   "source": [
    "train, test = train_test_split(data, random_state=0)\n",
    "train_linear, test_linear = train_test_split(data_for_linear,\n",
    "                                             random_state=0)"
   ]
  },
  {
   "cell_type": "code",
   "execution_count": 51,
   "metadata": {},
   "outputs": [],
   "source": [
    "X_train = train.drop('Price', axis=1)\n",
    "y_train = train['Price']\n",
    "\n",
    "X_test = test.drop('Price', axis=1)\n",
    "y_test = test['Price']\n",
    "\n",
    "X_train_linear = train_linear.drop('Price', axis=1)\n",
    "y_train_linear = train_linear['Price']\n",
    "\n",
    "X_test_linear = test_linear.drop('Price', axis=1)\n",
    "y_test_linear = test_linear['Price']"
   ]
  },
  {
   "cell_type": "code",
   "execution_count": 52,
   "metadata": {},
   "outputs": [],
   "source": [
    "# Количественные признаки\n",
    "quan_features = X_train.drop(cat_features,\n",
    "                             axis=1).columns"
   ]
  },
  {
   "cell_type": "code",
   "execution_count": 53,
   "metadata": {},
   "outputs": [],
   "source": [
    "# Масштабируем только числовые признаки\n",
    "scaler = StandardScaler()\n",
    "X_train[quan_features] = scaler.fit_transform(X_train[quan_features])\n",
    "X_test[quan_features] = scaler.transform(X_test[quan_features])"
   ]
  },
  {
   "cell_type": "code",
   "execution_count": 54,
   "metadata": {},
   "outputs": [],
   "source": [
    "# Масштабируем только числовые признаки для линейной регрессии\n",
    "X_train_linear[quan_features] = scaler.transform(X_train_linear[quan_features])\n",
    "X_test_linear[quan_features] = scaler.transform(X_test_linear[quan_features])"
   ]
  },
  {
   "cell_type": "code",
   "execution_count": 55,
   "metadata": {},
   "outputs": [
    {
     "name": "stdout",
     "output_type": "stream",
     "text": [
      "RMSE линейной регрессии: 2477.3351974302695\n",
      "Wall time: 16.3 s\n"
     ]
    }
   ],
   "source": [
    "%%time\n",
    "linear_model = LinearRegression()\n",
    "scores = cross_val_score(linear_model,\n",
    "                         X_train_linear,\n",
    "                         y_train_linear,\n",
    "                         scoring='neg_mean_squared_error',\n",
    "                         n_jobs=-1, cv=5)\n",
    "print('RMSE линейной регрессии:', abs(scores.mean()) ** 0.5)"
   ]
  },
  {
   "cell_type": "code",
   "execution_count": 56,
   "metadata": {},
   "outputs": [
    {
     "name": "stdout",
     "output_type": "stream",
     "text": [
      "RMSE случайного леса: 2460.9876857202435\n",
      "Wall time: 31min 2s\n"
     ]
    }
   ],
   "source": [
    "%%time\n",
    "forest_base_model = RandomForestRegressor()\n",
    "forest_params={\n",
    "    'n_estimators': [x for x in range(5, 200, 5)],\n",
    "    'max_depth': [x for x in range(1, 5, 1)]\n",
    "}\n",
    "forest_model = GridSearchCV(\n",
    "    estimator=forest_base_model,\n",
    "    param_grid=forest_params,\n",
    "    scoring='neg_mean_squared_error',\n",
    "    n_jobs=-1,\n",
    "    cv=5)\n",
    "forest_model.fit(X_train, y_train)\n",
    "print('RMSE случайного леса:', abs(forest_model.best_score_) ** 0.5)"
   ]
  },
  {
   "cell_type": "code",
   "execution_count": 57,
   "metadata": {},
   "outputs": [
    {
     "name": "stdout",
     "output_type": "stream",
     "text": [
      "RMSE решающего дерева: 2002.6379088094725\n",
      "Wall time: 2.26 s\n"
     ]
    }
   ],
   "source": [
    "%%time\n",
    "tree_base_model = DecisionTreeRegressor()\n",
    "tree_params = {'max_depth': [x for x in range(1, 10, 2)]}\n",
    "tree_model = GridSearchCV(\n",
    "    estimator=tree_base_model,\n",
    "    param_grid=tree_params,\n",
    "    scoring='neg_mean_squared_error',\n",
    "    n_jobs=-1,\n",
    "    cv=5)\n",
    "tree_model.fit(X_train, y_train)\n",
    "print('RMSE решающего дерева:', abs(tree_model.best_score_) ** 0.5)"
   ]
  },
  {
   "cell_type": "code",
   "execution_count": 58,
   "metadata": {},
   "outputs": [
    {
     "name": "stdout",
     "output_type": "stream",
     "text": [
      "RMSE градиентного бустинга: 1541.2464820952666\n",
      "Wall time: 1h 14min 55s\n"
     ]
    }
   ],
   "source": [
    "%%time\n",
    "gb_base_model = LGBMRegressor()\n",
    "gb_params = {\n",
    "    'max_depth': [x for x in range(2, 60, 5)],\n",
    "    'n_estimators': [x for x in range(5, 200, 5)],\n",
    "    'learning_rate': [x / 100 for x in range(10, 80, 10)]\n",
    "}\n",
    "gb_model = GridSearchCV(estimator=gb_base_model,\n",
    "                        param_grid=gb_params,\n",
    "                        scoring='neg_mean_squared_error',\n",
    "                        n_jobs=-1,\n",
    "                        cv=5)\n",
    "gb_model.fit(X_train, y_train)\n",
    "print('RMSE градиентного бустинга:', abs(gb_model.best_score_) ** 0.5)"
   ]
  },
  {
   "cell_type": "markdown",
   "metadata": {},
   "source": [
    "<a name=\"3.\"></a>\n",
    "# Шаг 3. Анализируем скорость и качество моделей\n",
    "\n",
    "\n",
    "<font size=\"2\">([к содержанию](#0.0))</font>"
   ]
  },
  {
   "cell_type": "markdown",
   "metadata": {},
   "source": [
    "<a name=\"3.1.\"></a>\n",
    "## Линейная регрессия\n",
    "\n",
    "\n",
    "<font size=\"2\">([к содержанию](#0.0))</font>"
   ]
  },
  {
   "cell_type": "code",
   "execution_count": 59,
   "metadata": {},
   "outputs": [
    {
     "name": "stdout",
     "output_type": "stream",
     "text": [
      "Wall time: 3.39 s\n"
     ]
    },
    {
     "data": {
      "text/plain": [
       "LinearRegression()"
      ]
     },
     "execution_count": 59,
     "metadata": {},
     "output_type": "execute_result"
    }
   ],
   "source": [
    "%%time\n",
    "linear_model_best = LinearRegression()\n",
    "linear_model_best.fit(X_train_linear,\n",
    "                      y_train_linear)"
   ]
  },
  {
   "cell_type": "code",
   "execution_count": 60,
   "metadata": {},
   "outputs": [
    {
     "name": "stdout",
     "output_type": "stream",
     "text": [
      "Wall time: 126 ms\n"
     ]
    },
    {
     "data": {
      "text/plain": [
       "array([ 2995.02471381, 12184.73530392,  5921.45194976, ...,\n",
       "        2218.66627501,  1572.49738938,  8288.74926297])"
      ]
     },
     "execution_count": 60,
     "metadata": {},
     "output_type": "execute_result"
    }
   ],
   "source": [
    "%%time\n",
    "linear_model_best.predict(X_test_linear)"
   ]
  },
  {
   "cell_type": "code",
   "execution_count": 61,
   "metadata": {},
   "outputs": [
    {
     "name": "stdout",
     "output_type": "stream",
     "text": [
      "RMSE логической регрессии: тестовый 2477.447\n"
     ]
    }
   ],
   "source": [
    "print(\"RMSE логической регрессии: тестовый {:.3f}\".format(\n",
    "    mean_squared_error(linear_model_best.predict(X_test_linear), y_test_linear) ** 0.5))"
   ]
  },
  {
   "cell_type": "markdown",
   "metadata": {},
   "source": [
    "<a name=\"3.2.\"></a>\n",
    "## Решающее дерево\n",
    "\n",
    "\n",
    "<font size=\"2\">([к содержанию](#0.0))</font>"
   ]
  },
  {
   "cell_type": "code",
   "execution_count": 62,
   "metadata": {},
   "outputs": [
    {
     "name": "stdout",
     "output_type": "stream",
     "text": [
      "Wall time: 393 ms\n"
     ]
    },
    {
     "data": {
      "text/plain": [
       "DecisionTreeRegressor(max_depth=9, random_state=0)"
      ]
     },
     "execution_count": 62,
     "metadata": {},
     "output_type": "execute_result"
    }
   ],
   "source": [
    "%%time\n",
    "tree_model_best = DecisionTreeRegressor(max_depth=tree_model.best_params_['max_depth'],\n",
    "                                        random_state=0)\n",
    "tree_model_best.fit(X_train,y_train)"
   ]
  },
  {
   "cell_type": "code",
   "execution_count": 63,
   "metadata": {},
   "outputs": [
    {
     "name": "stdout",
     "output_type": "stream",
     "text": [
      "Wall time: 12 ms\n"
     ]
    },
    {
     "data": {
      "text/plain": [
       "array([ 1897.58961768, 12932.125     ,  5238.97626527, ...,\n",
       "        1131.7332701 ,  6098.97368421,  8190.64473684])"
      ]
     },
     "execution_count": 63,
     "metadata": {},
     "output_type": "execute_result"
    }
   ],
   "source": [
    "%%time\n",
    "tree_model_best.predict(X_test)"
   ]
  },
  {
   "cell_type": "code",
   "execution_count": 64,
   "metadata": {},
   "outputs": [
    {
     "name": "stdout",
     "output_type": "stream",
     "text": [
      "RMSE решающее дерево: тестовый 1984.716\n"
     ]
    }
   ],
   "source": [
    "print(\"RMSE решающее дерево: тестовый {:.3f}\".format(\n",
    "    mean_squared_error(tree_model_best.predict(X_test), y_test) ** 0.5))"
   ]
  },
  {
   "cell_type": "markdown",
   "metadata": {},
   "source": [
    "<a name=\"3.3.\"></a>\n",
    "## Случайный лес\n",
    "\n",
    "\n",
    "<font size=\"2\">([к содержанию](#0.0))</font>"
   ]
  },
  {
   "cell_type": "code",
   "execution_count": 65,
   "metadata": {},
   "outputs": [
    {
     "name": "stdout",
     "output_type": "stream",
     "text": [
      "Wall time: 6.69 s\n"
     ]
    },
    {
     "data": {
      "text/plain": [
       "RandomForestRegressor(max_depth=4, n_estimators=50, random_state=0)"
      ]
     },
     "execution_count": 65,
     "metadata": {},
     "output_type": "execute_result"
    }
   ],
   "source": [
    "%%time\n",
    "forest_model_best = RandomForestRegressor(max_depth=forest_model.best_params_['max_depth'],\n",
    "                                          n_estimators=forest_model.best_params_['n_estimators'],\n",
    "                                          random_state=0)\n",
    "forest_model_best.fit(X_train, y_train)"
   ]
  },
  {
   "cell_type": "code",
   "execution_count": 66,
   "metadata": {},
   "outputs": [
    {
     "name": "stdout",
     "output_type": "stream",
     "text": [
      "Wall time: 99.7 ms\n"
     ]
    },
    {
     "data": {
      "text/plain": [
       "array([1639.73831574, 7093.83192063, 4148.12170358, ..., 1639.73831574,\n",
       "       4540.25033572, 8888.70313635])"
      ]
     },
     "execution_count": 66,
     "metadata": {},
     "output_type": "execute_result"
    }
   ],
   "source": [
    "%%time\n",
    "forest_model_best.predict(X_test)"
   ]
  },
  {
   "cell_type": "code",
   "execution_count": 67,
   "metadata": {},
   "outputs": [
    {
     "name": "stdout",
     "output_type": "stream",
     "text": [
      "RMSE ансабля деревьев: тестовый 2457.797\n"
     ]
    }
   ],
   "source": [
    "print(\"RMSE ансабля деревьев: тестовый {:.3f}\".format(\n",
    "    mean_squared_error(forest_model_best.predict(X_test), y_test) ** 0.5))"
   ]
  },
  {
   "cell_type": "markdown",
   "metadata": {},
   "source": [
    "<a name=\"3.4.\"></a>\n",
    "## Градиентный бустинг\n",
    "\n",
    "\n",
    "<font size=\"2\">([к содержанию](#0.0))</font>"
   ]
  },
  {
   "cell_type": "code",
   "execution_count": 68,
   "metadata": {},
   "outputs": [
    {
     "name": "stdout",
     "output_type": "stream",
     "text": [
      "Wall time: 905 ms\n"
     ]
    },
    {
     "data": {
      "text/plain": [
       "LGBMRegressor(learning_rate=0.3, max_depth=22, n_estimators=195, random_state=0)"
      ]
     },
     "execution_count": 68,
     "metadata": {},
     "output_type": "execute_result"
    }
   ],
   "source": [
    "%%time\n",
    "gb_model_best = LGBMRegressor(learning_rate=gb_model.best_params_['learning_rate'], \n",
    "                              max_depth=gb_model.best_params_['max_depth'],\n",
    "                              n_estimators=gb_model.best_params_['n_estimators'],\n",
    "                              random_state=0)\n",
    "gb_model_best.fit(X_train, y_train)"
   ]
  },
  {
   "cell_type": "code",
   "execution_count": 69,
   "metadata": {},
   "outputs": [
    {
     "name": "stdout",
     "output_type": "stream",
     "text": [
      "Wall time: 188 ms\n"
     ]
    },
    {
     "data": {
      "text/plain": [
       "array([ 2014.16642935, 10097.57308909,  5163.66651823, ...,\n",
       "        1439.89241946,  3729.24080785,  7714.00116008])"
      ]
     },
     "execution_count": 69,
     "metadata": {},
     "output_type": "execute_result"
    }
   ],
   "source": [
    "%%time\n",
    "gb_model_best.predict(X_test)"
   ]
  },
  {
   "cell_type": "code",
   "execution_count": 70,
   "metadata": {},
   "outputs": [
    {
     "name": "stdout",
     "output_type": "stream",
     "text": [
      "RMSE градиентного бустинга: тестовый 1515.050\n"
     ]
    }
   ],
   "source": [
    "print(\"RMSE градиентного бустинга: тестовый {:.3f}\".format(\n",
    "    mean_squared_error(gb_model_best.predict(X_test), y_test) ** 0.5))"
   ]
  },
  {
   "cell_type": "markdown",
   "metadata": {},
   "source": [
    "<a name=\"3.5.\"></a>\n",
    "## Оценка значимости признаков\n",
    "\n",
    "\n",
    "<font size=\"2\">([к содержанию](#0.0))</font>"
   ]
  },
  {
   "cell_type": "code",
   "execution_count": 71,
   "metadata": {},
   "outputs": [],
   "source": [
    "stat = pd.DataFrame(gb_model_best.feature_importances_,\n",
    "                    index=X_train.columns)"
   ]
  },
  {
   "cell_type": "code",
   "execution_count": 72,
   "metadata": {},
   "outputs": [],
   "source": [
    "stat = stat.sort_values(by=0)"
   ]
  },
  {
   "cell_type": "code",
   "execution_count": 76,
   "metadata": {},
   "outputs": [
    {
     "data": {
      "image/png": "[encoded data removed]",
      "text/plain": [
       "<Figure size 1440x360 with 1 Axes>"
      ]
     },
     "metadata": {
      "needs_background": "light"
     },
     "output_type": "display_data"
    }
   ],
   "source": [
    "plt.figure(figsize=(20,5))\n",
    "sns.barplot(x=stat.index, y=stat[0])\n",
    "plt.xlabel('Параметр')\n",
    "plt.ylabel('Значимость')\n",
    "plt.show()"
   ]
  },
  {
   "cell_type": "markdown",
   "metadata": {},
   "source": [
    "<a name=\"3.6.\"></a>\n",
    "## Вывод\n",
    "\n",
    "Исходный набор данных представляет собой таблицу размера (354369, 16). В исходном наборе данных имеется юольшое количество пропусков (108555), которые были либо просто выброшены, либо соответствувющим образом заполнены. Для построения модели были отброшены столбцы с датами (DateCrawled,DateCreated, LastSeen) и малоинформативные признаки (PostalCode, NumberOfPictures).\n",
    "\n",
    "Для анализа качества предсказания, скорости предсказания и времени обучения использовались следующие алгоритмы машинного обучения:\n",
    "\n",
    "\n",
    "| Алгоритм| RMSE обучающий (cv)|RMSE тестовый|Время обучения (с)|Время предсказания (мс)|\n",
    "| --------|:-------------:|:-----------:|:------------:| ----------------:|\n",
    "|Линейная регрессия|2476|2477|3.18|135|\n",
    "|Решающее дерево|2001|1983|0.343|14|\n",
    "|Случайный лес|2693|2689|10.7|154|\n",
    "|Градиентный бустинг|1539|1514|0.701|179|\n",
    "\n",
    "Как видно из таблицы, наибольшую точность в  прогнозах даёт алгоритм градиентного бустинга, он обучается так же быстро как и решающее дерево, но делает более точные прогнозы. Данный алгоритм больше всего подходит для составлення финальной модели. Если необходимо быстро построить модель и оценить результат, то можно использовать решающее дерево, так как оно даёт более высокую точноть, по сравнению с линейной регрессией и обучается гараздо быстрее ансамбля и бустинга.\n",
    "\n",
    "Исходя из анализа результатов градиентного бустинга видно, что при установке цены следует акцентировать внивание на годе регистрации автомобиля, мощности двигателя, модели и бренде\n",
    "\n",
    "<font size=\"2\">([к содержанию](#0.0))</font>"
   ]
  }
 ],
 "metadata": {
  "kernelspec": {
   "display_name": "Python 3",
   "language": "python",
   "name": "python3"
  },
  "language_info": {
   "codemirror_mode": {
    "name": "ipython",
    "version": 3
   },
   "file_extension": ".py",
   "mimetype": "text/x-python",
   "name": "python",
   "nbconvert_exporter": "python",
   "pygments_lexer": "ipython3",
   "version": "3.8.5"
  }
 },
 "nbformat": 4,
 "nbformat_minor": 2
}
