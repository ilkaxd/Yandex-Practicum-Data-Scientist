{
 "cells": [
  {
   "cell_type": "markdown",
   "metadata": {},
   "source": [
    "# <a name=\"0.0\"></a>Содержание:\n",
    "* [Описание проекта](#0.)\n",
    "    - [Описание данных](#0.1.)\n",
    "* [Шаг 1. Загружаем файл и изучаем его](#1.)\n",
    "* [Шаг 2. Умножаем признаки на обратимую матрицу](#2.)\n",
    "    - [Вывод](#2.1.)\n",
    "* [Шаг 3. Проверка алгоритма](#3.)"
   ]
  },
  {
   "cell_type": "markdown",
   "metadata": {},
   "source": [
    "<a name=\"0.\"></a>\n",
    "# Описание проекта\n",
    "\n",
    "Необходимо защитить данные клиентов страховой компании путём использования метода преобразования данных. При этом метод должен быть способен восстановить исходную информацию о клиентах и качество модели линейной регрессии не должно слишком сильно измениться.\n",
    "\n",
    "<br>\n",
    "\n",
    "<font size=\"2\">([к содержанию](#0.0))</font>"
   ]
  },
  {
   "cell_type": "markdown",
   "metadata": {},
   "source": [
    "<a name=\"0.1.\"></a>\n",
    "## Описание данных:\n",
    "\n",
    "Входные данные:\n",
    "- Пол\n",
    "- Возраст\n",
    "- Зарплата\n",
    "- Члены семьи\n",
    "Целевой признак:\n",
    "- количество страховых выплат клиенту за последние 5 лет\n",
    "<br>\n",
    "\n",
    "<font size=\"2\">([к содержанию](#0.0))</font>"
   ]
  },
  {
   "cell_type": "markdown",
   "metadata": {},
   "source": [
    "<a name=\"1.\"></a>\n",
    "# Шаг 1. Загружаем файл и изучаем его\n",
    "<font size=\"2\">([к содержанию](#0.0))</font> "
   ]
  },
  {
   "cell_type": "code",
   "execution_count": 1,
   "metadata": {},
   "outputs": [],
   "source": [
    "import numpy as np\n",
    "import pandas as pd\n",
    "from sklearn.metrics import r2_score\n",
    "from sklearn.model_selection import train_test_split"
   ]
  },
  {
   "cell_type": "code",
   "execution_count": 2,
   "metadata": {},
   "outputs": [],
   "source": [
    "data = pd.read_csv('./datasets/insurance.csv')"
   ]
  },
  {
   "cell_type": "code",
   "execution_count": 3,
   "metadata": {},
   "outputs": [
    {
     "data": {
      "text/html": [
       "<div>\n",
       "<style scoped>\n",
       "    .dataframe tbody tr th:only-of-type {\n",
       "        vertical-align: middle;\n",
       "    }\n",
       "\n",
       "    .dataframe tbody tr th {\n",
       "        vertical-align: top;\n",
       "    }\n",
       "\n",
       "    .dataframe thead th {\n",
       "        text-align: right;\n",
       "    }\n",
       "</style>\n",
       "<table border=\"1\" class=\"dataframe\">\n",
       "  <thead>\n",
       "    <tr style=\"text-align: right;\">\n",
       "      <th></th>\n",
       "      <th>Пол</th>\n",
       "      <th>Возраст</th>\n",
       "      <th>Зарплата</th>\n",
       "      <th>Члены семьи</th>\n",
       "      <th>Страховые выплаты</th>\n",
       "    </tr>\n",
       "  </thead>\n",
       "  <tbody>\n",
       "    <tr>\n",
       "      <th>0</th>\n",
       "      <td>1</td>\n",
       "      <td>41.0</td>\n",
       "      <td>49600.0</td>\n",
       "      <td>1</td>\n",
       "      <td>0</td>\n",
       "    </tr>\n",
       "    <tr>\n",
       "      <th>1</th>\n",
       "      <td>0</td>\n",
       "      <td>46.0</td>\n",
       "      <td>38000.0</td>\n",
       "      <td>1</td>\n",
       "      <td>1</td>\n",
       "    </tr>\n",
       "    <tr>\n",
       "      <th>2</th>\n",
       "      <td>0</td>\n",
       "      <td>29.0</td>\n",
       "      <td>21000.0</td>\n",
       "      <td>0</td>\n",
       "      <td>0</td>\n",
       "    </tr>\n",
       "    <tr>\n",
       "      <th>3</th>\n",
       "      <td>0</td>\n",
       "      <td>21.0</td>\n",
       "      <td>41700.0</td>\n",
       "      <td>2</td>\n",
       "      <td>0</td>\n",
       "    </tr>\n",
       "    <tr>\n",
       "      <th>4</th>\n",
       "      <td>1</td>\n",
       "      <td>28.0</td>\n",
       "      <td>26100.0</td>\n",
       "      <td>0</td>\n",
       "      <td>0</td>\n",
       "    </tr>\n",
       "  </tbody>\n",
       "</table>\n",
       "</div>"
      ],
      "text/plain": [
       "   Пол  Возраст  Зарплата  Члены семьи  Страховые выплаты\n",
       "0    1     41.0   49600.0            1                  0\n",
       "1    0     46.0   38000.0            1                  1\n",
       "2    0     29.0   21000.0            0                  0\n",
       "3    0     21.0   41700.0            2                  0\n",
       "4    1     28.0   26100.0            0                  0"
      ]
     },
     "execution_count": 3,
     "metadata": {},
     "output_type": "execute_result"
    }
   ],
   "source": [
    "data.head(5)"
   ]
  },
  {
   "cell_type": "markdown",
   "metadata": {},
   "source": [
    "- Признаки: пол, возраст и зарплата застрахованного, количество членов его семьи.\n",
    "- Целевой признак: количество страховых выплат клиенту за последние 5 лет."
   ]
  },
  {
   "cell_type": "code",
   "execution_count": 4,
   "metadata": {},
   "outputs": [
    {
     "data": {
      "text/plain": [
       "0    4436\n",
       "1     423\n",
       "2     115\n",
       "3      18\n",
       "4       7\n",
       "5       1\n",
       "Name: Страховые выплаты, dtype: int64"
      ]
     },
     "execution_count": 4,
     "metadata": {},
     "output_type": "execute_result"
    }
   ],
   "source": [
    "data['Страховые выплаты'].value_counts()"
   ]
  },
  {
   "cell_type": "code",
   "execution_count": 5,
   "metadata": {},
   "outputs": [
    {
     "data": {
      "text/plain": [
       "1    1814\n",
       "0    1513\n",
       "2    1071\n",
       "3     439\n",
       "4     124\n",
       "5      32\n",
       "6       7\n",
       "Name: Члены семьи, dtype: int64"
      ]
     },
     "execution_count": 5,
     "metadata": {},
     "output_type": "execute_result"
    }
   ],
   "source": [
    "data['Члены семьи'].value_counts()"
   ]
  },
  {
   "cell_type": "code",
   "execution_count": 6,
   "metadata": {},
   "outputs": [
    {
     "name": "stdout",
     "output_type": "stream",
     "text": [
      "<class 'pandas.core.frame.DataFrame'>\n",
      "RangeIndex: 5000 entries, 0 to 4999\n",
      "Data columns (total 5 columns):\n",
      " #   Column             Non-Null Count  Dtype  \n",
      "---  ------             --------------  -----  \n",
      " 0   Пол                5000 non-null   int64  \n",
      " 1   Возраст            5000 non-null   float64\n",
      " 2   Зарплата           5000 non-null   float64\n",
      " 3   Члены семьи        5000 non-null   int64  \n",
      " 4   Страховые выплаты  5000 non-null   int64  \n",
      "dtypes: float64(2), int64(3)\n",
      "memory usage: 195.4 KB\n"
     ]
    }
   ],
   "source": [
    "data.info()"
   ]
  },
  {
   "cell_type": "markdown",
   "metadata": {},
   "source": [
    "<a name=\"2.\"></a>\n",
    "# Шаг 2. Умножаем признаки на обратимую матрицу\n",
    "<font size=\"2\">([к содержанию](#0.0))</font> "
   ]
  },
  {
   "cell_type": "code",
   "execution_count": 7,
   "metadata": {},
   "outputs": [],
   "source": [
    "train, test = train_test_split(data, shuffle=False,\n",
    "                               random_state=0)"
   ]
  },
  {
   "cell_type": "code",
   "execution_count": 8,
   "metadata": {},
   "outputs": [],
   "source": [
    "class Linear_Regression:\n",
    "    def fit(self, X_train, y_train):\n",
    "        X = np.concatenate((np.ones((X_train.shape[0], 1)), X_train), axis=1)\n",
    "        y = y_train\n",
    "        w = np.linalg.inv(X.T.dot(X)).dot(X.T).dot(y)\n",
    "        self.w = w[1:]\n",
    "        self.w0 = w[0]\n",
    "    def predict(self, X_test):\n",
    "        return X_test@self.w + self.w0\n",
    "    def score(self, X, y, set_name):\n",
    "        print('r_2 на {} выборке: {:.3f}'.format(set_name,r2_score(y, self.predict(X))))"
   ]
  },
  {
   "cell_type": "code",
   "execution_count": 9,
   "metadata": {},
   "outputs": [
    {
     "name": "stdout",
     "output_type": "stream",
     "text": [
      "r_2 на обучающей выборке: 0.426\n",
      "r_2 на тестовой выборке: 0.423\n"
     ]
    }
   ],
   "source": [
    "# Модель линейной регрессии\n",
    "model_before = Linear_Regression()\n",
    "\n",
    "# Выделим призники и цели\n",
    "X_train = train.drop('Страховые выплаты', axis=1)\n",
    "y_train = train['Страховые выплаты']\n",
    "X_test = test.drop('Страховые выплаты', axis=1)\n",
    "y_test = test['Страховые выплаты']\n",
    "\n",
    "model_before.fit(X_train,y_train)\n",
    "model_before.score(X_train, y_train, 'обучающей')\n",
    "model_before.score(X_test, y_test, 'тестовой')"
   ]
  },
  {
   "cell_type": "markdown",
   "metadata": {},
   "source": [
    "Умножение признаков на обратимую матрицу\n",
    "\n",
    "$X$ — матрица признаков (нулевой столбец состоит из единиц)\n",
    "\n",
    "$P$ — обратимая матрица, на которую умножаются признаки\n",
    "\n",
    "$$\n",
    "XP\n",
    "$$"
   ]
  },
  {
   "cell_type": "code",
   "execution_count": 10,
   "metadata": {},
   "outputs": [],
   "source": [
    "# Создаём рандомную матрицу\n",
    "random_matrix = np.array([])\n",
    "while True:\n",
    "    #Создаём рандомную матрицу\n",
    "    random_matrix = np.random.random((X_train.shape[1], X_train.shape[1]))\n",
    "    #Проверяем наличие обратной матрицы:\n",
    "    try:\n",
    "        #Если матрица обратима, то выходим из цикла\n",
    "        np.linalg.inv(random_matrix)\n",
    "        break\n",
    "    except:\n",
    "        continue"
   ]
  },
  {
   "cell_type": "code",
   "execution_count": 11,
   "metadata": {},
   "outputs": [
    {
     "name": "stdout",
     "output_type": "stream",
     "text": [
      "r_2 на обучающей выборке: 0.426\n",
      "r_2 на тестовой выборке: 0.423\n"
     ]
    }
   ],
   "source": [
    "# Модель линейной регрессии с изменёнными признаки\n",
    "model_after=Linear_Regression()\n",
    "\n",
    "X_train_changed = X_train@random_matrix\n",
    "X_test_changed = X_test@random_matrix\n",
    "\n",
    "model_after = Linear_Regression()\n",
    "model_after.fit(X_train_changed, y_train)\n",
    "\n",
    "model_after.score(X_train_changed, y_train, 'обучающей')\n",
    "model_after.score(X_test_changed, y_test, 'тестовой')"
   ]
  },
  {
   "cell_type": "markdown",
   "metadata": {},
   "source": [
    "<a name=\"2.1.\"></a>\n",
    "## Вывод:\n",
    "\n",
    "Качество линейной регресии не изменилось, так как параметры линейной регресии изменились в соответствии с   обратимой матрицей коэффициентов.\n",
    "\n",
    "<font size=\"2\">([к содержанию](#0.0))</font> "
   ]
  },
  {
   "cell_type": "markdown",
   "metadata": {},
   "source": [
    "<a name=\"3.\"></a>\n",
    "# Шаг 3. Проверка алгоритма\n",
    "<font size=\"2\">([к содержанию](#0.0))</font> "
   ]
  },
  {
   "cell_type": "markdown",
   "metadata": {},
   "source": [
    "Используемые упрощения:\n",
    "\n",
    "$$\n",
    "(AB)^T=B^TA^T\n",
    "$$\n",
    "\n",
    "$$\n",
    "((AB)^T)^{-1}=((AB)^{-1})^{T}\n",
    "$$\n",
    "\n",
    "$$\n",
    "(AB)^{-1}=B^{-1}A^{-1}\n",
    "$$\n",
    "\n",
    "$$\n",
    "A(A)^{-1}=(A)^{-1}A=E\n",
    "$$\n",
    "\n",
    "$$\n",
    "EA=AE=A\n",
    "$$\n",
    "\n",
    "$$\n",
    "\\frac{d}{dX}X^Ta=a\n",
    "$$\n",
    "\n",
    "$$\n",
    "\\frac{d}{dX}X^TAX=(A+A^T)X\n",
    "$$\n",
    "\n",
    "где \n",
    "- $E$ - eдиничная матрица\n",
    "- $A$ - симметричная матрица"
   ]
  },
  {
   "cell_type": "markdown",
   "metadata": {},
   "source": [
    "Зависимость целевого показателя $y_i$ от регрессоров i-го наблюдения может быть выражена через уравнение линейной регрессии вида:\n",
    "\n",
    "$$\n",
    "f(w,x_i)=w_0+w_1x_{1,i}+...+w_kx_{k,i}\n",
    "$$\n",
    "\n",
    "где $x_i$ - i-ое значение регрессора от 1 до n\n",
    "\n",
    "k - количество регрессоров\n",
    "\n",
    "w - угловые коэффициенты, которые представляют величину, на которую изменится расчётный целевой показатель в среднем при изменении регрессора\n",
    "\n",
    "Оценка качества апроксимирующей функции осуществляется методом наименьших квадратов:\n",
    "\n",
    "$$\n",
    "Err=\\sum\\limits_{i=1}^n{(y_i-f(x_i))^2} \\rightarrow min\n",
    "$$\n",
    "\n",
    "Запишем уравнение в матричной форме:\n",
    "\n",
    "$$\n",
    "Err={(\\overrightarrow{y}-X\\overrightarrow{w})^2} \\rightarrow min\n",
    "$$\n",
    "\n",
    "Аналогичным образом записывается уравнение, дополненное весовой матрицей\n",
    "$$\n",
    "Err={(\\overrightarrow{y}-XA\\overrightarrow{w})^2} \\rightarrow min\n",
    "$$\n",
    "\n",
    "Размеры векторов и матриц:\n",
    "$X:(n, k)$, $\\overrightarrow{w}:(k, 1)$, $\\overrightarrow{y}:(n, 1)$, $A:(k, k)$\n",
    "\n",
    "При этом учитываем, что первый коэффициет $w_0$ в уравнении линейной регрессии не умножается ни на один регрессор. Чтобы можно было считать всё матрицами, каждое i-ое значение ргегрессора $w_0$ приравняем к единице.\n",
    "\n",
    "Начнём раскрывать скобки на формуле с дополнительной матрицей:\n",
    "\n",
    "$$\n",
    "(\\overrightarrow{y}-XA\\overrightarrow{w})^2=\n",
    "(\\overrightarrow{y}-XA\\overrightarrow{w})^T(\\overrightarrow{y}-XA\\overrightarrow{w})=\n",
    "(\\overrightarrow{y})^T\\overrightarrow{y}-(\\overrightarrow{y})^TXA\\overrightarrow{w}-(XA\\overrightarrow{w})^T\\overrightarrow{y}+(XA\\overrightarrow{w})^TXA\\overrightarrow{w}\n",
    "$$\n",
    "\n",
    "Транспонирование обусловлено тем, что в скобках получается вектор\n",
    "\n",
    "Подготовим уравнение к дифференцированию:\n",
    "\n",
    "$$\n",
    "(\\overrightarrow{y})^TXA\\overrightarrow{w}=((X\\overrightarrow{w})^T\\overrightarrow{y})^T=(XA\\overrightarrow{w})^T\\overrightarrow{y}=\\overrightarrow{w}^TA^TX^T\\overrightarrow{y}=const\n",
    "$$\n",
    "\n",
    "$$\n",
    "(XA\\overrightarrow{w})^T\\overrightarrow{y}=\\overrightarrow{y}^TXA\\overrightarrow{w}=const\n",
    "$$\n",
    "\n",
    "$$\n",
    "(XA\\overrightarrow{w})^TXA\\overrightarrow{w}=\\overrightarrow{w}^TA^TX^TXA\\overrightarrow{w}\n",
    "$$\n",
    "\n",
    "так как результат преобразований равен const, Т можно опустить и получаем:\n",
    "\n",
    "$$\n",
    "Err=(\\overrightarrow{y})^T\\overrightarrow{y}-2\\overrightarrow{w}^TA^TX^T\\overrightarrow{y}+\\overrightarrow{w}^TA^TX^TXA\\overrightarrow{w}\n",
    "$$"
   ]
  },
  {
   "cell_type": "markdown",
   "metadata": {},
   "source": [
    "Решение задачи минимизации достигается бутём поиска минимума ошибки по частной производной от весов:\n",
    "$$\n",
    "Err(X,\\overrightarrow{y},\\overrightarrow{w})\\rightarrow min_{\\overrightarrow{w}}\\leftrightarrow \\frac{dErr(X,\\overrightarrow{y},\\overrightarrow{w})}{d\\overrightarrow{w}}=0\n",
    "$$\n",
    "\n",
    "$$\n",
    "\\frac{dErr(X,\\overrightarrow{y},\\overrightarrow{w})}{d\\overrightarrow{w}}=\\frac{d}{d\\overrightarrow{w}}(\\overrightarrow{y}^T\\overrightarrow{y}-2\\overrightarrow{w}^TA^TX^T\\overrightarrow{y}+\\overrightarrow{w}^TA^TX^TXA\\overrightarrow{w})=\\frac{\\overrightarrow{y}^T\\overrightarrow{y}}{d\\overrightarrow{w}} - \n",
    "\\frac{2\\overrightarrow{w}^TA^TX^T\\overrightarrow{y}}{d\\overrightarrow{w}}+\n",
    "\\frac{\\overrightarrow{w}^TA^TX^TXA\\overrightarrow{w}}{d\\overrightarrow{w}}\n",
    "$$\n",
    "\n",
    "Распишем каждую производную по отдельности:\n",
    "\n",
    "$$\n",
    "\\frac{\\overrightarrow{y}^T\\overrightarrow{y}}{d\\overrightarrow{w}}=0\n",
    "$$\n",
    "\n",
    "$$\n",
    "\\frac{2\\overrightarrow{w}^TA^TX^T\\overrightarrow{y}}{d\\overrightarrow{w}}=2A^TX^T\\overrightarrow{y}\n",
    "$$\n",
    "\n",
    "$$\n",
    "\\frac{\\overrightarrow{w}^TA^TX^TXA\\overrightarrow{w}}{d\\overrightarrow{w}}=(A^TX^TXA+(A^TX^TXA)^T)\\overrightarrow{w}=2A^TX^TXA\\overrightarrow{w}\n",
    "$$\n",
    "\n",
    "Продолжим:\n",
    "$$\n",
    "\\frac{dErr(X,\\overrightarrow{y},\\overrightarrow{w})}{d\\overrightarrow{w}}=-2A^TX^T\\overrightarrow{y}+2A^TX^TXA\\overrightarrow{w}=0\n",
    "$$\n"
   ]
  },
  {
   "cell_type": "markdown",
   "metadata": {},
   "source": [
    "В итоге получаем:\n",
    "\n",
    "$$\n",
    "A^TX^TXA\\overrightarrow{w}=A^TX^T\\overrightarrow{y}\n",
    "$$\n",
    "\n",
    "С помощью аналогичных действия можно вывести формулу для линейной регрессии без матрицы для преобразования:\n",
    "\n",
    "$$\n",
    "\\sum\\limits_{i=1}^n{(y_i-f(x_i))^2} = \\sum\\limits_{i=1}^n{(\\overrightarrow{y}-X\\overrightarrow{w})^2}=(\\overrightarrow{y}-X\\overrightarrow{w})^T(\\overrightarrow{y}-X\\overrightarrow{w})=\n",
    "\\overrightarrow{w}^TX^TX\\overrightarrow{w}-2\\overrightarrow{w}^TX^T\\overrightarrow{y}+\\overrightarrow{y}^T\\overrightarrow{y}\n",
    "$$\n",
    "\n",
    "Дифференцируем:\n",
    "$$\n",
    "\\frac{d(\\overrightarrow{w}^TX^TX\\overrightarrow{w}-2\\overrightarrow{w}^TX^T\\overrightarrow{y}+\\overrightarrow{y}^T\\overrightarrow{y})}{d\\overrightarrow{w}}=2X^TX\\overrightarrow{w}-2X^T\\overrightarrow{y}=0\n",
    "$$\n",
    "\n",
    "$$\n",
    "X^TX\\overrightarrow{w}=X^T\\overrightarrow{y}\n",
    "$$\n",
    "\n",
    "Домножим слева выражение без использование матрицы преобразования на $A^T$ и приравняем две полученные матрицы\n",
    "\n",
    "$$\n",
    "A^TX^TXA\\overrightarrow{w}_{до}=A^TX^TX\\overrightarrow{w}_{после}\n",
    "$$\n",
    "\n",
    "Таким образом связь между матрица имеет следующий вид:\n",
    "\n",
    "$$\n",
    "A\\overrightarrow{w}_{до}=\\overrightarrow{w}_{после}\n",
    "$$\n",
    "\n",
    "Возврат к исходным данным возможен с использованием обратной матрицы\n",
    "\n",
    "$$\n",
    "\\overrightarrow{w}_{до}=A^{-1}\\overrightarrow{w}_{после}\n",
    "$$"
   ]
  }
 ],
 "metadata": {
  "kernelspec": {
   "display_name": "Python 3",
   "language": "python",
   "name": "python3"
  },
  "language_info": {
   "codemirror_mode": {
    "name": "ipython",
    "version": 3
   },
   "file_extension": ".py",
   "mimetype": "text/x-python",
   "name": "python",
   "nbconvert_exporter": "python",
   "pygments_lexer": "ipython3",
   "version": "3.8.5"
  }
 },
 "nbformat": 4,
 "nbformat_minor": 4
}
