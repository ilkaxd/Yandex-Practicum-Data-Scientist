{
 "cells": [
  {
   "cell_type": "markdown",
   "metadata": {},
   "source": [
    "<font color='blue'> \n",
    "### <u>КОММЕНТАРИЙ РЕВЬЮЕРА</u>\n",
    "</font>\n",
    "\n",
    "<font color='blue'>\n",
    "<br />\n",
    "Илья, рад приветствовать тебя! <br />\n",
    "<br />    \n",
    "\n",
    "<br />\n",
    "Меня зовут Николай. <br />И на этом этапе твоего движения к новой профессии от меня будут комментарии по написанному коду. <br />Чтобы меньше \"мусорить эфир\" и чтобы максимально наглядно отделяться от основного кода, есть предложение условиться в некоторых обозначениях:<br /> <br />\n",
    "<u><b>ТАКОЙ ШРИФТ</b></u> - всегда начало комментария <br />\n",
    "<font color='green'>такой шрифт</font> - комментарии о том, что всё ОК <br/>\n",
    "<font color='orange'>такой шрифт</font> - комментарии о том, что всё ОК по результату,<br> однако есть на что обратить внимание в плане применения техник, или есть способы сделать более короткий или быстрый код <br/>\n",
    "<font color='red'>такой шрифт</font> - комментарии о том, что есть критичный момент, влияющий на бизнес-результат проекта.<br/>\n",
    "</font><br /><br />"
   ]
  },
  {
   "cell_type": "markdown",
   "metadata": {},
   "source": [
    "# Доказываем что использование обратимой матрицы позволяет кодировать признаки влияния на точность прогнозирования модели линейной регрессии"
   ]
  },
  {
   "cell_type": "markdown",
   "metadata": {},
   "source": [
    "Вам нужно защитить данные клиентов страховой компании «Хоть потоп». Разработайте такой метод преобразования данных, чтобы по ним было сложно восстановить персональную информацию. Обоснуйте корректность его работы.\n",
    "\n",
    "Нужно защитить данные, чтобы при преобразовании качество моделей машинного обучения не ухудшилось. Подбирать наилучшую модель не требуется."
   ]
  },
  {
   "cell_type": "code",
   "execution_count": 1,
   "metadata": {},
   "outputs": [],
   "source": [
    "import numpy as np\n",
    "import pandas as pd\n",
    "from sklearn.metrics import r2_score\n",
    "from sklearn.model_selection import train_test_split"
   ]
  },
  {
   "cell_type": "markdown",
   "metadata": {},
   "source": [
    "## 1. Загрузка данных"
   ]
  },
  {
   "cell_type": "code",
   "execution_count": 2,
   "metadata": {},
   "outputs": [],
   "source": [
    "data=pd.read_csv('./datasets/insurance.csv')"
   ]
  },
  {
   "cell_type": "code",
   "execution_count": 3,
   "metadata": {},
   "outputs": [
    {
     "data": {
      "text/html": [
       "<div>\n",
       "<style scoped>\n",
       "    .dataframe tbody tr th:only-of-type {\n",
       "        vertical-align: middle;\n",
       "    }\n",
       "\n",
       "    .dataframe tbody tr th {\n",
       "        vertical-align: top;\n",
       "    }\n",
       "\n",
       "    .dataframe thead th {\n",
       "        text-align: right;\n",
       "    }\n",
       "</style>\n",
       "<table border=\"1\" class=\"dataframe\">\n",
       "  <thead>\n",
       "    <tr style=\"text-align: right;\">\n",
       "      <th></th>\n",
       "      <th>Пол</th>\n",
       "      <th>Возраст</th>\n",
       "      <th>Зарплата</th>\n",
       "      <th>Члены семьи</th>\n",
       "      <th>Страховые выплаты</th>\n",
       "    </tr>\n",
       "  </thead>\n",
       "  <tbody>\n",
       "    <tr>\n",
       "      <td>0</td>\n",
       "      <td>1</td>\n",
       "      <td>41.0</td>\n",
       "      <td>49600.0</td>\n",
       "      <td>1</td>\n",
       "      <td>0</td>\n",
       "    </tr>\n",
       "    <tr>\n",
       "      <td>1</td>\n",
       "      <td>0</td>\n",
       "      <td>46.0</td>\n",
       "      <td>38000.0</td>\n",
       "      <td>1</td>\n",
       "      <td>1</td>\n",
       "    </tr>\n",
       "    <tr>\n",
       "      <td>2</td>\n",
       "      <td>0</td>\n",
       "      <td>29.0</td>\n",
       "      <td>21000.0</td>\n",
       "      <td>0</td>\n",
       "      <td>0</td>\n",
       "    </tr>\n",
       "    <tr>\n",
       "      <td>3</td>\n",
       "      <td>0</td>\n",
       "      <td>21.0</td>\n",
       "      <td>41700.0</td>\n",
       "      <td>2</td>\n",
       "      <td>0</td>\n",
       "    </tr>\n",
       "    <tr>\n",
       "      <td>4</td>\n",
       "      <td>1</td>\n",
       "      <td>28.0</td>\n",
       "      <td>26100.0</td>\n",
       "      <td>0</td>\n",
       "      <td>0</td>\n",
       "    </tr>\n",
       "  </tbody>\n",
       "</table>\n",
       "</div>"
      ],
      "text/plain": [
       "   Пол  Возраст  Зарплата  Члены семьи  Страховые выплаты\n",
       "0    1     41.0   49600.0            1                  0\n",
       "1    0     46.0   38000.0            1                  1\n",
       "2    0     29.0   21000.0            0                  0\n",
       "3    0     21.0   41700.0            2                  0\n",
       "4    1     28.0   26100.0            0                  0"
      ]
     },
     "execution_count": 3,
     "metadata": {},
     "output_type": "execute_result"
    }
   ],
   "source": [
    "data.head(5)"
   ]
  },
  {
   "cell_type": "markdown",
   "metadata": {},
   "source": [
    "- Признаки: пол, возраст и зарплата застрахованного, количество членов его семьи.\n",
    "- Целевой признак: количество страховых выплат клиенту за последние 5 лет."
   ]
  },
  {
   "cell_type": "code",
   "execution_count": 4,
   "metadata": {},
   "outputs": [
    {
     "data": {
      "text/plain": [
       "0    4436\n",
       "1     423\n",
       "2     115\n",
       "3      18\n",
       "4       7\n",
       "5       1\n",
       "Name: Страховые выплаты, dtype: int64"
      ]
     },
     "execution_count": 4,
     "metadata": {},
     "output_type": "execute_result"
    }
   ],
   "source": [
    "data['Страховые выплаты'].value_counts()"
   ]
  },
  {
   "cell_type": "code",
   "execution_count": 5,
   "metadata": {},
   "outputs": [
    {
     "data": {
      "text/plain": [
       "1    1814\n",
       "0    1513\n",
       "2    1071\n",
       "3     439\n",
       "4     124\n",
       "5      32\n",
       "6       7\n",
       "Name: Члены семьи, dtype: int64"
      ]
     },
     "execution_count": 5,
     "metadata": {},
     "output_type": "execute_result"
    }
   ],
   "source": [
    "data['Члены семьи'].value_counts()"
   ]
  },
  {
   "cell_type": "code",
   "execution_count": 6,
   "metadata": {},
   "outputs": [
    {
     "name": "stdout",
     "output_type": "stream",
     "text": [
      "<class 'pandas.core.frame.DataFrame'>\n",
      "RangeIndex: 5000 entries, 0 to 4999\n",
      "Data columns (total 5 columns):\n",
      "Пол                  5000 non-null int64\n",
      "Возраст              5000 non-null float64\n",
      "Зарплата             5000 non-null float64\n",
      "Члены семьи          5000 non-null int64\n",
      "Страховые выплаты    5000 non-null int64\n",
      "dtypes: float64(2), int64(3)\n",
      "memory usage: 195.4 KB\n"
     ]
    }
   ],
   "source": [
    "data.info()"
   ]
  },
  {
   "cell_type": "markdown",
   "metadata": {},
   "source": [
    "## 2. Умножение матриц"
   ]
  },
  {
   "cell_type": "code",
   "execution_count": 7,
   "metadata": {},
   "outputs": [],
   "source": [
    "#Поделим матрицу\n",
    "train, test=train_test_split(data, shuffle=False, random_state=0)"
   ]
  },
  {
   "cell_type": "code",
   "execution_count": 8,
   "metadata": {},
   "outputs": [],
   "source": [
    "class Linear_Regression:\n",
    "    def fit(self, X_train, y_train):\n",
    "        X = np.concatenate((np.ones((X_train.shape[0], 1)), X_train), axis=1)\n",
    "        y = y_train\n",
    "        w = np.linalg.inv(X.T.dot(X)).dot(X.T).dot(y)\n",
    "        self.w = w[1:]\n",
    "        self.w0 = w[0]\n",
    "    def predict(self, X_test):\n",
    "        return X_test@self.w + self.w0\n",
    "    def score(self, X, y, set_name):\n",
    "        print('r_2 на {} выборке: {:.3f}'.format(set_name,r2_score(y, self.predict(X))))"
   ]
  },
  {
   "cell_type": "code",
   "execution_count": 9,
   "metadata": {},
   "outputs": [
    {
     "name": "stdout",
     "output_type": "stream",
     "text": [
      "r_2 на обучающей выборке: 0.426\n",
      "r_2 на тестовой выборке: 0.423\n"
     ]
    }
   ],
   "source": [
    "#Модель линейной регрессии\n",
    "model_before=Linear_Regression()\n",
    "\n",
    "#выделим призники и цели\n",
    "X_train=train.drop('Страховые выплаты', axis=1)\n",
    "y_train=train['Страховые выплаты']\n",
    "X_test=test.drop('Страховые выплаты', axis=1)\n",
    "y_test=test['Страховые выплаты']\n",
    "\n",
    "model_before.fit(X_train,y_train)\n",
    "model_before.score(X_train, y_train, 'обучающей')\n",
    "model_before.score(X_test, y_test, 'тестовой')"
   ]
  },
  {
   "cell_type": "markdown",
   "metadata": {},
   "source": [
    "Умножение признаков на обратимую матрицу\n",
    "\n",
    "$X$ — матрица признаков (нулевой столбец состоит из единиц)\n",
    "\n",
    "$P$ — обратимая матрица, на которую умножаются признаки\n",
    "\n",
    "$$\n",
    "XP\n",
    "$$"
   ]
  },
  {
   "cell_type": "code",
   "execution_count": 10,
   "metadata": {},
   "outputs": [],
   "source": [
    "#Создаём рандомную матрицу\n",
    "random_matrix=np.array([])\n",
    "while True:\n",
    "    #Создаём рандомную матрицу\n",
    "    random_matrix=np.random.random((X_train.shape[1],X_train.shape[1]))\n",
    "    #Проверяем наличие обратной матрицы:\n",
    "    try:\n",
    "        #Если матрица обратима, то выходим из цикла\n",
    "        np.linalg.inv(random_matrix)\n",
    "        break\n",
    "    except:\n",
    "        continue"
   ]
  },
  {
   "cell_type": "markdown",
   "metadata": {},
   "source": [
    "<font color='blue'> \n",
    "### <u>КОММЕНТАРИЙ РЕВЬЮЕРА</u>\n",
    "</font>\n",
    "<font color='green'>\n",
    "ОК, надо проверять, чтобы матрица была обратимой. Ещё используют получение единичной матрицы)"
   ]
  },
  {
   "cell_type": "code",
   "execution_count": 11,
   "metadata": {},
   "outputs": [
    {
     "name": "stdout",
     "output_type": "stream",
     "text": [
      "r_2 на обучающей выборке: 0.426\n",
      "r_2 на тестовой выборке: 0.423\n"
     ]
    }
   ],
   "source": [
    "#Модель линейной регрессии с изменёнными признаки\n",
    "model_after=Linear_Regression()\n",
    "\n",
    "X_train_changed=X_train@random_matrix\n",
    "X_test_changed=X_test@random_matrix\n",
    "\n",
    "model_after=Linear_Regression()\n",
    "model_after.fit(X_train_changed,y_train)\n",
    "\n",
    "model_after.score(X_train_changed, y_train, 'обучающей')\n",
    "model_after.score(X_test_changed, y_test, 'тестовой')"
   ]
  },
  {
   "cell_type": "markdown",
   "metadata": {},
   "source": [
    "<font color='blue'> \n",
    "### <u>КОММЕНТАРИЙ РЕВЬЮЕРА</u>\n",
    "</font>\n",
    "<font color='green'>\n",
    "хорошая теория) В этом пункте нужно было только теорию. А вычисления все в пункте 4."
   ]
  },
  {
   "cell_type": "markdown",
   "metadata": {},
   "source": [
    "<div style=\"border:solid  green  2px; padding: 20px\">\n",
    "    <H2>Добавил</H2>\n",
    "Вывод: качество линейной регресии не изменилось, так как параметры линейной регресии изменились в соответствии с соответствии с нашей обратимой матрицей коэффициентов. \n",
    "</div>"
   ]
  },
  {
   "cell_type": "markdown",
   "metadata": {},
   "source": [
    "## 3. Алгоритм преобразования"
   ]
  },
  {
   "cell_type": "markdown",
   "metadata": {},
   "source": [
    "пол - просто инвертируем \n",
    "\n",
    "возраст - вычитаем из 100\n",
    "\n",
    "Зарплата - делим на 99\n",
    "\n",
    "члены семьи смещаем на -3"
   ]
  },
  {
   "cell_type": "code",
   "execution_count": 13,
   "metadata": {},
   "outputs": [],
   "source": [
    "#Целевая матрица\n",
    "transform_data=data.iloc[:4,:-1].copy()\n",
    "#Преобразуем пол и зарплату\n",
    "transform_data=transform_data*[-1,1,1/99,1]\n",
    "\n",
    "#Преобразуем всё остальное\n",
    "transform_data=transform_data+[0,-100,0,-3]\n",
    "\n",
    "transform_data=transform_data.values"
   ]
  },
  {
   "cell_type": "code",
   "execution_count": 14,
   "metadata": {},
   "outputs": [
    {
     "data": {
      "text/plain": [
       "array([[-1.00000000e+00,  1.42708207e+00, -2.97689970e-01,\n",
       "         3.89057751e-02],\n",
       "       [-0.00000000e+00,  3.16413374e-02, -1.37993921e-02,\n",
       "        -2.18844985e-02],\n",
       "       [-0.00000000e+00,  4.99513678e-03, -3.12948328e-03,\n",
       "        -6.01823708e-04],\n",
       "       [-0.00000000e+00, -3.95653495e-01, -2.28024316e-01,\n",
       "         4.75379939e-01]])"
      ]
     },
     "execution_count": 14,
     "metadata": {},
     "output_type": "execute_result"
    }
   ],
   "source": [
    "#смотрим чтобы у нашей матрицы была обратная для дешиврования\n",
    "np.linalg.inv(transform_data)"
   ]
  },
  {
   "cell_type": "markdown",
   "metadata": {},
   "source": [
    "<font color='blue'> \n",
    "### <u>КОММЕНТАРИЙ РЕВЬЮЕРА</u>\n",
    "</font>\n",
    "<font color='green'>\n",
    "Не понял этот пункт((( ведь матрицу рандомную уже создали и всё. Зачем не каждый отдельно преобразовывать?<br>\n",
    "\n",
    "\n",
    "тут как раз и нужен план действий дл пункта 4) Делай раз, делай два, делай три..<br>\n",
    "1) создаём рандомную матрицу<br>\n",
    "2) проверяем её на обратимость (создаём единичную матрицу)<br>\n",
    "3) Сщздаём новую матрицу данных<br>\n",
    "4) Ищем метрики качества на исходных данных и на преобразованных<br>\n",
    "5) делаем вывод<br>\n",
    "    \n",
    "Ну и обоснование этому на основе п.2"
   ]
  },
  {
   "cell_type": "markdown",
   "metadata": {},
   "source": [
    "<div style=\"border:solid  green  2px; padding: 20px\">\n",
    "    <H2>Ответ</H2>\n",
    "    В задании было написано Предложите алгоритм преобразования данных для решения задачи. Я и предложил.\n",
    "    \n",
    "    Вывод: качество модели не меняется после исользования обратимой матрицы. Качество не меняется потому, что матрицы отличаются друг от друга на величину обратной матрицы коэффициентов. Обратная матрица нужна чтобы вернуть масштаб.\n",
    "    \n",
    "    Проблема в том что мне не очень понравилась идея использования рандомных обратимых матриц для шифрования данных. Николай, в слаке мне не ответили на мой вопрос, может ты мне ответишь. Использование рандомной матрицы по сути смешивает между собой строки и столбцы исходной матрицы. Соответственно, на выходе мы получаем малоожидаемый результат, который нельзя расшифровать без использования обратной матрицы коэффициентов. Можно ли как-то элегантно зашифровать исходную матрицу в соответствии с теми пунктами, что я привёл в начале 3 раздела, чтобы не было необходимости сохранения исходной матрицы коэффициентов (генерировать матрицы, в которых определить не равен нулю, эт оне элегантно) и строки со столбцами не перемешивались?\n",
    "</div>"
   ]
  },
  {
   "cell_type": "markdown",
   "metadata": {},
   "source": [
    "## 4. Проверка алгоритма"
   ]
  },
  {
   "cell_type": "markdown",
   "metadata": {},
   "source": [
    "Упрощение:\n",
    "\n",
    "$$\n",
    "(AB)^T=B^TA^T\n",
    "$$\n",
    "\n",
    "$$\n",
    "((AB)^T)^{-1}=((AB)^{-1})^{T}\n",
    "$$\n",
    "\n",
    "$$\n",
    "(AB)^{-1}=B^{-1}A^{-1}\n",
    "$$\n",
    "\n",
    "$$\n",
    "A(A)^{-1}=(A)^{-1}A=E\n",
    "$$\n",
    "\n",
    "$E$ — Единичная матрица\n",
    "\n",
    "$$\n",
    "EA=AE=A\n",
    "$$\n",
    "\n",
    "$$\n",
    "\\frac{d}{dX}X^Ta=a\n",
    "$$\n",
    "\n",
    "$$\n",
    "\\frac{d}{dX}X^TAX=(A+A^T)X\n",
    "$$"
   ]
  },
  {
   "cell_type": "markdown",
   "metadata": {},
   "source": [
    "Зависимсоть целевого показателя $y_i$ от регрессоров i-го наблюдения может быть выражена через уравнение линейной регрессии вида:\n",
    "\n",
    "$$\n",
    "f(w,x_i)=w_0+w_1x_{1,i}+...+w_kx_{k,i}\n",
    "$$\n",
    "\n",
    "где $x_i$ - i-ое значение регрессора от 1 до n\n",
    "\n",
    "k - количество регрессоров\n",
    "\n",
    "w - угловые коэффициенты, которые представляют величину, на которую изменится расчётный целевой показатель в среднем при изменении регрессора\n",
    "\n",
    "Оценка качества апроксимирующей функции осуществляеится методом наименьших квадратов:\n",
    "\n",
    "$$\n",
    "Err=\\sum\\limits_{i=1}^n{(y_i-f(x_i))^2} \\rightarrow min\n",
    "$$\n",
    "\n",
    "Запишем уравнение в матричной форме:\n",
    "\n",
    "$$\n",
    "Err={(\\overrightarrow{y}-X\\overrightarrow{w})^2} \\rightarrow min\n",
    "$$\n",
    "\n",
    "Аналогичным образом записывается уравнение, дополненное весовой матрицей\n",
    "$$\n",
    "Err={(\\overrightarrow{y}-XA\\overrightarrow{w})^2} \\rightarrow min\n",
    "$$\n",
    "\n",
    "Размеры векторов и матриц:\n",
    "$X:(n,k)$, $\\overrightarrow{w}:(k,1)$, $\\overrightarrow{y}:(n,1)$, $A:(k,k)$\n",
    "\n",
    "При этом учитываем, что первый коэффициет $w_0$ в уравнении линейной регрессии не умножается ни на один регрессор. Чтобы можно было считать всё матрицами, каждое i-ое значение ргегрессора $w_0$ приравняем к единице.\n",
    "\n",
    "Начнём раскрывать скобки на формулы с дополнительной матрицей:\n",
    "\n",
    "$$\n",
    "(\\overrightarrow{y}-XA\\overrightarrow{w})^2=\n",
    "(\\overrightarrow{y}-XA\\overrightarrow{w})^T(\\overrightarrow{y}-XA\\overrightarrow{w})=\n",
    "(\\overrightarrow{y})^T\\overrightarrow{y}-(\\overrightarrow{y})^TXA\\overrightarrow{w}-(XA\\overrightarrow{w})^T\\overrightarrow{y}+(XA\\overrightarrow{w})^TXA\\overrightarrow{w}\n",
    "$$\n",
    "\n",
    "Транспонирование обусловлено тем, что в скобках получается вектор\n",
    "\n",
    "Подготовим уравнение к дифференцированию:\n",
    "\n",
    "$$\n",
    "(\\overrightarrow{y})^TXA\\overrightarrow{w}=((X\\overrightarrow{w})^T\\overrightarrow{y})^T=(XA\\overrightarrow{w})^T\\overrightarrow{y}=\\overrightarrow{w}^TA^TX^T\\overrightarrow{y}=const\n",
    "$$\n",
    "\n",
    "$$\n",
    "(XA\\overrightarrow{w})^T\\overrightarrow{y}=\\overrightarrow{y}^TXA\\overrightarrow{w}=const\n",
    "$$\n",
    "\n",
    "$$\n",
    "(XA\\overrightarrow{w})^TXA\\overrightarrow{w}=\\overrightarrow{w}^TA^TX^TXA\\overrightarrow{w}\n",
    "$$\n",
    "\n",
    "так как результат преобразований равен const, Т можно опустить и получаем:\n",
    "\n",
    "$$\n",
    "Err=(\\overrightarrow{y})^T\\overrightarrow{y}-2\\overrightarrow{w}^TA^TX^T\\overrightarrow{y}+\\overrightarrow{w}^TA^TX^TXA\\overrightarrow{w}\n",
    "$$"
   ]
  },
  {
   "cell_type": "markdown",
   "metadata": {},
   "source": [
    "Решение задачи минимизации достигается бутём поиска минимума ошибки по частной производной от весов:\n",
    "$$\n",
    "Err(X,\\overrightarrow{y},\\overrightarrow{w})\\rightarrow min_{\\overrightarrow{w}}\\leftrightarrow \\frac{dErr(X,\\overrightarrow{y},\\overrightarrow{w})}{d\\overrightarrow{w}}=0\n",
    "$$\n",
    "\n",
    "$$\n",
    "\\frac{dErr(X,\\overrightarrow{y},\\overrightarrow{w})}{d\\overrightarrow{w}}=\\frac{d}{d\\overrightarrow{w}}(\\overrightarrow{y}^T\\overrightarrow{y}-2\\overrightarrow{w}^TA^TX^T\\overrightarrow{y}+\\overrightarrow{w}^TA^TX^TXA\\overrightarrow{w})=\\frac{\\overrightarrow{y}^T\\overrightarrow{y}}{d\\overrightarrow{w}} - \n",
    "\\frac{2\\overrightarrow{w}^TA^TX^T\\overrightarrow{y}}{d\\overrightarrow{w}}+\n",
    "\\frac{\\overrightarrow{w}^TA^TX^TXA\\overrightarrow{w}}{d\\overrightarrow{w}}\n",
    "$$\n",
    "\n",
    "Распишем каждую производную по отдельности:\n",
    "\n",
    "$$\n",
    "\\frac{\\overrightarrow{y}^T\\overrightarrow{y}}{d\\overrightarrow{w}}=0\n",
    "$$\n",
    "\n",
    "$$\n",
    "\\frac{2\\overrightarrow{w}^TA^TX^T\\overrightarrow{y}}{d\\overrightarrow{w}}=2A^TX^T\\overrightarrow{y}\n",
    "$$\n",
    "\n",
    "$$\n",
    "\\frac{\\overrightarrow{w}^TA^TX^TXA\\overrightarrow{w}}{d\\overrightarrow{w}}=(A^TX^TXA+(A^TX^TXA)^T)\\overrightarrow{w}=2A^TX^TXA\\overrightarrow{w}\n",
    "$$\n",
    "\n",
    "Продолжим:\n",
    "$$\n",
    "\\frac{dErr(X,\\overrightarrow{y},\\overrightarrow{w})}{d\\overrightarrow{w}}=-2A^TX^T\\overrightarrow{y}+2A^TX^TXA\\overrightarrow{w}=0\n",
    "$$\n"
   ]
  },
  {
   "cell_type": "markdown",
   "metadata": {},
   "source": [
    "Качество линейной модели не изменилось, так как параметры линейной линейной регрессии до и после преобразований матрицы под обучение не поменялись.\n",
    "\n",
    "Вектор весов линейной регрессии на этапе обучения вычисляется по следующей формуле:\n",
    "\n",
    "$$\n",
    "w = (X^T X)^{-1} X^T y\n",
    "$$\n",
    "\n",
    "Докажем что использование обратимой матрицы изменяет веса:\n",
    "\n",
    "$$\n",
    "((XP)^T (XP))^{-1} (XP)^T y = (X^T X)^{-1} X^T y\n",
    "$$\n",
    "\n",
    "\n",
    "\n",
    "Преобразуем левую часть:\n",
    "\n",
    "$$\n",
    "(XP)^{-1}((XP)^T)^{-1} (XP)^T y = (X^T X)^{-1} X^T y\n",
    "$$\n",
    "\n",
    "$$\n",
    "(XP)^{-1}E y = (X^T X)^{-1} X^T y\n",
    "$$\n",
    "\n",
    "$$\n",
    "(XP)^{-1} y = (X^T X)^{-1} X^T y\n",
    "$$\n",
    "\n",
    "Преобразуем правую часть:\n",
    "\n",
    "$$\n",
    "(XP)^{-1} y = (X)^{-1}(X^T)^{-1} X^T y\n",
    "$$\n",
    "\n",
    "$$\n",
    "(XP)^{-1} y = (X)^{-1}E y\n",
    "$$\n",
    "\n",
    "$$\n",
    "P^{-1}(X)^{-1} y = (X)^{-1} y\n",
    "$$\n",
    "\n",
    "Таким образом:\n",
    "\n",
    "$$\n",
    "\\frac{w_{до}}{w_{после}}=P^{-1}\n",
    "$$\n"
   ]
  },
  {
   "cell_type": "code",
   "execution_count": 15,
   "metadata": {},
   "outputs": [
    {
     "name": "stdout",
     "output_type": "stream",
     "text": [
      "r_2 на обучающей выборке: 0.426\n",
      "r_2 на тестовой выборке: 0.423\n"
     ]
    }
   ],
   "source": [
    "#Модель линейной регрессии с изменёнными признаки\n",
    "model_final=Linear_Regression()\n",
    "\n",
    "X_final_train=X_train@transform_data\n",
    "X_final_test=X_test@transform_data\n",
    "\n",
    "model_final=Linear_Regression()\n",
    "model_final.fit(X_final_train,y_train)\n",
    "\n",
    "model_final.score(X_final_train, y_train, 'обучающей')\n",
    "model_final.score(X_final_test, y_test, 'тестовой')"
   ]
  },
  {
   "cell_type": "markdown",
   "metadata": {},
   "source": [
    "**Вывод**: точность модели не поменялась, так как весовые коэффициенты линейной регресиии изменились в соответствии с матрицой прпеобразования"
   ]
  },
  {
   "cell_type": "markdown",
   "metadata": {},
   "source": [
    "<font color='blue'> \n",
    "### <u>КОММЕНТАРИЙ РЕВЬЮЕРА</u>\n",
    "</font>\n",
    "<font color='green'>\n",
    "Илья, и с линейной алгеброй ты справился (почти)<br>\n",
    "Всё, в общем-то, по делу, со смыслом. Доказательство в п.2 - классно)<br>\n",
    "Да и весь проект - на уровне. Ответ и доказательство - верен.<br>\n",
    "    \n",
    "Надо только привести всё в порядок (не принципиально, но ты говорил, что готов исправить))):\n",
    "<font color='red'>\n",
    "1) вычисления из п2 перенести в п.4. <br>\n",
    "2) п.3 - нужен только порядок действий и обснование ему.<br>\n",
    "Скорректируй, пожалуйста)<br><font color='green'><font color='green'>\n",
    "Спасибо) Буду ждать корректировок."
   ]
  },
  {
   "cell_type": "markdown",
   "metadata": {},
   "source": [
    "## Чек-лист проверки"
   ]
  },
  {
   "cell_type": "markdown",
   "metadata": {},
   "source": [
    "- [x]  Jupyter Notebook открыт\n",
    "- [ ]  Весь код выполняется без ошибок\n",
    "- [ ]  Ячейки с кодом расположены в порядке исполнения\n",
    "- [ ]  Выполнен шаг 1: данные загружены\n",
    "- [ ]  Выполнен шаг 2: получен ответ на вопрос об умножении матриц\n",
    "    - [ ]  Указан правильный вариант ответа\n",
    "    - [ ]  Вариант обоснован\n",
    "- [ ]  Выполнен шаг 3: предложен алгоритм преобразования\n",
    "    - [ ]  Алгоритм описан\n",
    "    - [ ]  Алгоритм обоснован\n",
    "- [ ]  Выполнен шаг 4: алгоритм проверен\n",
    "    - [ ]  Алгоритм реализован\n",
    "    - [ ]  Проведено сравнение качества моделей до и после преобразования"
   ]
  }
 ],
 "metadata": {
  "kernelspec": {
   "display_name": "Python 3",
   "language": "python",
   "name": "python3"
  },
  "language_info": {
   "codemirror_mode": {
    "name": "ipython",
    "version": 3
   },
   "file_extension": ".py",
   "mimetype": "text/x-python",
   "name": "python",
   "nbconvert_exporter": "python",
   "pygments_lexer": "ipython3",
   "version": "3.7.7"
  }
 },
 "nbformat": 4,
 "nbformat_minor": 4
}
