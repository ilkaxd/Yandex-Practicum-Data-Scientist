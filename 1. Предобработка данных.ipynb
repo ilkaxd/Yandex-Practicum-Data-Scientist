{
 "cells": [
  {
   "cell_type": "markdown",
   "metadata": {},
   "source": [
    "# <a name=\"0.0\"></a>Содержание:\n",
    "* [Описание проекта](#0.)\n",
    "    - [Описание данных](#0.1.) \n",
    "* [Шаг 1. Предварительный анализ](#1.)\n",
    "    - [Импорт библиотек](#1.1.)\n",
    "    - [Изучение общей информации](#1.2.)\n",
    "    - [Анализ отдельных столбцов](#1.3.)\n",
    "    - [Вывод](#1.4.)\n",
    "* [Шаг 2. Предобработка данных](#2.)\n",
    "    - [Заполняем пропуски](#2.1)\n",
    "    - [Вывод](#2.2)\n",
    "    - [Заменяем типы](#2.3)\n",
    "    - [Вывод](#2.4)\n",
    "    - [Удаляем дубликаты](#2.5)\n",
    "    - [Вывод](#2.6)\n",
    "    - [Выделяем леммы](#2.7)\n",
    "    - [Вывод](#2.8)\n",
    "    - [Категоризируем данные](#2.9)\n",
    "    - [Вывод](#2.10)\n",
    "* [Шаг 3. Анализ зависимостей](#3.)\n",
    "    - [Есть ли зависимость между наличием детей и возвратом кредита в срок?](#3.1)\n",
    "    - [Есть ли зависимость между семейным положением и возвратом кредита в срок?](#3.2)\n",
    "    - [Есть ли зависимость между уровнем дохода и возвратом кредита в срок?](#3.3)\n",
    "    - [Есть ли зависимость между целью кредита и возвратом кредита в срок?](#3.4)\n",
    "* [Шаг 4. Сформируем выводы](#4.)"
   ]
  },
  {
   "cell_type": "markdown",
   "metadata": {},
   "source": [
    "<a name=\"0.\"></a>\n",
    "## Описание проекта\n",
    "На основании предоставленных банком данных нужно определить, влияет ли семейное положение и количество детей на вероятность появления просрочек по кредиту<br>\n",
    "<font size=\"2\">([к содержанию](#0.0))</font>"
   ]
  },
  {
   "cell_type": "markdown",
   "metadata": {},
   "source": [
    "<a name=\"0.1\"></a>\n",
    "### Описание данных\n",
    "- children — количество детей\n",
    "- days_employed — трудовой стаж (дни)\n",
    "- dob_years — возраст клиента (лет)\n",
    "- education — уровень образования заёмщика\n",
    "- education_id — уровня образования (индекс)\n",
    "- family_status — семейное положение\n",
    "- family_status_id — семейного положения (индекс)\n",
    "- gender — пол заёщика\n",
    "- income_type — тип занятости\n",
    "- debt — признак наличия задолженностей по возврату\n",
    "- total_income — ежемесячный доход\n",
    "- purpose — цель получения кредита<br>\n",
    "<font size=\"2\">([к содержанию](#0.0))</font>"
   ]
  },
  {
   "cell_type": "markdown",
   "metadata": {},
   "source": [
    "<a name=\"1.\"></a>\n",
    "## Шаг 1. Откройте файл с данными и изучите общую информацию\n",
    "<font size=\"2\">([к содержанию](#0.0))</font>"
   ]
  },
  {
   "cell_type": "markdown",
   "metadata": {},
   "source": [
    "<a name=\"1.1.\"></a>\n",
    "### Импорт библиотек\n",
    "<font size=\"2\">([к содержанию](#0.0))</font>"
   ]
  },
  {
   "cell_type": "code",
   "execution_count": 39,
   "metadata": {},
   "outputs": [],
   "source": [
    "import pandas as pd\n",
    "from pymystem3 import Mystem\n",
    "from collections import Counter\n",
    "import numpy as np\n",
    "import seaborn as sns\n",
    "import matplotlib.pyplot as plt"
   ]
  },
  {
   "cell_type": "markdown",
   "metadata": {},
   "source": [
    "<a name=\"1.2.\"></a>\n",
    "### Изучение общей информации\n",
    "<font size=\"2\">([к содержанию](#0.0))</font>"
   ]
  },
  {
   "cell_type": "code",
   "execution_count": 2,
   "metadata": {},
   "outputs": [
    {
     "data": {
      "text/html": [
       "<div>\n",
       "<style scoped>\n",
       "    .dataframe tbody tr th:only-of-type {\n",
       "        vertical-align: middle;\n",
       "    }\n",
       "\n",
       "    .dataframe tbody tr th {\n",
       "        vertical-align: top;\n",
       "    }\n",
       "\n",
       "    .dataframe thead th {\n",
       "        text-align: right;\n",
       "    }\n",
       "</style>\n",
       "<table border=\"1\" class=\"dataframe\">\n",
       "  <thead>\n",
       "    <tr style=\"text-align: right;\">\n",
       "      <th></th>\n",
       "      <th>children</th>\n",
       "      <th>days_employed</th>\n",
       "      <th>dob_years</th>\n",
       "      <th>education</th>\n",
       "      <th>education_id</th>\n",
       "      <th>family_status</th>\n",
       "      <th>family_status_id</th>\n",
       "      <th>gender</th>\n",
       "      <th>income_type</th>\n",
       "      <th>debt</th>\n",
       "      <th>total_income</th>\n",
       "      <th>purpose</th>\n",
       "    </tr>\n",
       "  </thead>\n",
       "  <tbody>\n",
       "    <tr>\n",
       "      <td>0</td>\n",
       "      <td>1</td>\n",
       "      <td>-8437.673028</td>\n",
       "      <td>42</td>\n",
       "      <td>высшее</td>\n",
       "      <td>0</td>\n",
       "      <td>женат / замужем</td>\n",
       "      <td>0</td>\n",
       "      <td>F</td>\n",
       "      <td>сотрудник</td>\n",
       "      <td>0</td>\n",
       "      <td>253875.639453</td>\n",
       "      <td>покупка жилья</td>\n",
       "    </tr>\n",
       "    <tr>\n",
       "      <td>1</td>\n",
       "      <td>1</td>\n",
       "      <td>-4024.803754</td>\n",
       "      <td>36</td>\n",
       "      <td>среднее</td>\n",
       "      <td>1</td>\n",
       "      <td>женат / замужем</td>\n",
       "      <td>0</td>\n",
       "      <td>F</td>\n",
       "      <td>сотрудник</td>\n",
       "      <td>0</td>\n",
       "      <td>112080.014102</td>\n",
       "      <td>приобретение автомобиля</td>\n",
       "    </tr>\n",
       "    <tr>\n",
       "      <td>2</td>\n",
       "      <td>0</td>\n",
       "      <td>-5623.422610</td>\n",
       "      <td>33</td>\n",
       "      <td>Среднее</td>\n",
       "      <td>1</td>\n",
       "      <td>женат / замужем</td>\n",
       "      <td>0</td>\n",
       "      <td>M</td>\n",
       "      <td>сотрудник</td>\n",
       "      <td>0</td>\n",
       "      <td>145885.952297</td>\n",
       "      <td>покупка жилья</td>\n",
       "    </tr>\n",
       "  </tbody>\n",
       "</table>\n",
       "</div>"
      ],
      "text/plain": [
       "   children  days_employed  dob_years education  education_id  \\\n",
       "0         1   -8437.673028         42    высшее             0   \n",
       "1         1   -4024.803754         36   среднее             1   \n",
       "2         0   -5623.422610         33   Среднее             1   \n",
       "\n",
       "     family_status  family_status_id gender income_type  debt   total_income  \\\n",
       "0  женат / замужем                 0      F   сотрудник     0  253875.639453   \n",
       "1  женат / замужем                 0      F   сотрудник     0  112080.014102   \n",
       "2  женат / замужем                 0      M   сотрудник     0  145885.952297   \n",
       "\n",
       "                   purpose  \n",
       "0            покупка жилья  \n",
       "1  приобретение автомобиля  \n",
       "2            покупка жилья  "
      ]
     },
     "execution_count": 2,
     "metadata": {},
     "output_type": "execute_result"
    }
   ],
   "source": [
    "data=pd.read_csv('./datasets/data.csv')\n",
    "data.head(3)"
   ]
  },
  {
   "cell_type": "code",
   "execution_count": 3,
   "metadata": {},
   "outputs": [
    {
     "data": {
      "text/html": [
       "<div>\n",
       "<style scoped>\n",
       "    .dataframe tbody tr th:only-of-type {\n",
       "        vertical-align: middle;\n",
       "    }\n",
       "\n",
       "    .dataframe tbody tr th {\n",
       "        vertical-align: top;\n",
       "    }\n",
       "\n",
       "    .dataframe thead th {\n",
       "        text-align: right;\n",
       "    }\n",
       "</style>\n",
       "<table border=\"1\" class=\"dataframe\">\n",
       "  <thead>\n",
       "    <tr style=\"text-align: right;\">\n",
       "      <th></th>\n",
       "      <th>children</th>\n",
       "      <th>days_employed</th>\n",
       "      <th>dob_years</th>\n",
       "      <th>education</th>\n",
       "      <th>education_id</th>\n",
       "      <th>family_status</th>\n",
       "      <th>family_status_id</th>\n",
       "      <th>gender</th>\n",
       "      <th>income_type</th>\n",
       "      <th>debt</th>\n",
       "      <th>total_income</th>\n",
       "      <th>purpose</th>\n",
       "    </tr>\n",
       "  </thead>\n",
       "  <tbody>\n",
       "    <tr>\n",
       "      <td>21522</td>\n",
       "      <td>1</td>\n",
       "      <td>-2113.346888</td>\n",
       "      <td>38</td>\n",
       "      <td>среднее</td>\n",
       "      <td>1</td>\n",
       "      <td>гражданский брак</td>\n",
       "      <td>1</td>\n",
       "      <td>M</td>\n",
       "      <td>сотрудник</td>\n",
       "      <td>1</td>\n",
       "      <td>89672.561153</td>\n",
       "      <td>недвижимость</td>\n",
       "    </tr>\n",
       "    <tr>\n",
       "      <td>21523</td>\n",
       "      <td>3</td>\n",
       "      <td>-3112.481705</td>\n",
       "      <td>38</td>\n",
       "      <td>среднее</td>\n",
       "      <td>1</td>\n",
       "      <td>женат / замужем</td>\n",
       "      <td>0</td>\n",
       "      <td>M</td>\n",
       "      <td>сотрудник</td>\n",
       "      <td>1</td>\n",
       "      <td>244093.050500</td>\n",
       "      <td>на покупку своего автомобиля</td>\n",
       "    </tr>\n",
       "    <tr>\n",
       "      <td>21524</td>\n",
       "      <td>2</td>\n",
       "      <td>-1984.507589</td>\n",
       "      <td>40</td>\n",
       "      <td>среднее</td>\n",
       "      <td>1</td>\n",
       "      <td>женат / замужем</td>\n",
       "      <td>0</td>\n",
       "      <td>F</td>\n",
       "      <td>сотрудник</td>\n",
       "      <td>0</td>\n",
       "      <td>82047.418899</td>\n",
       "      <td>на покупку автомобиля</td>\n",
       "    </tr>\n",
       "  </tbody>\n",
       "</table>\n",
       "</div>"
      ],
      "text/plain": [
       "       children  days_employed  dob_years education  education_id  \\\n",
       "21522         1   -2113.346888         38   среднее             1   \n",
       "21523         3   -3112.481705         38   среднее             1   \n",
       "21524         2   -1984.507589         40   среднее             1   \n",
       "\n",
       "          family_status  family_status_id gender income_type  debt  \\\n",
       "21522  гражданский брак                 1      M   сотрудник     1   \n",
       "21523   женат / замужем                 0      M   сотрудник     1   \n",
       "21524   женат / замужем                 0      F   сотрудник     0   \n",
       "\n",
       "        total_income                       purpose  \n",
       "21522   89672.561153                  недвижимость  \n",
       "21523  244093.050500  на покупку своего автомобиля  \n",
       "21524   82047.418899         на покупку автомобиля  "
      ]
     },
     "execution_count": 3,
     "metadata": {},
     "output_type": "execute_result"
    }
   ],
   "source": [
    "data.tail(3)"
   ]
  },
  {
   "cell_type": "code",
   "execution_count": 4,
   "metadata": {},
   "outputs": [
    {
     "name": "stdout",
     "output_type": "stream",
     "text": [
      "<class 'pandas.core.frame.DataFrame'>\n",
      "RangeIndex: 21525 entries, 0 to 21524\n",
      "Data columns (total 12 columns):\n",
      "children            21525 non-null int64\n",
      "days_employed       19351 non-null float64\n",
      "dob_years           21525 non-null int64\n",
      "education           21525 non-null object\n",
      "education_id        21525 non-null int64\n",
      "family_status       21525 non-null object\n",
      "family_status_id    21525 non-null int64\n",
      "gender              21525 non-null object\n",
      "income_type         21525 non-null object\n",
      "debt                21525 non-null int64\n",
      "total_income        19351 non-null float64\n",
      "purpose             21525 non-null object\n",
      "dtypes: float64(2), int64(5), object(5)\n",
      "memory usage: 2.0+ MB\n"
     ]
    }
   ],
   "source": [
    "data.info()"
   ]
  },
  {
   "cell_type": "code",
   "execution_count": 5,
   "metadata": {},
   "outputs": [
    {
     "data": {
      "text/plain": [
       "Index(['children', 'days_employed', 'dob_years', 'education', 'education_id',\n",
       "       'family_status', 'family_status_id', 'gender', 'income_type', 'debt',\n",
       "       'total_income', 'purpose'],\n",
       "      dtype='object')"
      ]
     },
     "execution_count": 5,
     "metadata": {},
     "output_type": "execute_result"
    }
   ],
   "source": [
    "data.columns"
   ]
  },
  {
   "cell_type": "code",
   "execution_count": 6,
   "metadata": {},
   "outputs": [
    {
     "data": {
      "text/html": [
       "<div>\n",
       "<style scoped>\n",
       "    .dataframe tbody tr th:only-of-type {\n",
       "        vertical-align: middle;\n",
       "    }\n",
       "\n",
       "    .dataframe tbody tr th {\n",
       "        vertical-align: top;\n",
       "    }\n",
       "\n",
       "    .dataframe thead th {\n",
       "        text-align: right;\n",
       "    }\n",
       "</style>\n",
       "<table border=\"1\" class=\"dataframe\">\n",
       "  <thead>\n",
       "    <tr style=\"text-align: right;\">\n",
       "      <th></th>\n",
       "      <th>children</th>\n",
       "      <th>days_employed</th>\n",
       "      <th>dob_years</th>\n",
       "      <th>education_id</th>\n",
       "      <th>family_status_id</th>\n",
       "      <th>debt</th>\n",
       "      <th>total_income</th>\n",
       "    </tr>\n",
       "  </thead>\n",
       "  <tbody>\n",
       "    <tr>\n",
       "      <td>count</td>\n",
       "      <td>21525.000000</td>\n",
       "      <td>19351.000000</td>\n",
       "      <td>21525.000000</td>\n",
       "      <td>21525.000000</td>\n",
       "      <td>21525.000000</td>\n",
       "      <td>21525.000000</td>\n",
       "      <td>1.935100e+04</td>\n",
       "    </tr>\n",
       "    <tr>\n",
       "      <td>mean</td>\n",
       "      <td>0.538908</td>\n",
       "      <td>63046.497661</td>\n",
       "      <td>43.293380</td>\n",
       "      <td>0.817236</td>\n",
       "      <td>0.972544</td>\n",
       "      <td>0.080883</td>\n",
       "      <td>1.674223e+05</td>\n",
       "    </tr>\n",
       "    <tr>\n",
       "      <td>std</td>\n",
       "      <td>1.381587</td>\n",
       "      <td>140827.311974</td>\n",
       "      <td>12.574584</td>\n",
       "      <td>0.548138</td>\n",
       "      <td>1.420324</td>\n",
       "      <td>0.272661</td>\n",
       "      <td>1.029716e+05</td>\n",
       "    </tr>\n",
       "    <tr>\n",
       "      <td>min</td>\n",
       "      <td>-1.000000</td>\n",
       "      <td>-18388.949901</td>\n",
       "      <td>0.000000</td>\n",
       "      <td>0.000000</td>\n",
       "      <td>0.000000</td>\n",
       "      <td>0.000000</td>\n",
       "      <td>2.066726e+04</td>\n",
       "    </tr>\n",
       "    <tr>\n",
       "      <td>25%</td>\n",
       "      <td>0.000000</td>\n",
       "      <td>-2747.423625</td>\n",
       "      <td>33.000000</td>\n",
       "      <td>1.000000</td>\n",
       "      <td>0.000000</td>\n",
       "      <td>0.000000</td>\n",
       "      <td>1.030532e+05</td>\n",
       "    </tr>\n",
       "    <tr>\n",
       "      <td>50%</td>\n",
       "      <td>0.000000</td>\n",
       "      <td>-1203.369529</td>\n",
       "      <td>42.000000</td>\n",
       "      <td>1.000000</td>\n",
       "      <td>0.000000</td>\n",
       "      <td>0.000000</td>\n",
       "      <td>1.450179e+05</td>\n",
       "    </tr>\n",
       "    <tr>\n",
       "      <td>75%</td>\n",
       "      <td>1.000000</td>\n",
       "      <td>-291.095954</td>\n",
       "      <td>53.000000</td>\n",
       "      <td>1.000000</td>\n",
       "      <td>1.000000</td>\n",
       "      <td>0.000000</td>\n",
       "      <td>2.034351e+05</td>\n",
       "    </tr>\n",
       "    <tr>\n",
       "      <td>max</td>\n",
       "      <td>20.000000</td>\n",
       "      <td>401755.400475</td>\n",
       "      <td>75.000000</td>\n",
       "      <td>4.000000</td>\n",
       "      <td>4.000000</td>\n",
       "      <td>1.000000</td>\n",
       "      <td>2.265604e+06</td>\n",
       "    </tr>\n",
       "  </tbody>\n",
       "</table>\n",
       "</div>"
      ],
      "text/plain": [
       "           children  days_employed     dob_years  education_id  \\\n",
       "count  21525.000000   19351.000000  21525.000000  21525.000000   \n",
       "mean       0.538908   63046.497661     43.293380      0.817236   \n",
       "std        1.381587  140827.311974     12.574584      0.548138   \n",
       "min       -1.000000  -18388.949901      0.000000      0.000000   \n",
       "25%        0.000000   -2747.423625     33.000000      1.000000   \n",
       "50%        0.000000   -1203.369529     42.000000      1.000000   \n",
       "75%        1.000000    -291.095954     53.000000      1.000000   \n",
       "max       20.000000  401755.400475     75.000000      4.000000   \n",
       "\n",
       "       family_status_id          debt  total_income  \n",
       "count      21525.000000  21525.000000  1.935100e+04  \n",
       "mean           0.972544      0.080883  1.674223e+05  \n",
       "std            1.420324      0.272661  1.029716e+05  \n",
       "min            0.000000      0.000000  2.066726e+04  \n",
       "25%            0.000000      0.000000  1.030532e+05  \n",
       "50%            0.000000      0.000000  1.450179e+05  \n",
       "75%            1.000000      0.000000  2.034351e+05  \n",
       "max            4.000000      1.000000  2.265604e+06  "
      ]
     },
     "execution_count": 6,
     "metadata": {},
     "output_type": "execute_result"
    }
   ],
   "source": [
    "data.describe()"
   ]
  },
  {
   "cell_type": "markdown",
   "metadata": {},
   "source": [
    "<a name=\"1.3.\"></a>\n",
    "### Анализ отдельных столбцов\n",
    "<font size=\"2\">([к содержанию](#0.0))</font>"
   ]
  },
  {
   "cell_type": "code",
   "execution_count": 7,
   "metadata": {},
   "outputs": [
    {
     "data": {
      "text/plain": [
       "1093"
      ]
     },
     "execution_count": 7,
     "metadata": {},
     "output_type": "execute_result"
    }
   ],
   "source": [
    "#количество строк, в которых есть заглавные буквы\n",
    "data['education'].str.isupper().sum()"
   ]
  },
  {
   "cell_type": "code",
   "execution_count": 8,
   "metadata": {},
   "outputs": [
    {
     "data": {
      "text/plain": [
       "среднее                13750\n",
       "высшее                  4718\n",
       "СРЕДНЕЕ                  772\n",
       "Среднее                  711\n",
       "неоконченное высшее      668\n",
       "ВЫСШЕЕ                   274\n",
       "Высшее                   268\n",
       "начальное                250\n",
       "Неоконченное высшее       47\n",
       "НЕОКОНЧЕННОЕ ВЫСШЕЕ       29\n",
       "НАЧАЛЬНОЕ                 17\n",
       "Начальное                 15\n",
       "ученая степень             4\n",
       "Ученая степень             1\n",
       "УЧЕНАЯ СТЕПЕНЬ             1\n",
       "Name: education, dtype: int64"
      ]
     },
     "execution_count": 8,
     "metadata": {},
     "output_type": "execute_result"
    }
   ],
   "source": [
    "#Различные значения в стобце об образовании\n",
    "data['education'].value_counts()"
   ]
  },
  {
   "cell_type": "code",
   "execution_count": 9,
   "metadata": {},
   "outputs": [
    {
     "data": {
      "text/plain": [
       "15906"
      ]
     },
     "execution_count": 9,
     "metadata": {},
     "output_type": "execute_result"
    }
   ],
   "source": [
    "#Странные значения в столбце с трудовым стажем\n",
    "data[data['days_employed']<0]['days_employed'].count()"
   ]
  },
  {
   "cell_type": "code",
   "execution_count": 10,
   "metadata": {},
   "outputs": [
    {
     "data": {
      "text/plain": [
       " 0     14149\n",
       " 1      4818\n",
       " 2      2055\n",
       " 3       330\n",
       " 20       76\n",
       "-1        47\n",
       " 4        41\n",
       " 5         9\n",
       "Name: children, dtype: int64"
      ]
     },
     "execution_count": 10,
     "metadata": {},
     "output_type": "execute_result"
    }
   ],
   "source": [
    "#Количество детей\n",
    "data['children'].value_counts()"
   ]
  },
  {
   "cell_type": "code",
   "execution_count": 11,
   "metadata": {},
   "outputs": [],
   "source": [
    "#Переводим всё в нижний регистр для анализа данных\n",
    "data['education']=data['education'].str.lower()\n",
    "data['family_status']=data['family_status'].str.lower()"
   ]
  },
  {
   "cell_type": "code",
   "execution_count": 12,
   "metadata": {},
   "outputs": [
    {
     "data": {
      "text/plain": [
       "среднее                1540\n",
       "высшее                  544\n",
       "неоконченное высшее      69\n",
       "начальное                21\n",
       "Name: education, dtype: int64"
      ]
     },
     "execution_count": 12,
     "metadata": {},
     "output_type": "execute_result"
    }
   ],
   "source": [
    "#Смотрим на строки с пропусками\n",
    "data.loc[data['days_employed'].isnull()]['education'].value_counts()"
   ]
  },
  {
   "cell_type": "markdown",
   "metadata": {},
   "source": [
    "<a name=\"1.4.\"></a>\n",
    "### Вывод:\n",
    "- Размер файла: файл содержит 21525 записей о клиентах. Каждая запись включает в себя 12 атрибутов\n",
    "- Обнаруженные пропуски: в 2174 записях обнаружены пропуски в столбцах days_employed и total_income (может это безработные?)\n",
    "- Наименование столбцов: лишних пробелов, скрытых символов и различеных регистров не обнаружено\n",
    "- Наличие отрицательных значений не допускается<br>\n",
    "<font size=\"2\">([к содержанию](#0.0))</font>"
   ]
  },
  {
   "cell_type": "markdown",
   "metadata": {},
   "source": [
    "<a name=\"2.\"></a>\n",
    "## Шаг 2. Предобработка данных\n",
    "<font size=\"2\">([к содержанию](#0.0))</font>"
   ]
  },
  {
   "cell_type": "markdown",
   "metadata": {},
   "source": [
    "<a name=\"2.1\"></a>\n",
    "### Определяем и заполняем пропущенные значения\n",
    "<font size=\"2\">([к содержанию](#0.0))</font>"
   ]
  },
  {
   "cell_type": "code",
   "execution_count": 13,
   "metadata": {},
   "outputs": [
    {
     "name": "stdout",
     "output_type": "stream",
     "text": [
      "Аномальное количество записей о детях 0.35%\n",
      "Аномальное количество записей о стаже 10.10%\n",
      "Аномальное количество записей о возрасте 0.47%\n"
     ]
    }
   ],
   "source": [
    "#Заполняем пропуски по стажу\n",
    "def fill_days_employed(row):\n",
    "    if pd.isnull(row['days_employed']):\n",
    "        if row['income_type']=='безработный':\n",
    "            return median_values['days_employed_median']['безработный']\n",
    "        if row['income_type']=='в декрете':\n",
    "            return median_values['days_employed_median']['в декрете']\n",
    "        if row['income_type']=='госслужащий':\n",
    "            return median_values['days_employed_median']['госслужащий']\n",
    "        if row['income_type']=='компаньон':\n",
    "            return median_values['days_employed_median']['компаньон']\n",
    "        if row['income_type']=='пенсионер':\n",
    "            return median_values['days_employed_median']['пенсионер']\n",
    "        if row['income_type']=='предприниматель':\n",
    "            return median_values['days_employed_median']['предприниматель']\n",
    "        if row['income_type']=='сотрудник':\n",
    "            return median_values['days_employed_median']['сотрудник']\n",
    "        if row['income_type']=='студент':\n",
    "            return median_values['days_employed_median']['студент']\n",
    "    return row['days_employed']\n",
    "\n",
    "#По доходу\n",
    "def fill_total_income(row):\n",
    "    if pd.isnull(row['total_income']):\n",
    "        if row['income_type']=='безработный':\n",
    "            return median_values['total_income_median']['безработный']\n",
    "        if row['income_type']=='в декрете':\n",
    "            return median_values['total_income_median']['в декрете']\n",
    "        if row['income_type']=='госслужащий':\n",
    "            return median_values['total_income_median']['госслужащий']\n",
    "        if row['income_type']=='компаньон':\n",
    "            return median_values['total_income_median']['компаньон']\n",
    "        if row['income_type']=='пенсионер':\n",
    "            return median_values['total_income_median']['пенсионер']\n",
    "        if row['income_type']=='предприниматель':\n",
    "            return median_values['total_income_median']['предприниматель']\n",
    "        if row['income_type']=='сотрудник':\n",
    "            return median_values['total_income_median']['сотрудник']\n",
    "        if row['income_type']=='студент':\n",
    "            return median_values['total_income_median']['студент']\n",
    "    return row['total_income']\n",
    "\n",
    "def deleteMinus(row):\n",
    "    if pd.isnull(row['days_employed']):\n",
    "        return row['days_employed']\n",
    "    if row['days_employed']>0:\n",
    "        return row['days_employed']\n",
    "    else:\n",
    "        return row['days_employed']*(-1)\n",
    "\n",
    "data['days_employed']=data.apply(deleteMinus, axis=1)   \n",
    "\n",
    "#Столбец с количество детей\n",
    "data.loc[data['children']==-1,'children']=0\n",
    "anbormal_children_count=data[(data['children']==-1) | (data['children']==20)]['children'].count()\n",
    "print('Аномальное количество записей о детях {:.2%}'.format(anbormal_children_count/len(data)))\n",
    "\n",
    "#Столбец с общим трудовым стажем в днях\n",
    "data['days_employed'].value_counts().reset_index().sort_values('index')\n",
    "print('Аномальное количество записей о стаже {:.2%}'.format(\n",
    "    len(data.loc[data['days_employed'].isnull()])/len(data)))\n",
    "\n",
    "#Выделяем группу без пустых значений\n",
    "fill_grouped_data=data.loc[data['days_employed'].isnull()!=True].groupby('income_type')\n",
    "\n",
    "#Анализируем разброс значений внутри групп\n",
    "fill_grouped_data_stats=[fill_grouped_data['days_employed'].min(), fill_grouped_data['days_employed'].max(), \n",
    "                         fill_grouped_data['total_income'].min(), fill_grouped_data['total_income'].max()]\n",
    "\n",
    "#Сохраняем медианы\n",
    "median_values=pd.merge(fill_grouped_data['days_employed'].median(),\n",
    "                       fill_grouped_data['total_income'].median(),\n",
    "                       how='inner', left_index=True, right_index=True)\n",
    "\n",
    "median_values.set_axis(['days_employed_median','total_income_median'], axis=1, inplace=True)\n",
    "\n",
    "#Заполняем пустые значения медиаными значениями (может это можно сделать эффективнее)\n",
    "data['days_employed']=data.apply(fill_days_employed,axis=1)\n",
    "data['total_income']=data.apply(fill_total_income, axis=1)\n",
    "\n",
    "#Столбец с возрастом\n",
    "data['dob_years'].value_counts().reset_index().sort_values('index').reset_index(drop=True)\n",
    "print('Аномальное количество записей о возрасте {:.2%}'.format(data[data['dob_years']==0]['dob_years'].count()/len(data)))\n",
    "data=data.loc[data['dob_years']!=0]\n",
    "\n",
    "#Удаляем запись с неопределившимся полом\n",
    "data = data.loc[data['gender'] != 'XNA']"
   ]
  },
  {
   "cell_type": "markdown",
   "metadata": {},
   "source": [
    "<a name=\"2.2\"></a>\n",
    "### Вывод\n",
    "\n",
    "\n",
    "Для расчётов столбец days_employed возьмём по модулю, так как отрицательные значения трудового стажа обусловлены неправильной выгрузкой данных\n",
    "- [children] - содержит несколько аномальных значений: -1, 20. Их доля составляет всего лишь 1 процент - следовательно, их можно выкинуть или оставить, изменив значение -1 на 0 и приняв 20 детей\n",
    "- [days_employed] - обнаружены значения NaN. Доля пустых значений составляет 10%. Для того чтобы заполнить пропуски мы:\n",
    "    - выделяем DataFrame, в котором нет пустых значений\n",
    "    - изучаем разброс между максимальными и минимальными значениями в трудовом стаже. Ввиду того, что разброс большой, следует использовать медианные значения для заполненеия пропусков\n",
    "    - создаём с помощью метода merge объединённый DataFrame, в котором находятся медианые значения days_employed и total_income для каждой из групп клиентов\n",
    "    - Заполняем медианными значениями\n",
    "- [dob_years] - содержит аномальное значение: 0. Их доля составляет 0.47%\n",
    "- [education] - аномалий не содержит, нужно удалить повторения\n",
    "- [education_id] - аномалий не содержит\n",
    "- [family_status] - аномалий не обнаружено, нужно перевести в нижний регистр следующие записи: Не женат\n",
    "- [family_status_id] - аномалий не обнаружено\n",
    "- [gender] - у одного клиента не указан пол\n",
    "- [income_type] - аномалий не обнаружено\n",
    "- [debt] - аномалий не обнаружено\n",
    "- [total_income] - заполняем пропуски (NaN)\n",
    "- [purpose] -аномалий не обнаружено\n",
    "\n",
    "Предполагаемая причина наличия пропусков в данных - ошибки на этапе их выгрузки, хотя присутствует доминирование пропусков у людей со средним образованием c типом занятости \"сотрудник\" (неправильно заполнена анкета или они не работали на официальных местах)<br>\n",
    "<font size=\"2\">([к содержанию](#0.0))</font>"
   ]
  },
  {
   "cell_type": "markdown",
   "metadata": {},
   "source": [
    "<a name=\"2.3\"></a>\n",
    "### Заменяем типы\n",
    "<font size=\"2\">([к содержанию](#0.0))</font>"
   ]
  },
  {
   "cell_type": "code",
   "execution_count": 14,
   "metadata": {},
   "outputs": [],
   "source": [
    "data['days_employed']=data['days_employed'].astype('int')\n",
    "data['total_income']=data['total_income'].astype('int')"
   ]
  },
  {
   "cell_type": "code",
   "execution_count": 15,
   "metadata": {},
   "outputs": [
    {
     "name": "stdout",
     "output_type": "stream",
     "text": [
      "пенсионер      3836\n",
      "безработный       2\n",
      "Name: income_type, dtype: int64\n"
     ]
    }
   ],
   "source": [
    "data['years_employed']=data['days_employed']/365\n",
    "print(data.loc[(data['dob_years']-data['years_employed'])<10]['income_type'].value_counts())\n",
    "def convertToDays(row):\n",
    "    if (row['dob_years']-row['years_employed'])<10:\n",
    "        return row['years_employed']/24\n",
    "    else:\n",
    "        return row['years_employed']\n",
    "\n",
    "data['years_employed']=data.apply(convertToDays,axis=1)\n",
    "\n",
    "#Те значения, которые и опять не вписались в данные, мы отсеиваем (значения с 0 в графе возраст - тоже)\n",
    "data=data.loc[(data['dob_years']-data['years_employed'])>=10]"
   ]
  },
  {
   "cell_type": "markdown",
   "metadata": {},
   "source": [
    "<a name=\"2.4\"></a>\n",
    "### Вывод\n",
    "- Метод to_numeric() не подходит, так как он можете перевести только во float.\n",
    "- Пропуски уже заполнены, поэтому можно использовать astype().\n",
    "- Дроби можно спосокойно отбросить, так как потеря нескольких часов трудового времени и нескольких копеек в доходе несущественна\n",
    "- При анализе связи между стажем и возрастом было обнаружено, что преимущество для пенсионеров указана неверная размерность стажа. Предполагается, что она указана в часах.<br>\n",
    "<font size=\"2\">([к содержанию](#0.0))</font>"
   ]
  },
  {
   "cell_type": "markdown",
   "metadata": {},
   "source": [
    "<a name=\"2.5\"></a>\n",
    "### Удаляем дубликаты\n",
    "<font size=\"2\">([к содержанию](#0.0))</font>"
   ]
  },
  {
   "cell_type": "code",
   "execution_count": 16,
   "metadata": {},
   "outputs": [
    {
     "data": {
      "text/plain": [
       "71"
      ]
     },
     "execution_count": 16,
     "metadata": {},
     "output_type": "execute_result"
    }
   ],
   "source": [
    "data.duplicated().sum()"
   ]
  },
  {
   "cell_type": "code",
   "execution_count": 17,
   "metadata": {},
   "outputs": [
    {
     "data": {
      "text/plain": [
       "0"
      ]
     },
     "execution_count": 17,
     "metadata": {},
     "output_type": "execute_result"
    }
   ],
   "source": [
    "data=data.drop_duplicates().reset_index(drop=True)\n",
    "data.duplicated().sum()"
   ]
  },
  {
   "cell_type": "markdown",
   "metadata": {},
   "source": [
    "<a name=\"2.6\"></a>\n",
    "### Вывод\n",
    "Ручной поиск дубликатов производить бессмыслено, так как уже устранены пустые значения, а метод duplicated() нашёл 71 значение, которые были просто удалены из данных.<br>\n",
    "Возможная причина дубликатов: клиент несколько раз подавал заявление на кредит<br>\n",
    "<font size=\"2\">([к содержанию](#0.0))</font>"
   ]
  },
  {
   "cell_type": "markdown",
   "metadata": {},
   "source": [
    "<a name=\"2.7\"></a>\n",
    "### Выделяем леммы\n",
    "<font size=\"2\">([к содержанию](#0.0))</font>"
   ]
  },
  {
   "cell_type": "code",
   "execution_count": 18,
   "metadata": {},
   "outputs": [
    {
     "name": "stdout",
     "output_type": "stream",
     "text": [
      "Wall time: 8h 43min 19s\n"
     ]
    }
   ],
   "source": [
    "%%time\n",
    "m = Mystem()\n",
    "#Выделяем леммы\n",
    "all_lemmas=\"\"\n",
    "for i in data['purpose']:\n",
    "    all_lemmas+=' '+''.join((m.lemmatize(i))[:-1]) #убираем символ окончания строки\n",
    "    \n",
    "data['purpose'].value_counts()\n",
    "#Создаём список с наиболее характерными целями\n",
    "purpose_dictionary=['свадьба', 'коммерческий', 'жилье', \n",
    "                    'ремонт', 'автомобиль', 'образование', 'недвижимость']\n",
    "\n",
    "\n",
    "\n",
    "def lemmatize(row):\n",
    "    lemmas_record=m.lemmatize(row['purpose'])\n",
    "    for word in lemmas_record:\n",
    "        if word in purpose_dictionary:\n",
    "            return word\n",
    "    return row['purpose']\n",
    "\n",
    "\n",
    "data['lemmas']=data.apply(lemmatize,axis=1)"
   ]
  },
  {
   "cell_type": "code",
   "execution_count": 41,
   "metadata": {},
   "outputs": [
    {
     "data": {
      "image/png": "[encoded data removed]",
      "text/plain": [
       "<Figure size 1440x360 with 1 Axes>"
      ]
     },
     "metadata": {
      "needs_background": "light"
     },
     "output_type": "display_data"
    }
   ],
   "source": [
    "plt.figure(figsize=(20,5))\n",
    "all_lemmas_dict=dict(Counter(all_lemmas.split()))\n",
    "all_lemmas_keys=list(all_lemmas_dict.keys())\n",
    "all_lemmas_values=list(all_lemmas_dict.values())\n",
    "sns.barplot(x=all_lemmas_keys, y=all_lemmas_values, palette=\"rocket\")\n",
    "plt.xticks(rotation=30)\n",
    "plt.show()"
   ]
  },
  {
   "cell_type": "code",
   "execution_count": 19,
   "metadata": {},
   "outputs": [
    {
     "data": {
      "text/plain": [
       "недвижимость    4919\n",
       "автомобиль      4210\n",
       "образование     3927\n",
       "жилье           3763\n",
       "свадьба         2260\n",
       "коммерческий    1281\n",
       "ремонт           597\n",
       "Name: lemmas, dtype: int64"
      ]
     },
     "execution_count": 19,
     "metadata": {},
     "output_type": "execute_result"
    }
   ],
   "source": [
    "purpose=data['lemmas'].value_counts()\n",
    "purpose"
   ]
  },
  {
   "cell_type": "markdown",
   "metadata": {},
   "source": [
    "<a name=\"2.8\"></a>\n",
    "### Вывод\n",
    "Была выполнена следующая последовательность действий:\n",
    "- Создали словарь с наиболее часто встречающимися целями. \n",
    "- Создали экземпляр класса Mystem\n",
    "- Вызвали метод, который возвращает список строк\n",
    "- Нашли соответствие между целью с леммы и целью в словаре\n",
    "- Cохранили значение\n",
    "- Если совпадений в словаре нет, сохраняем неизменённую цель \n",
    "- Отделили коммерческую недвижимость от простой недвижимости и жилья<br>\n",
    "<font size=\"2\">([к содержанию](#0.0))</font>"
   ]
  },
  {
   "cell_type": "markdown",
   "metadata": {},
   "source": [
    "<a name=\"2.9\"></a>\n",
    "### Категоризируем данные\n",
    "<font size=\"2\">([к содержанию](#0.0))</font>"
   ]
  },
  {
   "cell_type": "code",
   "execution_count": 21,
   "metadata": {},
   "outputs": [],
   "source": [
    "data['total_income'].min()\n",
    "data['total_income'].max()\n",
    "data['total_income'].median()\n",
    "\n",
    "low_income=np.quantile(data['total_income'], .25)\n",
    "high_income=np.quantile(data['total_income'], .75)\n",
    "\n",
    "#Преобразуем в int\n",
    "data['years_employed']=data['years_employed'].astype('int')"
   ]
  },
  {
   "cell_type": "code",
   "execution_count": 54,
   "metadata": {},
   "outputs": [
    {
     "data": {
      "text/plain": [
       "<matplotlib.axes._subplots.AxesSubplot at 0x19a53565208>"
      ]
     },
     "execution_count": 54,
     "metadata": {},
     "output_type": "execute_result"
    },
    {
     "data": {
      "image/png": "[encoded data removed]",
      "text/plain": [
       "<Figure size 720x360 with 1 Axes>"
      ]
     },
     "metadata": {
      "needs_background": "light"
     },
     "output_type": "display_data"
    }
   ],
   "source": [
    "#Посмотрим на распределение\n",
    "plt.figure(figsize=(10,5))\n",
    "plt.axis([0,300_000,0,7_000])\n",
    "dataForPlot['total_income'].hist(bins=100)"
   ]
  },
  {
   "cell_type": "code",
   "execution_count": 22,
   "metadata": {},
   "outputs": [
    {
     "data": {
      "text/plain": [
       "<matplotlib.axes._subplots.AxesSubplot at 0x19a47d13308>"
      ]
     },
     "execution_count": 22,
     "metadata": {},
     "output_type": "execute_result"
    },
    {
     "data": {
      "image/png": "[encoded data removed]",
      "text/plain": [
       "<Figure size 432x288 with 1 Axes>"
      ]
     },
     "metadata": {
      "needs_background": "light"
     },
     "output_type": "display_data"
    }
   ],
   "source": [
    "dataForPlot=data.reset_index()\n",
    "dataForPlot.plot(x='index',y='total_income')"
   ]
  },
  {
   "cell_type": "code",
   "execution_count": 23,
   "metadata": {},
   "outputs": [],
   "source": [
    "def sliplitIncome(row):\n",
    "    if row['total_income']<low_income:\n",
    "        return \"низкий\"\n",
    "    if row['total_income']>high_income:\n",
    "        return \"высокий\"\n",
    "    else:\n",
    "        return \"средний\"\n",
    "    \n",
    "data['total_income_type']=data.apply(sliplitIncome,axis=1)"
   ]
  },
  {
   "cell_type": "markdown",
   "metadata": {},
   "source": [
    "<a name=\"2.10\"></a>\n",
    "### Вывод\n",
    "Добавляем словарь с доходом населения: то что левее 25% квантиля - низкий доход, высокий доход - то что правее 75% квантиля. Это поможет разделить население по уровню дохода \n",
    "<br>\n",
    "<font size=\"2\">([к содержанию](#0.0))</font>"
   ]
  },
  {
   "cell_type": "markdown",
   "metadata": {},
   "source": [
    "<a name=\"3.\"></a>\n",
    "## Шаг 3. Анализ зависимостей\n",
    "<font size=\"2\">([к содержанию](#0.0))</font>"
   ]
  },
  {
   "cell_type": "markdown",
   "metadata": {},
   "source": [
    "<a name=\"3.1\"></a>\n",
    "### Есть ли зависимость между наличием детей и возвратом кредита в срок?\n",
    "<font size=\"2\">([к содержанию](#0.0))</font>"
   ]
  },
  {
   "cell_type": "code",
   "execution_count": 55,
   "metadata": {},
   "outputs": [
    {
     "data": {
      "text/html": [
       "<div>\n",
       "<style scoped>\n",
       "    .dataframe tbody tr th:only-of-type {\n",
       "        vertical-align: middle;\n",
       "    }\n",
       "\n",
       "    .dataframe tbody tr th {\n",
       "        vertical-align: top;\n",
       "    }\n",
       "\n",
       "    .dataframe thead tr th {\n",
       "        text-align: left;\n",
       "    }\n",
       "\n",
       "    .dataframe thead tr:last-of-type th {\n",
       "        text-align: right;\n",
       "    }\n",
       "</style>\n",
       "<table border=\"1\" class=\"dataframe\">\n",
       "  <thead>\n",
       "    <tr>\n",
       "      <th></th>\n",
       "      <th>count</th>\n",
       "      <th>sum</th>\n",
       "      <th>ratio</th>\n",
       "    </tr>\n",
       "    <tr>\n",
       "      <th></th>\n",
       "      <th>debt</th>\n",
       "      <th>debt</th>\n",
       "      <th></th>\n",
       "    </tr>\n",
       "    <tr>\n",
       "      <th>children</th>\n",
       "      <th></th>\n",
       "      <th></th>\n",
       "      <th></th>\n",
       "    </tr>\n",
       "  </thead>\n",
       "  <tbody>\n",
       "    <tr>\n",
       "      <td>0</td>\n",
       "      <td>13748</td>\n",
       "      <td>1039</td>\n",
       "      <td>0.075575</td>\n",
       "    </tr>\n",
       "    <tr>\n",
       "      <td>1</td>\n",
       "      <td>4734</td>\n",
       "      <td>436</td>\n",
       "      <td>0.092100</td>\n",
       "    </tr>\n",
       "    <tr>\n",
       "      <td>2</td>\n",
       "      <td>2027</td>\n",
       "      <td>192</td>\n",
       "      <td>0.094721</td>\n",
       "    </tr>\n",
       "    <tr>\n",
       "      <td>3</td>\n",
       "      <td>324</td>\n",
       "      <td>26</td>\n",
       "      <td>0.080247</td>\n",
       "    </tr>\n",
       "    <tr>\n",
       "      <td>4</td>\n",
       "      <td>40</td>\n",
       "      <td>4</td>\n",
       "      <td>0.100000</td>\n",
       "    </tr>\n",
       "    <tr>\n",
       "      <td>5</td>\n",
       "      <td>9</td>\n",
       "      <td>0</td>\n",
       "      <td>0.000000</td>\n",
       "    </tr>\n",
       "    <tr>\n",
       "      <td>20</td>\n",
       "      <td>75</td>\n",
       "      <td>8</td>\n",
       "      <td>0.106667</td>\n",
       "    </tr>\n",
       "  </tbody>\n",
       "</table>\n",
       "</div>"
      ],
      "text/plain": [
       "          count   sum     ratio\n",
       "           debt  debt          \n",
       "children                       \n",
       "0         13748  1039  0.075575\n",
       "1          4734   436  0.092100\n",
       "2          2027   192  0.094721\n",
       "3           324    26  0.080247\n",
       "4            40     4  0.100000\n",
       "5             9     0  0.000000\n",
       "20           75     8  0.106667"
      ]
     },
     "execution_count": 55,
     "metadata": {},
     "output_type": "execute_result"
    }
   ],
   "source": [
    "grouped_data_by_children=data.groupby('children').agg({'debt':['count','sum']})\n",
    "grouped_data_by_children['ratio']=grouped_data_by_children['debt']['sum']/grouped_data_by_children['debt']['count']\n",
    "#print(grouped_data_by_children)\n",
    "\n",
    "\n",
    "pivot_table_by_children=pd.pivot_table(data, index=['children'], values=['debt'], aggfunc=['count','sum'])\n",
    "pivot_table_by_children['ratio']=pivot_table_by_children['sum']['debt']/pivot_table_by_children['count']['debt']\n",
    "pivot_table_by_children"
   ]
  },
  {
   "cell_type": "markdown",
   "metadata": {},
   "source": [
    "- семьи, в которых нет детей, реже всего задерживают платёж по кредиту\n",
    "- с увеличением количества детей имеется тенденция увеличения количества просроченных кредитов\n",
    "- в случае семей с 3 детьми наблюдается ситуация увеличения вероятности вовремя выплатить кредит\n",
    "- по семьям, в которых 5 детей, недостаточно информации и требуются соответствующие уточнения\n",
    "\n",
    "К тому же необходимы уточненния по-поводу выгрузки данных из сети по количеству детей. Если анамальному значению -1 соответствуют семьи с 1 ребёнком, то необходимо сделать соответствующие изменения в проекте"
   ]
  },
  {
   "cell_type": "markdown",
   "metadata": {},
   "source": [
    "<a name=\"3.2\"></a>\n",
    "### Есть ли зависимость между наличием детей и возвратом кредита в срок?\n",
    "<font size=\"2\">([к содержанию](#0.0))</font>"
   ]
  },
  {
   "cell_type": "code",
   "execution_count": 57,
   "metadata": {},
   "outputs": [
    {
     "data": {
      "text/html": [
       "<div>\n",
       "<style scoped>\n",
       "    .dataframe tbody tr th:only-of-type {\n",
       "        vertical-align: middle;\n",
       "    }\n",
       "\n",
       "    .dataframe tbody tr th {\n",
       "        vertical-align: top;\n",
       "    }\n",
       "\n",
       "    .dataframe thead tr th {\n",
       "        text-align: left;\n",
       "    }\n",
       "\n",
       "    .dataframe thead tr:last-of-type th {\n",
       "        text-align: right;\n",
       "    }\n",
       "</style>\n",
       "<table border=\"1\" class=\"dataframe\">\n",
       "  <thead>\n",
       "    <tr>\n",
       "      <th></th>\n",
       "      <th>count</th>\n",
       "      <th>sum</th>\n",
       "      <th>ratio</th>\n",
       "    </tr>\n",
       "    <tr>\n",
       "      <th></th>\n",
       "      <th>debt</th>\n",
       "      <th>debt</th>\n",
       "      <th></th>\n",
       "    </tr>\n",
       "    <tr>\n",
       "      <th>family_status</th>\n",
       "      <th></th>\n",
       "      <th></th>\n",
       "      <th></th>\n",
       "    </tr>\n",
       "  </thead>\n",
       "  <tbody>\n",
       "    <tr>\n",
       "      <td>в разводе</td>\n",
       "      <td>1163</td>\n",
       "      <td>84</td>\n",
       "      <td>0.072227</td>\n",
       "    </tr>\n",
       "    <tr>\n",
       "      <td>вдовец / вдова</td>\n",
       "      <td>935</td>\n",
       "      <td>61</td>\n",
       "      <td>0.065241</td>\n",
       "    </tr>\n",
       "    <tr>\n",
       "      <td>гражданский брак</td>\n",
       "      <td>4046</td>\n",
       "      <td>376</td>\n",
       "      <td>0.092931</td>\n",
       "    </tr>\n",
       "    <tr>\n",
       "      <td>женат / замужем</td>\n",
       "      <td>12058</td>\n",
       "      <td>913</td>\n",
       "      <td>0.075717</td>\n",
       "    </tr>\n",
       "    <tr>\n",
       "      <td>не женат / не замужем</td>\n",
       "      <td>2755</td>\n",
       "      <td>271</td>\n",
       "      <td>0.098367</td>\n",
       "    </tr>\n",
       "  </tbody>\n",
       "</table>\n",
       "</div>"
      ],
      "text/plain": [
       "                       count  sum     ratio\n",
       "                        debt debt          \n",
       "family_status                              \n",
       "в разводе               1163   84  0.072227\n",
       "вдовец / вдова           935   61  0.065241\n",
       "гражданский брак        4046  376  0.092931\n",
       "женат / замужем        12058  913  0.075717\n",
       "не женат / не замужем   2755  271  0.098367"
      ]
     },
     "execution_count": 57,
     "metadata": {},
     "output_type": "execute_result"
    }
   ],
   "source": [
    "grouped_data_by_family=data.groupby('family_status').agg({'debt':['count','sum']})\n",
    "grouped_data_by_family['ratio']=grouped_data_by_family['debt']['sum']/grouped_data_by_family['debt']['count']\n",
    "#grouped_data_by_family\n",
    "\n",
    "pivot_table_by_family=pd.pivot_table(data, index=['family_status'], values=['debt'], aggfunc=['count','sum'])\n",
    "pivot_table_by_family['ratio']=pivot_table_by_family['sum']['debt']/pivot_table_by_family['count']['debt']\n",
    "pivot_table_by_family"
   ]
  },
  {
   "cell_type": "markdown",
   "metadata": {},
   "source": [
    "- Статистика показывает, что вдове/вдовцу, свойственно реже пропускать дни платежей по кредиту (возможно, наследство, оставшееся от умершего партнёра, позволяет проще планировать бюджет по статье возвращения кредитных денег)\n",
    "- Парам с зарегестрированными семейными отношениями свойстве чаще соблюдать срок выплат по кредиту, чем семьям с неузаконенными отношениями.\n",
    "- Люди в разводе платят по кредитам наравне с семьями, в которых узаконены семейные отношения (в случае развода и имущество и долги платятся пополам)\n",
    "- Наиболее злостными неплотельщиками по кредитам являются люди без постоянного партнёра. Возможно, отсутствие финансового плеча, в виде супруга/супруги не позволяет им планировать платежи по кредиту\n",
    "- Люди в гражданском браке также часто как и холостые/незамужние пропускают платежи по кредуту. Возможно таже самая причина"
   ]
  },
  {
   "cell_type": "markdown",
   "metadata": {},
   "source": [
    "<a name=\"3.3\"></a>\n",
    "### Есть ли зависимость между наличием детей и возвратом кредита в срок?\n",
    "<font size=\"2\">([к содержанию](#0.0))</font>"
   ]
  },
  {
   "cell_type": "code",
   "execution_count": 61,
   "metadata": {},
   "outputs": [
    {
     "data": {
      "text/html": [
       "<div>\n",
       "<style scoped>\n",
       "    .dataframe tbody tr th:only-of-type {\n",
       "        vertical-align: middle;\n",
       "    }\n",
       "\n",
       "    .dataframe tbody tr th {\n",
       "        vertical-align: top;\n",
       "    }\n",
       "\n",
       "    .dataframe thead tr th {\n",
       "        text-align: left;\n",
       "    }\n",
       "\n",
       "    .dataframe thead tr:last-of-type th {\n",
       "        text-align: right;\n",
       "    }\n",
       "</style>\n",
       "<table border=\"1\" class=\"dataframe\">\n",
       "  <thead>\n",
       "    <tr>\n",
       "      <th></th>\n",
       "      <th>count</th>\n",
       "      <th>sum</th>\n",
       "      <th>ratio</th>\n",
       "    </tr>\n",
       "    <tr>\n",
       "      <th></th>\n",
       "      <th>debt</th>\n",
       "      <th>debt</th>\n",
       "      <th></th>\n",
       "    </tr>\n",
       "    <tr>\n",
       "      <th>total_income_type</th>\n",
       "      <th></th>\n",
       "      <th></th>\n",
       "      <th></th>\n",
       "    </tr>\n",
       "  </thead>\n",
       "  <tbody>\n",
       "    <tr>\n",
       "      <td>высокий</td>\n",
       "      <td>5239</td>\n",
       "      <td>377</td>\n",
       "      <td>0.071960</td>\n",
       "    </tr>\n",
       "    <tr>\n",
       "      <td>низкий</td>\n",
       "      <td>5239</td>\n",
       "      <td>419</td>\n",
       "      <td>0.079977</td>\n",
       "    </tr>\n",
       "    <tr>\n",
       "      <td>средний</td>\n",
       "      <td>10479</td>\n",
       "      <td>909</td>\n",
       "      <td>0.086745</td>\n",
       "    </tr>\n",
       "  </tbody>\n",
       "</table>\n",
       "</div>"
      ],
      "text/plain": [
       "                   count  sum     ratio\n",
       "                    debt debt          \n",
       "total_income_type                      \n",
       "высокий             5239  377  0.071960\n",
       "низкий              5239  419  0.079977\n",
       "средний            10479  909  0.086745"
      ]
     },
     "execution_count": 61,
     "metadata": {},
     "output_type": "execute_result"
    }
   ],
   "source": [
    "grouped_data_by_income=data.groupby('total_income_type').agg({'debt':['count','sum']})\n",
    "grouped_data_by_income['ratio']=grouped_data_by_family['debt']['sum']/grouped_data_by_family['debt']['count']\n",
    "grouped_data_by_income\n",
    "\n",
    "pivot_table_by_income=pd.pivot_table(data, index=['total_income_type'], values=['debt'], aggfunc=['count','sum'])\n",
    "pivot_table_by_income['ratio']=pivot_table_by_income['sum']['debt']/pivot_table_by_income['count']['debt']\n",
    "pivot_table_by_income"
   ]
  },
  {
   "cell_type": "markdown",
   "metadata": {},
   "source": [
    "- Людям с высокими доходами не свойственно пропускать платежи по кредиту (возможно, во-первых, они боятся за свой авторитет и имидж, а во-вторых, умеют планировать бюджет)\n",
    "- Люди с низким доходом также пытаются вовремя платить по креду (возможно, опасаются приставов, арестов имущества и штрафов (пени) за просрочку)"
   ]
  },
  {
   "cell_type": "markdown",
   "metadata": {},
   "source": [
    "<a name=\"3.4\"></a>\n",
    "### Есть ли зависимость между целью кредита и возвратом кредита в срок?\n",
    "<font size=\"2\">([к содержанию](#0.0))</font>"
   ]
  },
  {
   "cell_type": "code",
   "execution_count": 62,
   "metadata": {},
   "outputs": [
    {
     "data": {
      "text/html": [
       "<div>\n",
       "<style scoped>\n",
       "    .dataframe tbody tr th:only-of-type {\n",
       "        vertical-align: middle;\n",
       "    }\n",
       "\n",
       "    .dataframe tbody tr th {\n",
       "        vertical-align: top;\n",
       "    }\n",
       "\n",
       "    .dataframe thead tr th {\n",
       "        text-align: left;\n",
       "    }\n",
       "\n",
       "    .dataframe thead tr:last-of-type th {\n",
       "        text-align: right;\n",
       "    }\n",
       "</style>\n",
       "<table border=\"1\" class=\"dataframe\">\n",
       "  <thead>\n",
       "    <tr>\n",
       "      <th></th>\n",
       "      <th>count</th>\n",
       "      <th>sum</th>\n",
       "      <th>ratio</th>\n",
       "    </tr>\n",
       "    <tr>\n",
       "      <th></th>\n",
       "      <th>debt</th>\n",
       "      <th>debt</th>\n",
       "      <th></th>\n",
       "    </tr>\n",
       "    <tr>\n",
       "      <th>lemmas</th>\n",
       "      <th></th>\n",
       "      <th></th>\n",
       "      <th></th>\n",
       "    </tr>\n",
       "  </thead>\n",
       "  <tbody>\n",
       "    <tr>\n",
       "      <td>автомобиль</td>\n",
       "      <td>4210</td>\n",
       "      <td>393</td>\n",
       "      <td>0.093349</td>\n",
       "    </tr>\n",
       "    <tr>\n",
       "      <td>жилье</td>\n",
       "      <td>3763</td>\n",
       "      <td>267</td>\n",
       "      <td>0.070954</td>\n",
       "    </tr>\n",
       "    <tr>\n",
       "      <td>коммерческий</td>\n",
       "      <td>1281</td>\n",
       "      <td>97</td>\n",
       "      <td>0.075722</td>\n",
       "    </tr>\n",
       "    <tr>\n",
       "      <td>недвижимость</td>\n",
       "      <td>4919</td>\n",
       "      <td>369</td>\n",
       "      <td>0.075015</td>\n",
       "    </tr>\n",
       "    <tr>\n",
       "      <td>образование</td>\n",
       "      <td>3927</td>\n",
       "      <td>367</td>\n",
       "      <td>0.093456</td>\n",
       "    </tr>\n",
       "    <tr>\n",
       "      <td>ремонт</td>\n",
       "      <td>597</td>\n",
       "      <td>35</td>\n",
       "      <td>0.058626</td>\n",
       "    </tr>\n",
       "    <tr>\n",
       "      <td>свадьба</td>\n",
       "      <td>2260</td>\n",
       "      <td>177</td>\n",
       "      <td>0.078319</td>\n",
       "    </tr>\n",
       "  </tbody>\n",
       "</table>\n",
       "</div>"
      ],
      "text/plain": [
       "             count  sum     ratio\n",
       "              debt debt          \n",
       "lemmas                           \n",
       "автомобиль    4210  393  0.093349\n",
       "жилье         3763  267  0.070954\n",
       "коммерческий  1281   97  0.075722\n",
       "недвижимость  4919  369  0.075015\n",
       "образование   3927  367  0.093456\n",
       "ремонт         597   35  0.058626\n",
       "свадьба       2260  177  0.078319"
      ]
     },
     "execution_count": 62,
     "metadata": {},
     "output_type": "execute_result"
    }
   ],
   "source": [
    "grouped_data_by_purpose=data.groupby('lemmas').agg({'debt':['count','sum']})\n",
    "grouped_data_by_purpose['ratio']=grouped_data_by_family['debt']['sum']/grouped_data_by_family['debt']['count']\n",
    "#grouped_data_by_purpose\n",
    "\n",
    "pivot_table_by_purpose=pd.pivot_table(data, index=['lemmas'], values=['debt'], aggfunc=['count','sum'])\n",
    "pivot_table_by_purpose['ratio']=pivot_table_by_purpose['sum']['debt']/pivot_table_by_purpose['count']['debt']\n",
    "pivot_table_by_purpose"
   ]
  },
  {
   "cell_type": "markdown",
   "metadata": {},
   "source": [
    "- кредиты на автомобили и образование чаще остальных оплачиваются с просрочкой. Возможно причина в том, что данные категории товаров являются долгоокупаемыми.\n",
    "- кредиты на оплату ремонта, чаще остальных оплачиваются вовремя. Возможно необходимость планирования денег, ресурсов и в времени заставляет людей более серьёзно относиться к оплате кредитов\n",
    "- кредиты на жильё, комерческую недвижимость и жилую недвижимость (возможно второе или третье) и свадьбу имеют примерно одинаковую вероятность быть оплаченными вовремя. Однако кредит на жильё (ипотека на единственное жильё), как правило, чаще остальных из данной группы оплачивается вовремя"
   ]
  },
  {
   "cell_type": "markdown",
   "metadata": {},
   "source": [
    "<a name=\"4.\"></a>\n",
    "## Шаг 4. Сформируем выводы\n",
    "<font size=\"2\">([к содержанию](#0.0))</font>"
   ]
  },
  {
   "cell_type": "code",
   "execution_count": 63,
   "metadata": {},
   "outputs": [
    {
     "name": "stdout",
     "output_type": "stream",
     "text": [
      "недвижимость    23.471871\n",
      "автомобиль      20.088753\n",
      "образование     18.738369\n",
      "жилье           17.955814\n",
      "свадьба         10.783986\n",
      "коммерческий     6.112516\n",
      "ремонт           2.848690\n",
      "Name: lemmas, dtype: float64\n"
     ]
    }
   ],
   "source": [
    "#Цели в процентах\n",
    "print(purpose/purpose.sum()*100)"
   ]
  },
  {
   "cell_type": "markdown",
   "metadata": {},
   "source": [
    "В ходе исследования надёжности заёмщиков были определены категории граждан, которые в большей степени склонны вовремя платить по кредитным займам\n",
    "\n",
    "Исходные данные содержали множество аномальных значений. Среди 21525 записей о клиентах было выявлено:\n",
    "- 2174 записи в которых остуствовали значения в графах общий трудовой стаж и ежемесячный доход (преимущественно отсутствовали записи \n",
    "- 71 повторяющаяся запись;\n",
    "- 1 запись, в которой отсутствовал пол клиента (запись удалена из финального набора данных)\n",
    "- 47 записей с количеством детей, равным -1\n",
    "- 76 записей с количеством детей, равным 20\n",
    "\n",
    "Заполнение пустых значений осуществлялось по следующей методике. Из генеральной совокупности данных производилась выборка строк, в которых нет пустых атрибутов. Данная выборка группировалось по типу работников и создавалась новая таблица,в которой содержалась информация о максимальных и минимальных значениях по столбцам трудового стажа и дохода. На основании того, что в таблице разброс между максимальным и минимальным значениями велик (для стажа СКО=170 237 дней/часов, а для дохода 136060 рублей), было принято решения заполнять по средним значениями для каждой категории (среднее по всем категориям 89897 дней и 181794 рублей).<br>\n",
    "Все повторяющиеся записи были удалены. Предполагаемая причина их появления - один и тот же клиент с одним и тем же заявлением несколько раз был занесён в БД.<br>\n",
    "Для записей, у которых количество детей равно -1 было принято решения заменить на 0. Записи, в которых количество детей равно 20, остались без изменений. Фактическую природу этих данных необходимо уточнить. Возможно 20 детей соответствует записи с 2 детьми, а -1 - 1.<br>\n",
    "\n",
    "При последующих выгрузках из данной базы (баз) следует уделить внимание к таким параметрам как:\n",
    "- уровень образования\n",
    "- общий трудовой стаж\n",
    "В столбце уровень образовани было обнаружено 1093 записей с буквами в верхнем регистре. Столбец с струдовым стажем, помимо обозначенных выше проблем с отсутсвующими значениями, содержит множество строк (15906) с отрицательными значениями. В рамках данного анализа данных отрицательные значения были взяты по модулю, однако следует уточнить истинную природу данной ошибки.\n",
    "Также при анализе данных была обнаружено, что у некоторых клиентов общий трудовой стаж (его размерность по условию исчисляется в днях) больше возраста клиента в десятки раз. Для устранения данной ошибки в анализе было принято следующие преобразование: для клиентов, у которых разница между стажем в годах и фактическим возрастом меньше 10, размерность указана в часах. Как показывает анализ данных, неверный формат записи о стаже указан неправильно для пенсионеров (3836) и безработных (2)\n",
    "\n",
    "Наиболее частым целями на кредит среди представляенных записей являются:\n",
    "- недвижимость    23%\n",
    "- автомобиль      20%\n",
    "- образование     19%\n",
    "- жилье           18%\n",
    "- свадьба         11%\n",
    "- коммерческий     6%\n",
    "- ремонт           3%\n",
    "\n",
    "Наиболее предпочтительное кредитуемое лицо - это вдовец/вдова (6,52%), у которого нет детей (7,55%), доход больше 196 тыс. руб (7,19%) и цель его кредита - сделать ремонт в квартире (5,86%). В скобках указана вероятность просрочки по кредитному платежу \n"
   ]
  }
 ],
 "metadata": {
  "kernelspec": {
   "display_name": "Python 3",
   "language": "python",
   "name": "python3"
  },
  "language_info": {
   "codemirror_mode": {
    "name": "ipython",
    "version": 3
   },
   "file_extension": ".py",
   "mimetype": "text/x-python",
   "name": "python",
   "nbconvert_exporter": "python",
   "pygments_lexer": "ipython3",
   "version": "3.7.7"
  }
 },
 "nbformat": 4,
 "nbformat_minor": 2
}
