{
 "cells": [
  {
   "cell_type": "markdown",
   "metadata": {},
   "source": [
    "## Исследование надёжности заёмщиков\n",
    "\n",
    "Заказчик — кредитный отдел банка. Нужно разобраться, влияет ли семейное положение и количество детей клиента на факт погашения кредита в срок. Входные данные от банка — статистика о платёжеспособности клиентов."
   ]
  },
  {
   "cell_type": "markdown",
   "metadata": {},
   "source": [
    "<div style=\"border:solid green 2px; padding: 20px\"> <h1 style=\"color:green; margin-bottom:20px\">Комментарий наставника</h1>\n",
    "\n",
    "Привет! Поздравляю тебя с первым твоим проектом и спасибо, что вовремя сдал задание:) Ты проделал большую работу. Далее в файле мои коммефнтарии ты сможешь найти в ячейках, аналогичных данной ( если рамки комментария зелёные - всё сделано правильно; жёлтые - есть замечания, но не критично; красные - нужно переделать). Не удаляй эти комментарии и постарайся учесть их в ходе выполнения проекта. "
   ]
  },
  {
   "cell_type": "markdown",
   "metadata": {},
   "source": [
    "### Шаг 1. Откройте файл с данными и изучите общую информацию. "
   ]
  },
  {
   "cell_type": "code",
   "execution_count": 90,
   "metadata": {
    "scrolled": false
   },
   "outputs": [
    {
     "name": "stdout",
     "output_type": "stream",
     "text": [
      "    children  days_employed  dob_years            education  education_id  \\\n",
      "0          1   -8437.673028         42               высшее             0   \n",
      "1          1   -4024.803754         36              среднее             1   \n",
      "2          0   -5623.422610         33              Среднее             1   \n",
      "3          3   -4124.747207         32              среднее             1   \n",
      "4          0  340266.072047         53              среднее             1   \n",
      "5          0    -926.185831         27               высшее             0   \n",
      "6          0   -2879.202052         43               высшее             0   \n",
      "7          0    -152.779569         50              СРЕДНЕЕ             1   \n",
      "8          2   -6929.865299         35               ВЫСШЕЕ             0   \n",
      "9          0   -2188.756445         41              среднее             1   \n",
      "10         2   -4171.483647         36               высшее             0   \n",
      "11         0    -792.701887         40              среднее             1   \n",
      "12         0            NaN         65              среднее             1   \n",
      "13         0   -1846.641941         54  неоконченное высшее             2   \n",
      "14         0   -1844.956182         56               высшее             0   \n",
      "15         1    -972.364419         26              среднее             1   \n",
      "16         0   -1719.934226         35              среднее             1   \n",
      "17         0   -2369.999720         33               высшее             0   \n",
      "18         0  400281.136913         53              среднее             1   \n",
      "19         0  -10038.818549         48              СРЕДНЕЕ             1   \n",
      "\n",
      "       family_status  family_status_id gender income_type  debt  \\\n",
      "0    женат / замужем                 0      F   сотрудник     0   \n",
      "1    женат / замужем                 0      F   сотрудник     0   \n",
      "2    женат / замужем                 0      M   сотрудник     0   \n",
      "3    женат / замужем                 0      M   сотрудник     0   \n",
      "4   гражданский брак                 1      F   пенсионер     0   \n",
      "5   гражданский брак                 1      M   компаньон     0   \n",
      "6    женат / замужем                 0      F   компаньон     0   \n",
      "7    женат / замужем                 0      M   сотрудник     0   \n",
      "8   гражданский брак                 1      F   сотрудник     0   \n",
      "9    женат / замужем                 0      M   сотрудник     0   \n",
      "10   женат / замужем                 0      M   компаньон     0   \n",
      "11   женат / замужем                 0      F   сотрудник     0   \n",
      "12  гражданский брак                 1      M   пенсионер     0   \n",
      "13   женат / замужем                 0      F   сотрудник     0   \n",
      "14  гражданский брак                 1      F   компаньон     1   \n",
      "15   женат / замужем                 0      F   сотрудник     0   \n",
      "16   женат / замужем                 0      F   сотрудник     0   \n",
      "17  гражданский брак                 1      M   сотрудник     0   \n",
      "18    вдовец / вдова                 2      F   пенсионер     0   \n",
      "19         в разводе                 3      F   сотрудник     0   \n",
      "\n",
      "     total_income                                 purpose  \n",
      "0   253875.639453                           покупка жилья  \n",
      "1   112080.014102                 приобретение автомобиля  \n",
      "2   145885.952297                           покупка жилья  \n",
      "3   267628.550329              дополнительное образование  \n",
      "4   158616.077870                         сыграть свадьбу  \n",
      "5   255763.565419                           покупка жилья  \n",
      "6   240525.971920                       операции с жильем  \n",
      "7   135823.934197                             образование  \n",
      "8    95856.832424                   на проведение свадьбы  \n",
      "9   144425.938277                 покупка жилья для семьи  \n",
      "10  113943.491460                    покупка недвижимости  \n",
      "11   77069.234271       покупка коммерческой недвижимости  \n",
      "12            NaN                         сыграть свадьбу  \n",
      "13  130458.228857                 приобретение автомобиля  \n",
      "14  165127.911772              покупка жилой недвижимости  \n",
      "15  116820.904450  строительство собственной недвижимости  \n",
      "16  289202.704229                            недвижимость  \n",
      "17   90410.586745              строительство недвижимости  \n",
      "18   56823.777243      на покупку подержанного автомобиля  \n",
      "19  242831.107982            на покупку своего автомобиля  \n"
     ]
    }
   ],
   "source": [
    "import pandas as pd\n",
    "data=pd.read_csv('/datasets/data.csv')\n",
    "print(data.head(20))\n",
    "#print(data.tail(20))\n",
    "#print(data.info())\n",
    "#print(data.columns)"
   ]
  },
  {
   "cell_type": "code",
   "execution_count": 91,
   "metadata": {},
   "outputs": [
    {
     "data": {
      "text/plain": [
       " 0     14149\n",
       " 1      4818\n",
       " 2      2055\n",
       " 3       330\n",
       " 20       76\n",
       "-1        47\n",
       " 4        41\n",
       " 5         9\n",
       "Name: children, dtype: int64"
      ]
     },
     "execution_count": 91,
     "metadata": {},
     "output_type": "execute_result"
    }
   ],
   "source": [
    "#количество строк, в которых есть заглавные буквы\n",
    "data['education'].str.isupper().sum()\n",
    "data[data['days_employed']<0].count()\n",
    "data['children'].value_counts()"
   ]
  },
  {
   "cell_type": "code",
   "execution_count": 92,
   "metadata": {},
   "outputs": [],
   "source": [
    "#Переводим всё в нижний регистр для анализа данных\n",
    "data['education']=data['education'].str.lower()\n",
    "data['family_status']=data['family_status'].str.lower()"
   ]
  },
  {
   "cell_type": "code",
   "execution_count": 93,
   "metadata": {},
   "outputs": [
    {
     "data": {
      "text/html": [
       "<div>\n",
       "<style scoped>\n",
       "    .dataframe tbody tr th:only-of-type {\n",
       "        vertical-align: middle;\n",
       "    }\n",
       "\n",
       "    .dataframe tbody tr th {\n",
       "        vertical-align: top;\n",
       "    }\n",
       "\n",
       "    .dataframe thead th {\n",
       "        text-align: right;\n",
       "    }\n",
       "</style>\n",
       "<table border=\"1\" class=\"dataframe\">\n",
       "  <thead>\n",
       "    <tr style=\"text-align: right;\">\n",
       "      <th></th>\n",
       "      <th>children</th>\n",
       "      <th>days_employed</th>\n",
       "      <th>dob_years</th>\n",
       "      <th>education_id</th>\n",
       "      <th>family_status_id</th>\n",
       "      <th>debt</th>\n",
       "      <th>total_income</th>\n",
       "    </tr>\n",
       "  </thead>\n",
       "  <tbody>\n",
       "    <tr>\n",
       "      <td>count</td>\n",
       "      <td>21525.000000</td>\n",
       "      <td>19351.000000</td>\n",
       "      <td>21525.000000</td>\n",
       "      <td>21525.000000</td>\n",
       "      <td>21525.000000</td>\n",
       "      <td>21525.000000</td>\n",
       "      <td>1.935100e+04</td>\n",
       "    </tr>\n",
       "    <tr>\n",
       "      <td>mean</td>\n",
       "      <td>0.538908</td>\n",
       "      <td>63046.497661</td>\n",
       "      <td>43.293380</td>\n",
       "      <td>0.817236</td>\n",
       "      <td>0.972544</td>\n",
       "      <td>0.080883</td>\n",
       "      <td>1.674223e+05</td>\n",
       "    </tr>\n",
       "    <tr>\n",
       "      <td>std</td>\n",
       "      <td>1.381587</td>\n",
       "      <td>140827.311974</td>\n",
       "      <td>12.574584</td>\n",
       "      <td>0.548138</td>\n",
       "      <td>1.420324</td>\n",
       "      <td>0.272661</td>\n",
       "      <td>1.029716e+05</td>\n",
       "    </tr>\n",
       "    <tr>\n",
       "      <td>min</td>\n",
       "      <td>-1.000000</td>\n",
       "      <td>-18388.949901</td>\n",
       "      <td>0.000000</td>\n",
       "      <td>0.000000</td>\n",
       "      <td>0.000000</td>\n",
       "      <td>0.000000</td>\n",
       "      <td>2.066726e+04</td>\n",
       "    </tr>\n",
       "    <tr>\n",
       "      <td>25%</td>\n",
       "      <td>0.000000</td>\n",
       "      <td>-2747.423625</td>\n",
       "      <td>33.000000</td>\n",
       "      <td>1.000000</td>\n",
       "      <td>0.000000</td>\n",
       "      <td>0.000000</td>\n",
       "      <td>1.030532e+05</td>\n",
       "    </tr>\n",
       "    <tr>\n",
       "      <td>50%</td>\n",
       "      <td>0.000000</td>\n",
       "      <td>-1203.369529</td>\n",
       "      <td>42.000000</td>\n",
       "      <td>1.000000</td>\n",
       "      <td>0.000000</td>\n",
       "      <td>0.000000</td>\n",
       "      <td>1.450179e+05</td>\n",
       "    </tr>\n",
       "    <tr>\n",
       "      <td>75%</td>\n",
       "      <td>1.000000</td>\n",
       "      <td>-291.095954</td>\n",
       "      <td>53.000000</td>\n",
       "      <td>1.000000</td>\n",
       "      <td>1.000000</td>\n",
       "      <td>0.000000</td>\n",
       "      <td>2.034351e+05</td>\n",
       "    </tr>\n",
       "    <tr>\n",
       "      <td>max</td>\n",
       "      <td>20.000000</td>\n",
       "      <td>401755.400475</td>\n",
       "      <td>75.000000</td>\n",
       "      <td>4.000000</td>\n",
       "      <td>4.000000</td>\n",
       "      <td>1.000000</td>\n",
       "      <td>2.265604e+06</td>\n",
       "    </tr>\n",
       "  </tbody>\n",
       "</table>\n",
       "</div>"
      ],
      "text/plain": [
       "           children  days_employed     dob_years  education_id  \\\n",
       "count  21525.000000   19351.000000  21525.000000  21525.000000   \n",
       "mean       0.538908   63046.497661     43.293380      0.817236   \n",
       "std        1.381587  140827.311974     12.574584      0.548138   \n",
       "min       -1.000000  -18388.949901      0.000000      0.000000   \n",
       "25%        0.000000   -2747.423625     33.000000      1.000000   \n",
       "50%        0.000000   -1203.369529     42.000000      1.000000   \n",
       "75%        1.000000    -291.095954     53.000000      1.000000   \n",
       "max       20.000000  401755.400475     75.000000      4.000000   \n",
       "\n",
       "       family_status_id          debt  total_income  \n",
       "count      21525.000000  21525.000000  1.935100e+04  \n",
       "mean           0.972544      0.080883  1.674223e+05  \n",
       "std            1.420324      0.272661  1.029716e+05  \n",
       "min            0.000000      0.000000  2.066726e+04  \n",
       "25%            0.000000      0.000000  1.030532e+05  \n",
       "50%            0.000000      0.000000  1.450179e+05  \n",
       "75%            1.000000      0.000000  2.034351e+05  \n",
       "max            4.000000      1.000000  2.265604e+06  "
      ]
     },
     "execution_count": 93,
     "metadata": {},
     "output_type": "execute_result"
    }
   ],
   "source": [
    "data.describe()"
   ]
  },
  {
   "cell_type": "code",
   "execution_count": 94,
   "metadata": {
    "scrolled": true
   },
   "outputs": [],
   "source": [
    "#Смотрим на строки с пропусками\n",
    "#data.loc[data['days_employed'].isnull()]['education'].value_counts()"
   ]
  },
  {
   "cell_type": "markdown",
   "metadata": {},
   "source": [
    "### Вывод"
   ]
  },
  {
   "cell_type": "markdown",
   "metadata": {},
   "source": [
    "- Размер файла: файл содержит 21525 записей о клиентах. Каждая запись включает в себя 12 атрибутов\n",
    "- Обнаруженные пропуски: в 2174 записях обнаружены пропуски в столбцах days_employed и total_income (может это безработные?)\n",
    "- Наименование столбцов: лишних пробелов не обнаружено\n",
    "- Наличие отрицательных значений не допускается\n",
    "- Может надо о чём-то ещё упомянуть?"
   ]
  },
  {
   "cell_type": "markdown",
   "metadata": {},
   "source": [
    "<div style=\"border:solid green 2px; padding: 20px\"> <h1 style=\"color:green; margin-bottom:20px\">Комментарий наставника</h1>\n",
    "\n",
    "Хорошее начало, так же, для большего понимания данных можно было бы использовать метод `describe`\n"
   ]
  },
  {
   "cell_type": "markdown",
   "metadata": {},
   "source": [
    "### Шаг 2. Предобработка данных"
   ]
  },
  {
   "cell_type": "markdown",
   "metadata": {},
   "source": [
    "### Обработка пропусков"
   ]
  },
  {
   "cell_type": "code",
   "execution_count": 95,
   "metadata": {},
   "outputs": [],
   "source": [
    "#Да-да, синтаксический сахар очень нужная вещь\n",
    "#Заполняем пропуски по стажу\n",
    "def fill_days_employed(row):\n",
    "    if pd.isnull(row['days_employed']):\n",
    "        if row['income_type']=='безработный':\n",
    "            return median_values['days_employed_median']['безработный']\n",
    "        if row['income_type']=='в декрете':\n",
    "            return median_values['days_employed_median']['в декрете']\n",
    "        if row['income_type']=='госслужащий':\n",
    "            return median_values['days_employed_median']['госслужащий']\n",
    "        if row['income_type']=='компаньон':\n",
    "            return median_values['days_employed_median']['компаньон']\n",
    "        if row['income_type']=='пенсионер':\n",
    "            return median_values['days_employed_median']['пенсионер']\n",
    "        if row['income_type']=='предприниматель':\n",
    "            return median_values['days_employed_median']['предприниматель']\n",
    "        if row['income_type']=='сотрудник':\n",
    "            return median_values['days_employed_median']['сотрудник']\n",
    "        if row['income_type']=='студент':\n",
    "            return median_values['days_employed_median']['студент']\n",
    "    return row['days_employed']\n",
    "\n",
    "#По доходу\n",
    "def fill_total_income(row):\n",
    "    if pd.isnull(row['total_income']):\n",
    "        if row['income_type']=='безработный':\n",
    "            return median_values['total_income_median']['безработный']\n",
    "        if row['income_type']=='в декрете':\n",
    "            return median_values['total_income_median']['в декрете']\n",
    "        if row['income_type']=='госслужащий':\n",
    "            return median_values['total_income_median']['госслужащий']\n",
    "        if row['income_type']=='компаньон':\n",
    "            return median_values['total_income_median']['компаньон']\n",
    "        if row['income_type']=='пенсионер':\n",
    "            return median_values['total_income_median']['пенсионер']\n",
    "        if row['income_type']=='предприниматель':\n",
    "            return median_values['total_income_median']['предприниматель']\n",
    "        if row['income_type']=='сотрудник':\n",
    "            return median_values['total_income_median']['сотрудник']\n",
    "        if row['income_type']=='студент':\n",
    "            return median_values['total_income_median']['студент']\n",
    "    return row['total_income']"
   ]
  },
  {
   "cell_type": "markdown",
   "metadata": {},
   "source": [
    "Для расчётов столбец days_employed возьмём по модулю, так как отрицательные значения трудового стажа обусловлены неправильной выгрузкой данных"
   ]
  },
  {
   "cell_type": "code",
   "execution_count": 96,
   "metadata": {},
   "outputs": [],
   "source": [
    "def deleteMinus(row):\n",
    "    if pd.isnull(row['days_employed']):\n",
    "        return row['days_employed']\n",
    "    if row['days_employed']>0:\n",
    "        return row['days_employed']\n",
    "    else:\n",
    "        return row['days_employed']*(-1)\n",
    "\n",
    "data['days_employed']=data.apply(deleteMinus, axis=1)    "
   ]
  },
  {
   "cell_type": "code",
   "execution_count": 97,
   "metadata": {},
   "outputs": [
    {
     "name": "stdout",
     "output_type": "stream",
     "text": [
      "0     14196\n",
      "1      4818\n",
      "2      2055\n",
      "3       330\n",
      "20       76\n",
      "4        41\n",
      "5         9\n",
      "Name: children, dtype: int64\n"
     ]
    }
   ],
   "source": [
    "#print(data.columns)\n",
    "\n",
    "#Столбец с количество детей\n",
    "data.loc[data['children']==-1,'children']=0\n",
    "#anbormal_children_count=data[(data['children']==-1) | (data['children']==20)]['children'].count()\n",
    "#print('Аномальное количество записей о детях {:.2%}'.format(anbormal_children_count/len(data)))\n",
    "print(data['children'].value_counts())\n",
    "\n",
    "#Столбец с общим трудовым стажем в днях\n",
    "#data['days_employed'].value_counts().reset_index().sort_values('index')\n",
    "#print('Аномальное количество записей о стаже {:.2%}'.format(len(data.loc[data['days_employed'].isnull()])/len(data)))\n",
    "#Выделяем группу без пустых значений\n",
    "fill_grouped_data=data.loc[data['days_employed'].isnull()!=True].groupby('income_type')\n",
    "#Анализируем разброс значений внутри групп\n",
    "fill_grouped_data_stats=[fill_grouped_data['days_employed'].min(), fill_grouped_data['days_employed'].max(), \n",
    "                         fill_grouped_data['total_income'].min(), fill_grouped_data['total_income'].max()]\n",
    "#print(fill_grouped_data_stats)\n",
    "#Сохраняем медианы\n",
    "median_values=pd.merge(fill_grouped_data['days_employed'].median(),fill_grouped_data['total_income'].median(),\n",
    "                       how='inner', left_index=True, right_index=True)\n",
    "median_values.set_axis(['days_employed_median','total_income_median'], axis=1, inplace=True)\n",
    "#print(median_values)\n",
    "#Заполняем пустые значения медиаными значениями (может это можно сделать эффективнее)\n",
    "data['days_employed']=data.apply(fill_days_employed,axis=1)\n",
    "data['total_income']=data.apply(fill_total_income, axis=1)\n",
    "#print(data.tail(20))\n",
    "\n",
    "#Столбец с возрастом\n",
    "#data['dob_years'].value_counts().reset_index().sort_values('index').reset_index(drop=True)\n",
    "#print('Аномальное количество записей о возрасте {:.2%}'.format(data[data['dob_years']==0]['dob_years'].count()/len(data)))\n",
    "data=data.loc[data['dob_years']!=0]\n",
    "\n",
    "#Столбец с уровнем образования\n",
    "#data['education'].value_counts()\n",
    "\n",
    "#Столбец с идентификатором уровня образования\n",
    "#data['education_id'].value_counts()\n",
    "\n",
    "#Столбец с семейным положением\n",
    "#data['family_status'].value_counts()\n",
    "\n",
    "#Столбец с идентификатором семейного положения\n",
    "#data['family_status_id'].value_counts()\n",
    "\n",
    "#Столбец с полом клиента\n",
    "#data['gender'].value_counts()\n",
    "#Удаляем запись с неопределившимся полом\n",
    "data = data.loc[data['gender'] != 'XNA']\n",
    "\n",
    "#Столбец с типом занятости\n",
    "#data['income_type'].value_counts()\n",
    "\n",
    "#Столбец с фактом о наличие задолженности\n",
    "#data['debt'].value_counts()\n",
    "\n",
    "#Столбец с ежемесячным доходом\n",
    "#data.sort_values(by='total_income', ascending=False)\n",
    "\n",
    "#Столбец с целью получения кредита\n",
    "#data['purpose'].value_counts()\n",
    "\n",
    "#data.info()\n",
    "\n",
    "\n",
    "#data.reset_index(drop=True)"
   ]
  },
  {
   "cell_type": "markdown",
   "metadata": {},
   "source": [
    "### Вывод"
   ]
  },
  {
   "cell_type": "markdown",
   "metadata": {},
   "source": [
    "- [children] - содержит несколько аномальных значений: -1, 20. Их доля составляет всего лишь 1 процент - следовательно, их можно выкинуть или оставить, изменив значение -1 на 0 и приняв 20 детей (очень многодетная африканская семья) \n",
    "- [days_employed] - обнаружены значения NaN. Доля пустых значений составляет 10%. Для того чтобы заполнить пропуски мы:\n",
    "    - выделяем DataFrame, в котором нет пустых значений\n",
    "    - изучаем разброс между максимальными и минимальными значениями в трудовом стаже. Ввиду того, что разброс большой, следует использовать медианные значения для заполненеия пропусков\n",
    "    - создаём с помощью метода merge объединённый dataFrame, в котором находятся медианые значения days_employed и total_income для каждой из групп клиентов\n",
    "    - Заполняем медианными значениями\n",
    "- [dob_years] - содержит аномальное значение: 0. Их доля составляет 0.47%\n",
    "- [education] - аномалий не содержит, нужно лишь удалить повторения\n",
    "- [education_id] - аномалий не содержит\n",
    "- [family_status] - аномалий не обнаружено, нужно лишь перевести в нижний регист Не женат\n",
    "- [family_status_id] - аномалий не обнаружено\n",
    "- [gender] - у одного клиента не указан пол\n",
    "- [income_type] - аномалий не обнаружено\n",
    "- [debt] -аномалий не обнаружено\n",
    "- [total_income] - заполняем пропуски (NaN)\n",
    "- [purpose] -аномалий не обнаружено\n",
    "\n",
    "Предполагаемая причина наличия пропусков в данных - ошибки на этапе их выгрузки, хотя присутствует доминирование пропусков у людей со средним образованием c типом занятости \"сотрудник\" (неправильно заполнена анкета или они не работали на официальных местах)"
   ]
  },
  {
   "cell_type": "markdown",
   "metadata": {},
   "source": [
    "<div style=\"border:solid green 2px; padding: 20px\"> <h1 style=\"color:green; margin-bottom:20px\">Комментарий наставника</h1>\n",
    "\n",
    "Пропуски заполнены, молодец)"
   ]
  },
  {
   "cell_type": "markdown",
   "metadata": {},
   "source": [
    "### Замена типа данных"
   ]
  },
  {
   "cell_type": "code",
   "execution_count": 98,
   "metadata": {
    "scrolled": false
   },
   "outputs": [],
   "source": [
    "data['days_employed']=data['days_employed'].astype('int')\n",
    "data['total_income']=data['total_income'].astype('int')\n",
    "#print(data.info())\n",
    "#print(data.tail(20))"
   ]
  },
  {
   "cell_type": "markdown",
   "metadata": {},
   "source": [
    "### Вывод"
   ]
  },
  {
   "cell_type": "markdown",
   "metadata": {},
   "source": [
    "Метод to_numeric() не подходит, так как он можете перевести только во float\n",
    "Пропуски уже заполнены, поэтому можно использовать astype().\n",
    "Дроби можно спосокойно отбросить, так как потеря нескольких часов трудового времени и нескольких копеек в доходе несущественна"
   ]
  },
  {
   "cell_type": "markdown",
   "metadata": {},
   "source": [
    "Посмотрим на связь между стажем и возрастом. Преимущество для пенсионеров указана неверная размерность стажа. Предполагается, что она указана в часах."
   ]
  },
  {
   "cell_type": "code",
   "execution_count": 99,
   "metadata": {},
   "outputs": [
    {
     "name": "stdout",
     "output_type": "stream",
     "text": [
      "пенсионер      3836\n",
      "безработный       2\n",
      "Name: income_type, dtype: int64\n"
     ]
    }
   ],
   "source": [
    "data['years_employed']=data['days_employed']/365\n",
    "print(data.loc[(data['dob_years']-data['years_employed'])<10]['income_type'].value_counts())\n",
    "def convertToDays(row):\n",
    "    if (row['dob_years']-row['years_employed'])<10:\n",
    "        return row['years_employed']/24\n",
    "    else:\n",
    "        return row['years_employed']\n",
    "\n",
    "data['years_employed']=data.apply(convertToDays,axis=1)\n",
    "\n",
    "#Те значения, которые и опять не вписались в данные, мы отсеиваем (значения с 0 в графе возраст - тоже)\n",
    "data=data.loc[(data['dob_years']-data['years_employed'])>=10]\n"
   ]
  },
  {
   "cell_type": "markdown",
   "metadata": {},
   "source": [
    "<div style=\"border:solid green 2px; padding: 20px\"> <h1 style=\"color:green; margin-bottom:20px\">Комментарий наставника</h1>\n",
    "\n",
    "Замена типа данных выполнена верно"
   ]
  },
  {
   "cell_type": "markdown",
   "metadata": {},
   "source": [
    "### Обработка дубликатов"
   ]
  },
  {
   "cell_type": "code",
   "execution_count": 100,
   "metadata": {},
   "outputs": [
    {
     "data": {
      "text/plain": [
       "0"
      ]
     },
     "execution_count": 100,
     "metadata": {},
     "output_type": "execute_result"
    }
   ],
   "source": [
    "data.duplicated().sum()\n",
    "data=data.drop_duplicates().reset_index(drop=True)\n",
    "data.duplicated().sum()"
   ]
  },
  {
   "cell_type": "markdown",
   "metadata": {},
   "source": [
    "### Вывод"
   ]
  },
  {
   "cell_type": "markdown",
   "metadata": {},
   "source": [
    "Ручной поиск дубликатов производить бессмыслено, так как уже устранены пустые значения, а метод duplicated() нашёл 71 значение, которые были просто удалены из данных.\n",
    "Возможная причина дубликатов: клиент несколько раз подавал заявление на кредит"
   ]
  },
  {
   "cell_type": "markdown",
   "metadata": {},
   "source": [
    "<div style=\"border:solid green 2px; padding: 20px\"> <h1 style=\"color:green; margin-bottom:20px\">Комментарий наставника</h1>\n",
    "\n",
    "Дубликаты найдены и обработаны верно,отлично\n"
   ]
  },
  {
   "cell_type": "markdown",
   "metadata": {},
   "source": [
    "### Лемматизация"
   ]
  },
  {
   "cell_type": "code",
   "execution_count": 101,
   "metadata": {},
   "outputs": [],
   "source": [
    "from pymystem3 import Mystem\n",
    "m = Mystem()"
   ]
  },
  {
   "cell_type": "code",
   "execution_count": 102,
   "metadata": {},
   "outputs": [],
   "source": [
    "#Выделяем леммы\n",
    "all_lemmas=\"\"\n",
    "for i in data['purpose']:\n",
    "    all_lemmas+=' '+''.join((m.lemmatize(i))[:-1]) #убираем символ окончания строки"
   ]
  },
  {
   "cell_type": "code",
   "execution_count": 103,
   "metadata": {},
   "outputs": [
    {
     "name": "stdout",
     "output_type": "stream",
     "text": [
      "Counter({'недвижимость': 6200, 'покупка': 5764, 'жилье': 4360, 'автомобиль': 4210, 'образование': 3927, 'с': 2857, 'операция': 2540, 'свадьба': 2260, 'свой': 2189, 'на': 2162, 'строительство': 1830, 'высокий': 1345, 'получение': 1284, 'коммерческий': 1281, 'для': 1257, 'жилой': 1202, 'сделка': 932, 'дополнительный': 890, 'заниматься': 884, 'сыграть': 747, 'проведение': 743, 'сдача': 633, 'семья': 624, 'собственный': 622, 'со': 615, 'ремонт': 597, 'подержанный': 481, 'подержать': 467, 'приобретение': 451, 'профильный': 424})\n"
     ]
    }
   ],
   "source": [
    "from collections import Counter\n",
    "print(Counter(all_lemmas.split())) "
   ]
  },
  {
   "cell_type": "code",
   "execution_count": 104,
   "metadata": {},
   "outputs": [],
   "source": [
    "data['purpose'].value_counts()\n",
    "#Создаём список с наиболее характерными целями\n",
    "purpose_dictionary=['свадьба', 'коммерческий', 'жилье', \n",
    "                    'ремонт', 'автомобиль', 'образование', 'недвижимость']\n",
    "\n",
    "\n",
    "\n",
    "def lemmatize(row):\n",
    "    lemmas_record=m.lemmatize(row['purpose'])\n",
    "    for word in lemmas_record:\n",
    "        if word in purpose_dictionary:\n",
    "            return word\n",
    "    return row['purpose']\n",
    "\n",
    "\n",
    "data['lemmas']=data.apply(lemmatize,axis=1)"
   ]
  },
  {
   "cell_type": "code",
   "execution_count": null,
   "metadata": {},
   "outputs": [],
   "source": []
  },
  {
   "cell_type": "code",
   "execution_count": 112,
   "metadata": {
    "scrolled": true
   },
   "outputs": [
    {
     "data": {
      "text/plain": [
       "недвижимость    4919\n",
       "автомобиль      4210\n",
       "образование     3927\n",
       "жилье           3763\n",
       "свадьба         2260\n",
       "коммерческий    1281\n",
       "ремонт           597\n",
       "Name: lemmas, dtype: int64"
      ]
     },
     "execution_count": 112,
     "metadata": {},
     "output_type": "execute_result"
    }
   ],
   "source": [
    "purpose=data['lemmas'].value_counts()\n",
    "purpose"
   ]
  },
  {
   "cell_type": "markdown",
   "metadata": {},
   "source": [
    "### Вывод"
   ]
  },
  {
   "cell_type": "markdown",
   "metadata": {},
   "source": [
    "- Создали словарь с наиболее часто встречающимися целями. \n",
    "- Создали экземпляр класса Mystem\n",
    "- Вызвали метод, который возвращает список строк\n",
    "- Нашли соответствие между целью с леммы и целью в словаре\n",
    "- сохранили значение\n",
    "- Если совпадений в словаре нет, сохраняем неизменённую цель \n",
    "- если бы дали инфу про профилирование данных, можно было бы оцень как долго эта часть кода выполняется\n",
    "- Коммерческая недвижимость, просто недвижимость и жильё - это разные вещи"
   ]
  },
  {
   "cell_type": "markdown",
   "metadata": {},
   "source": [
    "<div style=\"border:solid  red; padding: 20px\"> <h1 style=\"color: red ; margin-bottom:20px\">Комментарий наставника</h1> </div>\n",
    "\n",
    "Откуда ты взял эти категории, если отсутсвует этап выделения лемм? Все этапы нужно отрадать в работе"
   ]
  },
  {
   "cell_type": "markdown",
   "metadata": {},
   "source": [
    "<div style=\"border:solid green 2px; padding: 20px\"> <h1 style=\"color:green; margin-bottom:20px\">Комментарий наставника</h1>\n",
    "\n",
    "\n",
    "Лемматизация проведена верно"
   ]
  },
  {
   "cell_type": "markdown",
   "metadata": {},
   "source": [
    "### Категоризация данных"
   ]
  },
  {
   "cell_type": "code",
   "execution_count": 107,
   "metadata": {},
   "outputs": [],
   "source": [
    "#data['children'].value_counts()\n",
    "\n",
    "#data['dob_years'].value_counts()\n",
    "\n",
    "#data['education'].value_counts()\n",
    "\n",
    "#data['education_id'].value_counts()\n",
    "\n",
    "#data['family_status'].value_counts()\n",
    "\n",
    "#data['family_status_id'].value_counts()\n",
    "\n",
    "#data['gender'].value_counts()\n",
    "\n",
    "#data['income_type'].value_counts()\n",
    "\n",
    "#data['debt'].value_counts()\n",
    "\n",
    "data['total_income'].min()\n",
    "data['total_income'].max()\n",
    "data['total_income'].median()\n",
    "\n",
    "import numpy as np\n",
    "low_income=np.quantile(data['total_income'], .25)\n",
    "high_income=np.quantile(data['total_income'], .75)\n",
    "\n",
    "#Преобразуем в int\n",
    "data['years_employed']=data['years_employed'].astype('int')\n",
    "#data['years_employed'].value_counts()\n",
    "\n",
    "#data['lemmas'].value_counts()"
   ]
  },
  {
   "cell_type": "code",
   "execution_count": 108,
   "metadata": {},
   "outputs": [
    {
     "data": {
      "text/plain": [
       "<matplotlib.axes._subplots.AxesSubplot at 0x7fd408dff390>"
      ]
     },
     "execution_count": 108,
     "metadata": {},
     "output_type": "execute_result"
    },
    {
     "data": {
      "image/png": "[encoded data removed]",
      "text/plain": [
       "<Figure size 432x288 with 1 Axes>"
      ]
     },
     "metadata": {
      "needs_background": "light"
     },
     "output_type": "display_data"
    }
   ],
   "source": [
    "dataForPlot=data.reset_index()\n",
    "dataForPlot.plot(x='index',y='total_income')"
   ]
  },
  {
   "cell_type": "code",
   "execution_count": 109,
   "metadata": {},
   "outputs": [],
   "source": [
    "\n",
    "def sliplitIncome(row):\n",
    "    if row['total_income']<low_income:\n",
    "        return \"низкий\"\n",
    "    if row['total_income']>high_income:\n",
    "        return \"высокий\"\n",
    "    else:\n",
    "        return \"средний\"\n",
    "    \n",
    "data['total_income_type']=data.apply(sliplitIncome,axis=1)"
   ]
  },
  {
   "cell_type": "code",
   "execution_count": 110,
   "metadata": {},
   "outputs": [
    {
     "data": {
      "text/html": [
       "<div>\n",
       "<style scoped>\n",
       "    .dataframe tbody tr th:only-of-type {\n",
       "        vertical-align: middle;\n",
       "    }\n",
       "\n",
       "    .dataframe tbody tr th {\n",
       "        vertical-align: top;\n",
       "    }\n",
       "\n",
       "    .dataframe thead th {\n",
       "        text-align: right;\n",
       "    }\n",
       "</style>\n",
       "<table border=\"1\" class=\"dataframe\">\n",
       "  <thead>\n",
       "    <tr style=\"text-align: right;\">\n",
       "      <th></th>\n",
       "      <th>children</th>\n",
       "      <th>days_employed</th>\n",
       "      <th>dob_years</th>\n",
       "      <th>education</th>\n",
       "      <th>education_id</th>\n",
       "      <th>family_status</th>\n",
       "      <th>family_status_id</th>\n",
       "      <th>gender</th>\n",
       "      <th>income_type</th>\n",
       "      <th>debt</th>\n",
       "      <th>total_income</th>\n",
       "      <th>purpose</th>\n",
       "      <th>years_employed</th>\n",
       "      <th>lemmas</th>\n",
       "      <th>total_income_type</th>\n",
       "    </tr>\n",
       "  </thead>\n",
       "  <tbody>\n",
       "    <tr>\n",
       "      <td>0</td>\n",
       "      <td>1</td>\n",
       "      <td>8437</td>\n",
       "      <td>42</td>\n",
       "      <td>высшее</td>\n",
       "      <td>0</td>\n",
       "      <td>женат / замужем</td>\n",
       "      <td>0</td>\n",
       "      <td>F</td>\n",
       "      <td>сотрудник</td>\n",
       "      <td>0</td>\n",
       "      <td>253875</td>\n",
       "      <td>покупка жилья</td>\n",
       "      <td>23</td>\n",
       "      <td>жилье</td>\n",
       "      <td>высокий</td>\n",
       "    </tr>\n",
       "    <tr>\n",
       "      <td>1</td>\n",
       "      <td>1</td>\n",
       "      <td>4024</td>\n",
       "      <td>36</td>\n",
       "      <td>среднее</td>\n",
       "      <td>1</td>\n",
       "      <td>женат / замужем</td>\n",
       "      <td>0</td>\n",
       "      <td>F</td>\n",
       "      <td>сотрудник</td>\n",
       "      <td>0</td>\n",
       "      <td>112080</td>\n",
       "      <td>приобретение автомобиля</td>\n",
       "      <td>11</td>\n",
       "      <td>автомобиль</td>\n",
       "      <td>средний</td>\n",
       "    </tr>\n",
       "    <tr>\n",
       "      <td>2</td>\n",
       "      <td>0</td>\n",
       "      <td>5623</td>\n",
       "      <td>33</td>\n",
       "      <td>среднее</td>\n",
       "      <td>1</td>\n",
       "      <td>женат / замужем</td>\n",
       "      <td>0</td>\n",
       "      <td>M</td>\n",
       "      <td>сотрудник</td>\n",
       "      <td>0</td>\n",
       "      <td>145885</td>\n",
       "      <td>покупка жилья</td>\n",
       "      <td>15</td>\n",
       "      <td>жилье</td>\n",
       "      <td>средний</td>\n",
       "    </tr>\n",
       "    <tr>\n",
       "      <td>3</td>\n",
       "      <td>3</td>\n",
       "      <td>4124</td>\n",
       "      <td>32</td>\n",
       "      <td>среднее</td>\n",
       "      <td>1</td>\n",
       "      <td>женат / замужем</td>\n",
       "      <td>0</td>\n",
       "      <td>M</td>\n",
       "      <td>сотрудник</td>\n",
       "      <td>0</td>\n",
       "      <td>267628</td>\n",
       "      <td>дополнительное образование</td>\n",
       "      <td>11</td>\n",
       "      <td>образование</td>\n",
       "      <td>высокий</td>\n",
       "    </tr>\n",
       "    <tr>\n",
       "      <td>4</td>\n",
       "      <td>0</td>\n",
       "      <td>340266</td>\n",
       "      <td>53</td>\n",
       "      <td>среднее</td>\n",
       "      <td>1</td>\n",
       "      <td>гражданский брак</td>\n",
       "      <td>1</td>\n",
       "      <td>F</td>\n",
       "      <td>пенсионер</td>\n",
       "      <td>0</td>\n",
       "      <td>158616</td>\n",
       "      <td>сыграть свадьбу</td>\n",
       "      <td>38</td>\n",
       "      <td>свадьба</td>\n",
       "      <td>средний</td>\n",
       "    </tr>\n",
       "    <tr>\n",
       "      <td>...</td>\n",
       "      <td>...</td>\n",
       "      <td>...</td>\n",
       "      <td>...</td>\n",
       "      <td>...</td>\n",
       "      <td>...</td>\n",
       "      <td>...</td>\n",
       "      <td>...</td>\n",
       "      <td>...</td>\n",
       "      <td>...</td>\n",
       "      <td>...</td>\n",
       "      <td>...</td>\n",
       "      <td>...</td>\n",
       "      <td>...</td>\n",
       "      <td>...</td>\n",
       "      <td>...</td>\n",
       "    </tr>\n",
       "    <tr>\n",
       "      <td>20952</td>\n",
       "      <td>1</td>\n",
       "      <td>4529</td>\n",
       "      <td>43</td>\n",
       "      <td>среднее</td>\n",
       "      <td>1</td>\n",
       "      <td>гражданский брак</td>\n",
       "      <td>1</td>\n",
       "      <td>F</td>\n",
       "      <td>компаньон</td>\n",
       "      <td>0</td>\n",
       "      <td>224791</td>\n",
       "      <td>операции с жильем</td>\n",
       "      <td>12</td>\n",
       "      <td>жилье</td>\n",
       "      <td>высокий</td>\n",
       "    </tr>\n",
       "    <tr>\n",
       "      <td>20953</td>\n",
       "      <td>0</td>\n",
       "      <td>343937</td>\n",
       "      <td>67</td>\n",
       "      <td>среднее</td>\n",
       "      <td>1</td>\n",
       "      <td>женат / замужем</td>\n",
       "      <td>0</td>\n",
       "      <td>F</td>\n",
       "      <td>пенсионер</td>\n",
       "      <td>0</td>\n",
       "      <td>155999</td>\n",
       "      <td>сделка с автомобилем</td>\n",
       "      <td>39</td>\n",
       "      <td>автомобиль</td>\n",
       "      <td>средний</td>\n",
       "    </tr>\n",
       "    <tr>\n",
       "      <td>20954</td>\n",
       "      <td>1</td>\n",
       "      <td>2113</td>\n",
       "      <td>38</td>\n",
       "      <td>среднее</td>\n",
       "      <td>1</td>\n",
       "      <td>гражданский брак</td>\n",
       "      <td>1</td>\n",
       "      <td>M</td>\n",
       "      <td>сотрудник</td>\n",
       "      <td>1</td>\n",
       "      <td>89672</td>\n",
       "      <td>недвижимость</td>\n",
       "      <td>5</td>\n",
       "      <td>недвижимость</td>\n",
       "      <td>низкий</td>\n",
       "    </tr>\n",
       "    <tr>\n",
       "      <td>20955</td>\n",
       "      <td>3</td>\n",
       "      <td>3112</td>\n",
       "      <td>38</td>\n",
       "      <td>среднее</td>\n",
       "      <td>1</td>\n",
       "      <td>женат / замужем</td>\n",
       "      <td>0</td>\n",
       "      <td>M</td>\n",
       "      <td>сотрудник</td>\n",
       "      <td>1</td>\n",
       "      <td>244093</td>\n",
       "      <td>на покупку своего автомобиля</td>\n",
       "      <td>8</td>\n",
       "      <td>автомобиль</td>\n",
       "      <td>высокий</td>\n",
       "    </tr>\n",
       "    <tr>\n",
       "      <td>20956</td>\n",
       "      <td>2</td>\n",
       "      <td>1984</td>\n",
       "      <td>40</td>\n",
       "      <td>среднее</td>\n",
       "      <td>1</td>\n",
       "      <td>женат / замужем</td>\n",
       "      <td>0</td>\n",
       "      <td>F</td>\n",
       "      <td>сотрудник</td>\n",
       "      <td>0</td>\n",
       "      <td>82047</td>\n",
       "      <td>на покупку автомобиля</td>\n",
       "      <td>5</td>\n",
       "      <td>автомобиль</td>\n",
       "      <td>низкий</td>\n",
       "    </tr>\n",
       "  </tbody>\n",
       "</table>\n",
       "<p>20957 rows × 15 columns</p>\n",
       "</div>"
      ],
      "text/plain": [
       "       children  days_employed  dob_years education  education_id  \\\n",
       "0             1           8437         42    высшее             0   \n",
       "1             1           4024         36   среднее             1   \n",
       "2             0           5623         33   среднее             1   \n",
       "3             3           4124         32   среднее             1   \n",
       "4             0         340266         53   среднее             1   \n",
       "...         ...            ...        ...       ...           ...   \n",
       "20952         1           4529         43   среднее             1   \n",
       "20953         0         343937         67   среднее             1   \n",
       "20954         1           2113         38   среднее             1   \n",
       "20955         3           3112         38   среднее             1   \n",
       "20956         2           1984         40   среднее             1   \n",
       "\n",
       "          family_status  family_status_id gender income_type  debt  \\\n",
       "0       женат / замужем                 0      F   сотрудник     0   \n",
       "1       женат / замужем                 0      F   сотрудник     0   \n",
       "2       женат / замужем                 0      M   сотрудник     0   \n",
       "3       женат / замужем                 0      M   сотрудник     0   \n",
       "4      гражданский брак                 1      F   пенсионер     0   \n",
       "...                 ...               ...    ...         ...   ...   \n",
       "20952  гражданский брак                 1      F   компаньон     0   \n",
       "20953   женат / замужем                 0      F   пенсионер     0   \n",
       "20954  гражданский брак                 1      M   сотрудник     1   \n",
       "20955   женат / замужем                 0      M   сотрудник     1   \n",
       "20956   женат / замужем                 0      F   сотрудник     0   \n",
       "\n",
       "       total_income                       purpose  years_employed  \\\n",
       "0            253875                 покупка жилья              23   \n",
       "1            112080       приобретение автомобиля              11   \n",
       "2            145885                 покупка жилья              15   \n",
       "3            267628    дополнительное образование              11   \n",
       "4            158616               сыграть свадьбу              38   \n",
       "...             ...                           ...             ...   \n",
       "20952        224791             операции с жильем              12   \n",
       "20953        155999          сделка с автомобилем              39   \n",
       "20954         89672                  недвижимость               5   \n",
       "20955        244093  на покупку своего автомобиля               8   \n",
       "20956         82047         на покупку автомобиля               5   \n",
       "\n",
       "             lemmas total_income_type  \n",
       "0             жилье           высокий  \n",
       "1        автомобиль           средний  \n",
       "2             жилье           средний  \n",
       "3       образование           высокий  \n",
       "4           свадьба           средний  \n",
       "...             ...               ...  \n",
       "20952         жилье           высокий  \n",
       "20953    автомобиль           средний  \n",
       "20954  недвижимость            низкий  \n",
       "20955    автомобиль           высокий  \n",
       "20956    автомобиль            низкий  \n",
       "\n",
       "[20957 rows x 15 columns]"
      ]
     },
     "execution_count": 110,
     "metadata": {},
     "output_type": "execute_result"
    }
   ],
   "source": [
    "data"
   ]
  },
  {
   "cell_type": "markdown",
   "metadata": {},
   "source": [
    "### Вывод"
   ]
  },
  {
   "cell_type": "markdown",
   "metadata": {},
   "source": [
    "Добавляем словарь с доходом населения: то что левее 25% квантиля - низкий доход, высокий доход - то что правее 75% квантиля. Это поможет разделить население по уровню дохода "
   ]
  },
  {
   "cell_type": "markdown",
   "metadata": {},
   "source": [
    "<div style=\"border:solid green 2px; padding: 20px\"> <h1 style=\"color:green; margin-bottom:20px\">Комментарий наставника</h1>\n",
    "\n",
    "Категоризация проведена верно"
   ]
  },
  {
   "cell_type": "markdown",
   "metadata": {},
   "source": [
    "### Шаг 3. Ответьте на вопросы"
   ]
  },
  {
   "cell_type": "markdown",
   "metadata": {},
   "source": [
    "- Есть ли зависимость между наличием детей и возвратом кредита в срок?"
   ]
  },
  {
   "cell_type": "code",
   "execution_count": 85,
   "metadata": {},
   "outputs": [
    {
     "data": {
      "text/html": [
       "<div>\n",
       "<style scoped>\n",
       "    .dataframe tbody tr th:only-of-type {\n",
       "        vertical-align: middle;\n",
       "    }\n",
       "\n",
       "    .dataframe tbody tr th {\n",
       "        vertical-align: top;\n",
       "    }\n",
       "\n",
       "    .dataframe thead tr th {\n",
       "        text-align: left;\n",
       "    }\n",
       "\n",
       "    .dataframe thead tr:last-of-type th {\n",
       "        text-align: right;\n",
       "    }\n",
       "</style>\n",
       "<table border=\"1\" class=\"dataframe\">\n",
       "  <thead>\n",
       "    <tr>\n",
       "      <th></th>\n",
       "      <th>count</th>\n",
       "      <th>sum</th>\n",
       "      <th>ratio</th>\n",
       "    </tr>\n",
       "    <tr>\n",
       "      <th></th>\n",
       "      <th>debt</th>\n",
       "      <th>debt</th>\n",
       "      <th></th>\n",
       "    </tr>\n",
       "    <tr>\n",
       "      <th>children</th>\n",
       "      <th></th>\n",
       "      <th></th>\n",
       "      <th></th>\n",
       "    </tr>\n",
       "  </thead>\n",
       "  <tbody>\n",
       "    <tr>\n",
       "      <td>0</td>\n",
       "      <td>13748</td>\n",
       "      <td>1039</td>\n",
       "      <td>0.075575</td>\n",
       "    </tr>\n",
       "    <tr>\n",
       "      <td>1</td>\n",
       "      <td>4734</td>\n",
       "      <td>436</td>\n",
       "      <td>0.092100</td>\n",
       "    </tr>\n",
       "    <tr>\n",
       "      <td>2</td>\n",
       "      <td>2027</td>\n",
       "      <td>192</td>\n",
       "      <td>0.094721</td>\n",
       "    </tr>\n",
       "    <tr>\n",
       "      <td>3</td>\n",
       "      <td>324</td>\n",
       "      <td>26</td>\n",
       "      <td>0.080247</td>\n",
       "    </tr>\n",
       "    <tr>\n",
       "      <td>4</td>\n",
       "      <td>40</td>\n",
       "      <td>4</td>\n",
       "      <td>0.100000</td>\n",
       "    </tr>\n",
       "    <tr>\n",
       "      <td>5</td>\n",
       "      <td>9</td>\n",
       "      <td>0</td>\n",
       "      <td>0.000000</td>\n",
       "    </tr>\n",
       "    <tr>\n",
       "      <td>20</td>\n",
       "      <td>75</td>\n",
       "      <td>8</td>\n",
       "      <td>0.106667</td>\n",
       "    </tr>\n",
       "  </tbody>\n",
       "</table>\n",
       "</div>"
      ],
      "text/plain": [
       "          count   sum     ratio\n",
       "           debt  debt          \n",
       "children                       \n",
       "0         13748  1039  0.075575\n",
       "1          4734   436  0.092100\n",
       "2          2027   192  0.094721\n",
       "3           324    26  0.080247\n",
       "4            40     4  0.100000\n",
       "5             9     0  0.000000\n",
       "20           75     8  0.106667"
      ]
     },
     "execution_count": 85,
     "metadata": {},
     "output_type": "execute_result"
    }
   ],
   "source": [
    "grouped_data_by_children=data.groupby('children').agg({'debt':['count','sum']})\n",
    "grouped_data_by_children['ratio']=grouped_data_by_children['debt']['sum']/grouped_data_by_children['debt']['count']\n",
    "#print(grouped_data_by_children)\n",
    "\n",
    "\n",
    "pivot_table_by_children=pd.pivot_table(data, index=['children'], values=['debt'], aggfunc=['count','sum'])\n",
    "pivot_table_by_children['ratio']=pivot_table_by_children['sum']['debt']/pivot_table_by_children['count']['debt']\n",
    "pivot_table_by_children"
   ]
  },
  {
   "cell_type": "markdown",
   "metadata": {},
   "source": [
    "### Вывод"
   ]
  },
  {
   "cell_type": "markdown",
   "metadata": {},
   "source": [
    "- семьи, в которых нет детей, реже всего задерживают платёж по кредиту\n",
    "- с увеличением количества детей имеется тенденция увеличения количества просроченных кредитов\n",
    "- в случае семей с 3 детьми наблюдается ситуация увеличения вероятности вовремя выплатить кредит (возможно слишком мало данных или материнский капитал реально тащит)\n",
    "- по семьям, в которых 5 детей, недостаточно информации и требуются соответствующие уточнения\n",
    "\n",
    "К тому же необходимы уточненния по-поводу выгрузки данных из сети по количеству детей. Если анамальному значению -1 соответствуют семьи с 1 ребёнком, то необходимо сделать соответствующие изменения в проекте"
   ]
  },
  {
   "cell_type": "markdown",
   "metadata": {},
   "source": [
    "Есть ли зависимость между семейным положением и возвратом кредита в срок?"
   ]
  },
  {
   "cell_type": "code",
   "execution_count": 86,
   "metadata": {},
   "outputs": [
    {
     "data": {
      "text/html": [
       "<div>\n",
       "<style scoped>\n",
       "    .dataframe tbody tr th:only-of-type {\n",
       "        vertical-align: middle;\n",
       "    }\n",
       "\n",
       "    .dataframe tbody tr th {\n",
       "        vertical-align: top;\n",
       "    }\n",
       "\n",
       "    .dataframe thead tr th {\n",
       "        text-align: left;\n",
       "    }\n",
       "\n",
       "    .dataframe thead tr:last-of-type th {\n",
       "        text-align: right;\n",
       "    }\n",
       "</style>\n",
       "<table border=\"1\" class=\"dataframe\">\n",
       "  <thead>\n",
       "    <tr>\n",
       "      <th></th>\n",
       "      <th>count</th>\n",
       "      <th>sum</th>\n",
       "      <th>ratio</th>\n",
       "    </tr>\n",
       "    <tr>\n",
       "      <th></th>\n",
       "      <th>debt</th>\n",
       "      <th>debt</th>\n",
       "      <th></th>\n",
       "    </tr>\n",
       "    <tr>\n",
       "      <th>family_status</th>\n",
       "      <th></th>\n",
       "      <th></th>\n",
       "      <th></th>\n",
       "    </tr>\n",
       "  </thead>\n",
       "  <tbody>\n",
       "    <tr>\n",
       "      <td>в разводе</td>\n",
       "      <td>1163</td>\n",
       "      <td>84</td>\n",
       "      <td>0.072227</td>\n",
       "    </tr>\n",
       "    <tr>\n",
       "      <td>вдовец / вдова</td>\n",
       "      <td>935</td>\n",
       "      <td>61</td>\n",
       "      <td>0.065241</td>\n",
       "    </tr>\n",
       "    <tr>\n",
       "      <td>гражданский брак</td>\n",
       "      <td>4046</td>\n",
       "      <td>376</td>\n",
       "      <td>0.092931</td>\n",
       "    </tr>\n",
       "    <tr>\n",
       "      <td>женат / замужем</td>\n",
       "      <td>12058</td>\n",
       "      <td>913</td>\n",
       "      <td>0.075717</td>\n",
       "    </tr>\n",
       "    <tr>\n",
       "      <td>не женат / не замужем</td>\n",
       "      <td>2755</td>\n",
       "      <td>271</td>\n",
       "      <td>0.098367</td>\n",
       "    </tr>\n",
       "  </tbody>\n",
       "</table>\n",
       "</div>"
      ],
      "text/plain": [
       "                       count  sum     ratio\n",
       "                        debt debt          \n",
       "family_status                              \n",
       "в разводе               1163   84  0.072227\n",
       "вдовец / вдова           935   61  0.065241\n",
       "гражданский брак        4046  376  0.092931\n",
       "женат / замужем        12058  913  0.075717\n",
       "не женат / не замужем   2755  271  0.098367"
      ]
     },
     "execution_count": 86,
     "metadata": {},
     "output_type": "execute_result"
    }
   ],
   "source": [
    "grouped_data_by_family=data.groupby('family_status').agg({'debt':['count','sum']})\n",
    "grouped_data_by_family['ratio']=grouped_data_by_family['debt']['sum']/grouped_data_by_family['debt']['count']\n",
    "#grouped_data_by_family\n",
    "\n",
    "pivot_table_by_family=pd.pivot_table(data, index=['family_status'], values=['debt'], aggfunc=['count','sum'])\n",
    "pivot_table_by_family['ratio']=pivot_table_by_family['sum']['debt']/pivot_table_by_family['count']['debt']\n",
    "pivot_table_by_family"
   ]
  },
  {
   "cell_type": "markdown",
   "metadata": {},
   "source": [
    "### Вывод"
   ]
  },
  {
   "cell_type": "markdown",
   "metadata": {},
   "source": [
    "- Статистика показывает, что супругу(е), свойственно реже пропускать дни платежей по кредиту (возможно, наследство, оставшееся от умершего партнёра, позволяет проще планировать бюджет по статье возвращения кредитных денег)\n",
    "- Парам с зарегестрированными семейными отношениями свойстве чаще соблюдать срок выплат по кредиту, чем семьям с неузаконенными отношениями.\n",
    "- Люди в разводе платят по кредитам наравне с семьями, в которых узаконены семейные отношения (в случае развода и имущество и долги платятся пополам)\n",
    "- Наиболее злостными неплотельщиками по кредитам являются люди без постоянного партнёра. Возможно, отсутствие финансового плеча, в виде супруга/супруги не позволяет им планировать платежи по кредиту\n",
    "- Люди в гражданском браке также часто как и холостые/незамужние пропускают платежи по кредуту. Возможно таже самая причина"
   ]
  },
  {
   "cell_type": "markdown",
   "metadata": {},
   "source": [
    "- Есть ли зависимость между уровнем дохода и возвратом кредита в срок?"
   ]
  },
  {
   "cell_type": "code",
   "execution_count": 87,
   "metadata": {},
   "outputs": [
    {
     "data": {
      "text/html": [
       "<div>\n",
       "<style scoped>\n",
       "    .dataframe tbody tr th:only-of-type {\n",
       "        vertical-align: middle;\n",
       "    }\n",
       "\n",
       "    .dataframe tbody tr th {\n",
       "        vertical-align: top;\n",
       "    }\n",
       "\n",
       "    .dataframe thead tr th {\n",
       "        text-align: left;\n",
       "    }\n",
       "\n",
       "    .dataframe thead tr:last-of-type th {\n",
       "        text-align: right;\n",
       "    }\n",
       "</style>\n",
       "<table border=\"1\" class=\"dataframe\">\n",
       "  <thead>\n",
       "    <tr>\n",
       "      <th></th>\n",
       "      <th>count</th>\n",
       "      <th>sum</th>\n",
       "      <th>ratio</th>\n",
       "    </tr>\n",
       "    <tr>\n",
       "      <th></th>\n",
       "      <th>debt</th>\n",
       "      <th>debt</th>\n",
       "      <th></th>\n",
       "    </tr>\n",
       "    <tr>\n",
       "      <th>total_income_type</th>\n",
       "      <th></th>\n",
       "      <th></th>\n",
       "      <th></th>\n",
       "    </tr>\n",
       "  </thead>\n",
       "  <tbody>\n",
       "    <tr>\n",
       "      <td>высокий</td>\n",
       "      <td>5239</td>\n",
       "      <td>377</td>\n",
       "      <td>0.071960</td>\n",
       "    </tr>\n",
       "    <tr>\n",
       "      <td>низкий</td>\n",
       "      <td>5239</td>\n",
       "      <td>419</td>\n",
       "      <td>0.079977</td>\n",
       "    </tr>\n",
       "    <tr>\n",
       "      <td>средний</td>\n",
       "      <td>10479</td>\n",
       "      <td>909</td>\n",
       "      <td>0.086745</td>\n",
       "    </tr>\n",
       "  </tbody>\n",
       "</table>\n",
       "</div>"
      ],
      "text/plain": [
       "                   count  sum     ratio\n",
       "                    debt debt          \n",
       "total_income_type                      \n",
       "высокий             5239  377  0.071960\n",
       "низкий              5239  419  0.079977\n",
       "средний            10479  909  0.086745"
      ]
     },
     "execution_count": 87,
     "metadata": {},
     "output_type": "execute_result"
    }
   ],
   "source": [
    "grouped_data_by_income=data.groupby('total_income_type').agg({'debt':['count','sum']})\n",
    "grouped_data_by_income['ratio']=grouped_data_by_family['debt']['sum']/grouped_data_by_family['debt']['count']\n",
    "#grouped_data_by_income\n",
    "\n",
    "pivot_table_by_income=pd.pivot_table(data, index=['total_income_type'], values=['debt'], aggfunc=['count','sum'])\n",
    "pivot_table_by_income['ratio']=pivot_table_by_income['sum']['debt']/pivot_table_by_income['count']['debt']\n",
    "pivot_table_by_income"
   ]
  },
  {
   "cell_type": "markdown",
   "metadata": {},
   "source": [
    "### Вывод"
   ]
  },
  {
   "cell_type": "markdown",
   "metadata": {},
   "source": [
    "- Людям с высокими доходами не свойственно пропускать платежи по кредиту (возможно, во-первых, они боятся за свой авторитет и имидж, а во-вторых, умеют планировать бюджет)\n",
    "- Люди с низким доходом также пытаются вовремя платить по креду (возможно, опасаются приставов, арестов имущества и штрафов (пени) за просрочку)"
   ]
  },
  {
   "cell_type": "markdown",
   "metadata": {},
   "source": [
    "- Как разные цели кредита влияют на его возврат в срок?"
   ]
  },
  {
   "cell_type": "code",
   "execution_count": 88,
   "metadata": {},
   "outputs": [
    {
     "data": {
      "text/html": [
       "<div>\n",
       "<style scoped>\n",
       "    .dataframe tbody tr th:only-of-type {\n",
       "        vertical-align: middle;\n",
       "    }\n",
       "\n",
       "    .dataframe tbody tr th {\n",
       "        vertical-align: top;\n",
       "    }\n",
       "\n",
       "    .dataframe thead tr th {\n",
       "        text-align: left;\n",
       "    }\n",
       "\n",
       "    .dataframe thead tr:last-of-type th {\n",
       "        text-align: right;\n",
       "    }\n",
       "</style>\n",
       "<table border=\"1\" class=\"dataframe\">\n",
       "  <thead>\n",
       "    <tr>\n",
       "      <th></th>\n",
       "      <th>count</th>\n",
       "      <th>sum</th>\n",
       "      <th>ratio</th>\n",
       "    </tr>\n",
       "    <tr>\n",
       "      <th></th>\n",
       "      <th>debt</th>\n",
       "      <th>debt</th>\n",
       "      <th></th>\n",
       "    </tr>\n",
       "    <tr>\n",
       "      <th>lemmas</th>\n",
       "      <th></th>\n",
       "      <th></th>\n",
       "      <th></th>\n",
       "    </tr>\n",
       "  </thead>\n",
       "  <tbody>\n",
       "    <tr>\n",
       "      <td>автомобиль</td>\n",
       "      <td>4210</td>\n",
       "      <td>393</td>\n",
       "      <td>0.093349</td>\n",
       "    </tr>\n",
       "    <tr>\n",
       "      <td>жилье</td>\n",
       "      <td>3763</td>\n",
       "      <td>267</td>\n",
       "      <td>0.070954</td>\n",
       "    </tr>\n",
       "    <tr>\n",
       "      <td>коммерческий</td>\n",
       "      <td>1281</td>\n",
       "      <td>97</td>\n",
       "      <td>0.075722</td>\n",
       "    </tr>\n",
       "    <tr>\n",
       "      <td>недвижимость</td>\n",
       "      <td>4919</td>\n",
       "      <td>369</td>\n",
       "      <td>0.075015</td>\n",
       "    </tr>\n",
       "    <tr>\n",
       "      <td>образование</td>\n",
       "      <td>3927</td>\n",
       "      <td>367</td>\n",
       "      <td>0.093456</td>\n",
       "    </tr>\n",
       "    <tr>\n",
       "      <td>ремонт</td>\n",
       "      <td>597</td>\n",
       "      <td>35</td>\n",
       "      <td>0.058626</td>\n",
       "    </tr>\n",
       "    <tr>\n",
       "      <td>свадьба</td>\n",
       "      <td>2260</td>\n",
       "      <td>177</td>\n",
       "      <td>0.078319</td>\n",
       "    </tr>\n",
       "  </tbody>\n",
       "</table>\n",
       "</div>"
      ],
      "text/plain": [
       "             count  sum     ratio\n",
       "              debt debt          \n",
       "lemmas                           \n",
       "автомобиль    4210  393  0.093349\n",
       "жилье         3763  267  0.070954\n",
       "коммерческий  1281   97  0.075722\n",
       "недвижимость  4919  369  0.075015\n",
       "образование   3927  367  0.093456\n",
       "ремонт         597   35  0.058626\n",
       "свадьба       2260  177  0.078319"
      ]
     },
     "execution_count": 88,
     "metadata": {},
     "output_type": "execute_result"
    }
   ],
   "source": [
    "grouped_data_by_purpose=data.groupby('lemmas').agg({'debt':['count','sum']})\n",
    "grouped_data_by_purpose['ratio']=grouped_data_by_family['debt']['sum']/grouped_data_by_family['debt']['count']\n",
    "#grouped_data_by_purpose\n",
    "\n",
    "pivot_table_by_purpose=pd.pivot_table(data, index=['lemmas'], values=['debt'], aggfunc=['count','sum'])\n",
    "pivot_table_by_purpose['ratio']=pivot_table_by_purpose['sum']['debt']/pivot_table_by_purpose['count']['debt']\n",
    "pivot_table_by_purpose"
   ]
  },
  {
   "cell_type": "markdown",
   "metadata": {},
   "source": [
    "### Вывод"
   ]
  },
  {
   "cell_type": "markdown",
   "metadata": {},
   "source": [
    "- кредиты на автомобили и образование чаще остальных оплачиваются с просрочкой. Возможно причина в том, что данные категории товаров являются долгоокупаемыми.\n",
    "- кредиты на оплату ремонта, чаще остальных оплачиваются вовремя. Возможно необходимость планирования денег, ресурсов и в времени заставляет людей более серьёзно относиться к оплате кредитов\n",
    "- кредиты на жильё, комерческую недвижимость и жилую недвижимость (возможно второе или третье) и свадьбу имеют примерно одинаковую вероятность быть оплаченными вовремя. Однако кредит на жильё (ипотека на единственное жильё), как правило, чаще остальных из данной группы оплачивается вовремя"
   ]
  },
  {
   "cell_type": "markdown",
   "metadata": {},
   "source": [
    "<div style=\"border:solid  red  2px; padding: 20px\"> <h1 style=\"color: red ; margin-bottom:20px\">Комментарий наставника</h1>\n",
    "\n",
    "Выводы все правильные, молодец, но задание лучше было бы выполнить используя сводные таблицы\n"
   ]
  },
  {
   "cell_type": "markdown",
   "metadata": {},
   "source": [
    "Надеюсь сейчас правильно написал"
   ]
  },
  {
   "cell_type": "markdown",
   "metadata": {},
   "source": [
    "<div style=\"border:solid green 2px; padding: 20px\"> <h1 style=\"color:green; margin-bottom:20px\">Комментарий наставника</h1>\n",
    "\n",
    "Все выводы верны, код написан правильно, радует, что используешь сводные таблицы)\n"
   ]
  },
  {
   "cell_type": "markdown",
   "metadata": {},
   "source": [
    "### Шаг 4. Общий вывод"
   ]
  },
  {
   "cell_type": "code",
   "execution_count": 119,
   "metadata": {},
   "outputs": [
    {
     "name": "stdout",
     "output_type": "stream",
     "text": [
      "недвижимость    23.471871\n",
      "автомобиль      20.088753\n",
      "образование     18.738369\n",
      "жилье           17.955814\n",
      "свадьба         10.783986\n",
      "коммерческий     6.112516\n",
      "ремонт           2.848690\n",
      "Name: lemmas, dtype: float64\n"
     ]
    }
   ],
   "source": [
    "#fill_grouped_data.mean().describe()\n",
    "#Цели в процентах\n",
    "print(purpose/purpose.sum()*100)"
   ]
  },
  {
   "cell_type": "markdown",
   "metadata": {},
   "source": [
    "В ходе исследования надёжности заёмщиков были определены категории граждан, которые в большей степени склонны вовремя платить по кредитным займам\n",
    "\n",
    "Исходные данные содержали множество аномальных значений. Среди 21525 записей о клиентах было выявлено:\n",
    "- 2174 записи в которых остуствовали значения в графах общий трудовой стаж и ежемесячный доход (преимущественно отсутствовали записи \n",
    "- 71 повторяющаяся запись;\n",
    "- 1 запись, в которой отсутствовал пол клиента (запись удалена из финального набора данных)\n",
    "- 47 записей с количеством детей, равным -1\n",
    "- 76 записей с количеством детей, равным 20\n",
    "\n",
    "Заполнение пустых значений осуществлялось по следующей методике. Из генеральной совокупности данных производилась выборка строк, в которых нет пустых атрибутов. Данная выборка группировалось по типу работников и создавалась новая таблица в которой содержалась информация о максимальных и минимальных значениях по столбцам трудового стажа и дохода. На основании того, что в таблице разброс между максимумов и минимумом велик (для стажа СКО=170 237 дней/часов, а для дохода 136060 рублей), было принято решения заполнять по средним значениями для каждой категории (среднее по всем категориям 89897 дней и 181794 рублей). \n",
    "Все повторяющиеся записи были удалены. Предполагаемая причина их появления - один и тот же клиент с одним и тем же заявлением несколько раз был занесён в БД.\n",
    "Для записей, у которых количество детей равно -1 было принято решения заменить на 0. Записи, в которых количество детей равно 20 остались без изменений. Фактическую природу этих данных необходимо уточнить. Возможно 20 детей соответствует записи с 2 детьми, а -1 - 1.\n",
    "\n",
    "При последующих выгрузках из данной базы (баз) следует уделить внимание к таким параметрам как:\n",
    "- уровень образования\n",
    "- общий трудовой стаж\n",
    "В столбце уровень образовани было обнаружено 1093 записей с буквами в верхнем регистре. Столбец с струдовым стажем, помимо обозначенных выше проблем с отсутсвующими значениями, содержит множество строк (15906) с отрицательными значениями. В рамках данного анализа данных отрицательные значения были взяты по модулю, однако следует уточнить истинную природу данной ошибки.\n",
    "Также при анализе данных была обнаружено, что у некоторых клиенттов общий трудовой стаж (его размерность по условию исчисляется в днях) больше возраста клиента в десятки раз. Для устранения данной ошибки в анализе было принято следующие преобразование: для клиентов, у которых разница между стажем в годах и фактическим возрастом меньше 10, размерность указана в часах. Как показывает анализ данных, неверный формат записи о стаже указан неправильно для пенсионеров (3836) и безработных (2)\n",
    "\n",
    "Наиболее частым целями на кредит среди представляенных записей являются:\n",
    "- недвижимость    23%\n",
    "- автомобиль      20%\n",
    "- образование     19%\n",
    "- жилье           18%\n",
    "- свадьба         11%\n",
    "- коммерческий     6%\n",
    "- ремонт           3%\n",
    "\n",
    "Наиболее предпочтительное кредитуемое лицо - это вдовец/вдова (6,52%), у которого нет детей (7,55%), доход больше 196 тыс. руб (7,19%) и цель его кредита - сделать ремонт в квартире (5,86%). В скобках указана вероятность просрочки по кредитному платежу \n",
    "\n"
   ]
  },
  {
   "cell_type": "markdown",
   "metadata": {},
   "source": [
    "<div style=\"border:solid  red  2px; padding: 20px\"> <h1 style=\"color: red ; margin-bottom:20px\">Комментарий наставника</h1>\n",
    "\n",
    "Требуется написать общий вывод из проделанной работы со всеми результатами и гипотезами, которые были выведены в результате.Так же в выводе можешь указать рекомендации по использованию данного анализа в будущем и так же можно приветси цифры, полученные в ходе работы, для большей наглядности\n"
   ]
  },
  {
   "cell_type": "markdown",
   "metadata": {},
   "source": [
    "Лучше?"
   ]
  },
  {
   "cell_type": "markdown",
   "metadata": {},
   "source": [
    "<div style=\"border:solid green 2px; padding: 20px\"> <h1 style=\"color:green; margin-bottom:20px\">Комментарий наставника</h1>\n",
    "\n",
    "Намного лучше!) Точные и обоснованные выводы, супер)"
   ]
  },
  {
   "cell_type": "markdown",
   "metadata": {},
   "source": [
    "<div style=\"border:solid  orange  2px; padding: 20px\"> <h1 style=\"color: orange ; margin-bottom:20px\">Комментарий наставника</h1>\n",
    "\n",
    "Работа хорошая, но стоит исправить обозначенные неточности, буду ждать исправленный вариант, удачи!)\n"
   ]
  },
  {
   "cell_type": "markdown",
   "metadata": {},
   "source": [
    "### Чек-лист готовности проекта\n",
    "\n",
    "Поставьте 'x' в выполненных пунктах. Далее нажмите Shift+Enter."
   ]
  },
  {
   "cell_type": "markdown",
   "metadata": {},
   "source": [
    "- [x]  открыт файл;\n",
    "- [x]  файл изучен;\n",
    "- [x]  определены пропущенные значения;\n",
    "- [x]  заполнены пропущенные значения;\n",
    "- [x]  есть пояснение какие пропущенные значения обнаружены;\n",
    "- [x]  описаны возможные причины появления пропусков в данных;\n",
    "- [x]  объяснено по какому принципу заполнены пропуски;\n",
    "- [x]  заменен вещественный тип данных на целочисленный;\n",
    "- [x]  есть пояснение какой метод используется для изменения типа данных и почему;\n",
    "- [x]  удалены дубликаты;\n",
    "- [x]  есть пояснение какой метод используется для поиска и удаления дубликатов;\n",
    "- [x]  описаны возможные причины появления дубликатов в данных;\n",
    "- [x]  выделены леммы в значениях столбца с целями получения кредита;\n",
    "- [x]  описан процесс лемматизации;\n",
    "- [x]  данные категоризированы;\n",
    "- [x]  есть объяснение принципа категоризации данных;\n",
    "- [x]  есть ответ на вопрос \"Есть ли зависимость между наличием детей и возвратом кредита в срок?\";\n",
    "- [x]  есть ответ на вопрос \"Есть ли зависимость между семейным положением и возвратом кредита в срок?\";\n",
    "- [x]  есть ответ на вопрос \"Есть ли зависимость между уровнем дохода и возвратом кредита в срок?\";\n",
    "- [x]  есть ответ на вопрос \"Как разные цели кредита влияют на его возврат в срок?\";\n",
    "- [x]  в каждом этапе есть выводы;\n",
    "- [x]  есть общий вывод."
   ]
  },
  {
   "cell_type": "markdown",
   "metadata": {},
   "source": [
    "<div style=\"border:solid  green  2px; padding: 20px\"> <h1 style=\"color: green ; margin-bottom:20px\">Комментарий наставника</h1>\n",
    "\n",
    "#### Код\n",
    "\n",
    "Всё отлично. Из того, что очень порадовало - соблюдена структура проекта, шаги из задания обозначены и выполнены последовательно, код написан аккуратно, используются комментарии к коду, быстро можно понять, какие операции выполняют сложные конструкции. В качестве совета предлагаю глубже изучить и начать чаще применять конструкцию try-except в решении задачи — это улучшит отказоустойчивость кода и обезопасит код от поломок в будущем, а так же изучить средства для построения изображений в Python для более глубокого понимания данных.\n",
    "#### Выводы\n",
    "\n",
    "У тебя отлично получается анализировать сложные данные, выдвигать корректные гипотезы и проверять свои выводы на возможность соответствия реальности. Видно глубокое понимание сути проведённого анализа. Было очень интересно проверять твой проект и следить за твоей мыслью, так держать!)\n",
    "Работа принята!) Очень рад, что у тебя всё получилось и надеюсь тебе понравится весь курс, будь усерден и у тебя всё получится! Удачи в будущих проектах)\n"
   ]
  },
  {
   "cell_type": "markdown",
   "metadata": {},
   "source": [
    "<div style=\"border:solid  green  2px; padding: 20px\"> <h1 style=\"color: green ; margin-bottom:20px\">Комментарий наставника</h1>\n",
    "Работа принята!) Очень рад, что у тебя всё получилось и надеюсь тебе понравится весь курс, будь усерден и у тебя всё получится! Удачи в будущих проектах)"
   ]
  },
  {
   "cell_type": "code",
   "execution_count": null,
   "metadata": {},
   "outputs": [],
   "source": []
  }
 ],
 "metadata": {
  "kernelspec": {
   "display_name": "Python 3",
   "language": "python",
   "name": "python3"
  },
  "language_info": {
   "codemirror_mode": {
    "name": "ipython",
    "version": 3
   },
   "file_extension": ".py",
   "mimetype": "text/x-python",
   "name": "python",
   "nbconvert_exporter": "python",
   "pygments_lexer": "ipython3",
   "version": "3.7.7"
  }
 },
 "nbformat": 4,
 "nbformat_minor": 2
}
